{
 "cells": [
  {
   "cell_type": "code",
   "execution_count": 65,
   "metadata": {},
   "outputs": [],
   "source": [
    "#Processing evcc block ack\n",
    "import csv\n",
    "import numpy as np\n",
    "\n",
    "with open('csv/DataLink/qos_30Mbps/qos_30Mbps_evcc_blockack.csv', newline='') as csvfile:\n",
    "    rows = csv.DictReader(csvfile)\n",
    "    startint_seq_num_block_ack = []\n",
    "    timelist_block_ack = []\n",
    "    \n",
    "    for row in rows:\n",
    "        startint_seq_num_block_ack.append(int(row['Starting Sequence Number']))\n",
    "        timelist_block_ack.append(float(row['Time']))"
   ]
  },
  {
   "cell_type": "code",
   "execution_count": 66,
   "metadata": {},
   "outputs": [
    {
     "name": "stdout",
     "output_type": "stream",
     "text": [
      "1086\n"
     ]
    }
   ],
   "source": [
    "#for debug\n",
    "if(len(startint_seq_num_block_ack) != len(timelist_block_ack)):\n",
    "    print(\"Error. Length is not equal.\")\n",
    "else:\n",
    "    print(len(timelist_block_ack))"
   ]
  },
  {
   "cell_type": "code",
   "execution_count": 67,
   "metadata": {},
   "outputs": [],
   "source": [
    "#Processing evcc send\n",
    "#Append missing SECC Discovery Req. time = 51.312512\n",
    "with open('csv/DataLink/qos_30Mbps/qos_30Mbps_evcc_send.csv', newline='') as csvfile:\n",
    "    rows = csv.DictReader(csvfile)\n",
    "    timelist_evcc_send = []\n",
    "    seq_num_evcc_send = []\n",
    "    data_length_evcc_send = []\n",
    "    info_evcc_send = []\n",
    "    frame_num_evcc_send = []\n",
    "    \n",
    "    for row in rows:\n",
    "        timelist_evcc_send.append(float(row['Time']))\n",
    "        seq_num_evcc_send.append(int(row['Sequence number']))\n",
    "        data_length_evcc_send.append(int(row['Data Length']))\n",
    "        info_evcc_send.append(str(row['Info']))\n",
    "        frame_num_evcc_send.append(int(row['No.']))"
   ]
  },
  {
   "cell_type": "code",
   "execution_count": 68,
   "metadata": {},
   "outputs": [
    {
     "name": "stdout",
     "output_type": "stream",
     "text": [
      "1233\n"
     ]
    }
   ],
   "source": [
    "#for debug\n",
    "if(len(timelist_evcc_send) != len(seq_num_evcc_send)):\n",
    "    print(\"Error. Length is not equal.\")\n",
    "elif(len(timelist_evcc_send) != len(data_length_evcc_send)):\n",
    "    print(\"Error. Length is not equal.\")\n",
    "elif(len(timelist_evcc_send) != len(info_evcc_send)):\n",
    "    print(\"Error. Length is not equal.\")\n",
    "elif(len(timelist_evcc_send) != len(frame_num_evcc_send)):\n",
    "    print(\"Error. Length is not equal.\")\n",
    "else:\n",
    "    print(len(timelist_evcc_send))"
   ]
  },
  {
   "cell_type": "code",
   "execution_count": 69,
   "metadata": {},
   "outputs": [],
   "source": [
    "timelist_evcc_send_split = []\n",
    "seq_num_evcc_send_split = []\n",
    "data_length_evcc_send_split = []\n",
    "info_evcc_send_split = []\n",
    "frame_num_evcc_send_split = []\n",
    "\n",
    "round_start_point = 0\n",
    "round_end_point = 0\n",
    "\n",
    "sdpreq_index_list = []\n",
    "#Fetch first packet index of data length = 74 (SDP request) in each round\n",
    "for i in range(0, len(data_length_evcc_send)):\n",
    "    if(i == 0 and data_length_evcc_send[i] == 74):\n",
    "        sdpreq_index_list.append(i)\n",
    "    if(i > 0 and data_length_evcc_send[i] == 74 and data_length_evcc_send[i-1] != 74):\n",
    "        sdpreq_index_list.append(i)\n",
    "sdpreq_index_list.append(len(data_length_evcc_send)) #Add the end of list index\n",
    "\n",
    "for i in range(0, len(sdpreq_index_list)-1):\n",
    "    timelist_evcc_send_split.append([timelist_evcc_send[j] for j in range(sdpreq_index_list[i], sdpreq_index_list[i+1])])\n",
    "    seq_num_evcc_send_split.append([seq_num_evcc_send[j] for j in range(sdpreq_index_list[i], sdpreq_index_list[i+1])])\n",
    "    data_length_evcc_send_split.append([data_length_evcc_send[j] for j in range(sdpreq_index_list[i], sdpreq_index_list[i+1])])\n",
    "    info_evcc_send_split.append([info_evcc_send[j] for j in range(sdpreq_index_list[i], sdpreq_index_list[i+1])])\n",
    "    frame_num_evcc_send_split.append([frame_num_evcc_send[j] for j in range(sdpreq_index_list[i], sdpreq_index_list[i+1])])"
   ]
  },
  {
   "cell_type": "code",
   "execution_count": 70,
   "metadata": {},
   "outputs": [
    {
     "name": "stdout",
     "output_type": "stream",
     "text": [
      "19\n"
     ]
    }
   ],
   "source": [
    "#for debug\n",
    "if(len(timelist_evcc_send_split) != len(seq_num_evcc_send_split)):\n",
    "    print(\"Error. Length is not equal.\")\n",
    "elif(len(timelist_evcc_send_split) != len(data_length_evcc_send_split)):\n",
    "    print(\"Error. Length is not equal.\")\n",
    "elif(len(timelist_evcc_send_split) != len(info_evcc_send_split)):\n",
    "    print(\"Error. Length is not equal.\")\n",
    "elif(len(timelist_evcc_send_split) != len(frame_num_evcc_send_split)):\n",
    "    print(\"Error. Length is not equal.\")\n",
    "else:\n",
    "    print(len(timelist_evcc_send_split)) #Output # of testing rounds"
   ]
  },
  {
   "cell_type": "code",
   "execution_count": 71,
   "metadata": {},
   "outputs": [
    {
     "name": "stdout",
     "output_type": "stream",
     "text": [
      "i = 1, 22.518279000000003\n",
      "i = 2, 21.096916\n",
      "i = 3, 21.398726000000003\n",
      "i = 4, 21.913573999999997\n",
      "i = 5, 21.503885999999994\n",
      "i = 6, 21.30185200000001\n",
      "i = 7, 22.12078599999998\n",
      "i = 8, 22.22153800000001\n",
      "i = 9, 20.883455999999995\n",
      "i = 10, 21.369843000000003\n",
      "i = 11, 46.11132600000002\n",
      "i = 12, 20.789945999999986\n",
      "i = 13, 21.399445000000014\n",
      "i = 14, 20.684721999999965\n",
      "i = 15, 11.365552000000037\n",
      "i = 16, 20.841226000000006\n",
      "i = 17, 21.698972999999967\n",
      "i = 18, 21.564260999999988\n"
     ]
    }
   ],
   "source": [
    "#for debug, this is ideally the time of each testing round\n",
    "for i in range(1, len(timelist_evcc_send_split)):\n",
    "    print(\"i = \" + str(i) + \", \"  + str(timelist_evcc_send_split[i][0]-timelist_evcc_send_split[i-1][0]))"
   ]
  },
  {
   "cell_type": "code",
   "execution_count": 72,
   "metadata": {},
   "outputs": [
    {
     "name": "stdout",
     "output_type": "stream",
     "text": [
      "i = 0, 16.646244\n",
      "i = 1, 39.164523\n",
      "i = 2, 60.261439\n",
      "i = 3, 81.660165\n",
      "i = 4, 103.573739\n",
      "i = 5, 125.077625\n",
      "i = 6, 146.379477\n",
      "i = 7, 168.500263\n",
      "i = 8, 190.721801\n",
      "i = 9, 211.605257\n",
      "i = 10, 232.9751\n",
      "i = 11, 279.086426\n",
      "i = 12, 299.876372\n",
      "i = 13, 321.275817\n",
      "i = 14, 341.960539\n",
      "i = 15, 353.326091\n",
      "i = 16, 374.167317\n",
      "i = 17, 395.86629\n",
      "i = 18, 417.430551\n"
     ]
    }
   ],
   "source": [
    "#for debug\n",
    "for i in range(0, len(timelist_evcc_send_split)):\n",
    "    print(\"i = \" + str(i) + \", \" + str(timelist_evcc_send_split[i][0]))"
   ]
  },
  {
   "cell_type": "code",
   "execution_count": null,
   "metadata": {},
   "outputs": [],
   "source": [
    "#Set evcc time anchor in each round per stage\n",
    "evcc_send_time_anchor = []\n",
    "#data_length_in_each_stage = [74, 96, 189, 173, 173, 173, 185, 461, 189, 173]\n",
    "wierd_packet = {}\n",
    "packet_loss_testing_round_3_flag = False\n",
    "\n",
    "def printinfo(stageNum, frameNum, info_string):\n",
    "    print(\"-----------------------------------------\")\n",
    "    print(\"Stage \" + str(stageNum) + \" finish. No. \" + str(frameNum) + \", Info \" + str(info_string))\n",
    "\n",
    "def print_time_difference(evcc_send_time_anchor_each_round):\n",
    "    print(\"Time difference: \" + str(evcc_send_time_anchor_each_round[len(evcc_send_time_anchor_each_round)-1]-\n",
    "                          evcc_send_time_anchor_each_round[len(evcc_send_time_anchor_each_round)-2]))\n",
    "    \n",
    "def checkstage_num(stageNum, valid_stageNum, info_string, time_string, datalen, seqnum, frameNum):\n",
    "    if(stageNum == valid_stageNum):\n",
    "        check_wield_packet_list(frameNum)\n",
    "        return True\n",
    "    else:\n",
    "        #debug\n",
    "        print(\"\\nFalse\")\n",
    "        print(\"Stage Num = \" + str(stageNum))\n",
    "        print(\"Valid Stage Num = \" + str(valid_stageNum))\n",
    "        print(\"What is this packet? Data Length = \" + str(datalen) + \" No. \" + str(frameNum))\n",
    "        print(\"Time \" + str(time_string) + \" #Seq \" + str(seqnum) + \" Info \" + str(info_string) + \"\\n\")\n",
    "        wierd_packet[frameNum] = [datalen, stageNum]\n",
    "        return False\n",
    "\n",
    "def check_wield_packet_list(frameNum):\n",
    "    if(wierd_packet.get(frameNum) != None):\n",
    "        del wierd_packet[frameNum]\n",
    "        print(\"\\nNo. \" + str(frameNum) + \" has been found. Delete from wierd list.\\n\")\n",
    "    \n",
    "for i in range(0, len(data_length_evcc_send_split)):\n",
    "#for i in [7]:\n",
    "    print(\"\\n-------- Test Round \" + str(i+1) + \" --------\")\n",
    "    #Stage 1\n",
    "    evcc_send_time_anchor_each_round = [timelist_evcc_send_split[i][0]]\n",
    "    stageNum = 1\n",
    "    printinfo(stageNum, frame_num_evcc_send_split[i][0], info_evcc_send_split[i][0])\n",
    "    stageNum = stageNum + 1\n",
    "    \n",
    "    for j in range(1, len(data_length_evcc_send_split[i])):\n",
    "        #Stage 2\n",
    "        if(data_length_evcc_send_split[i][j] == 96 and data_length_evcc_send_split[i][j-1] != 96):\n",
    "            if(checkstage_num(stageNum, 2, info_evcc_send_split[i][j],\n",
    "                                  timelist_evcc_send_split[i][j], data_length_evcc_send_split[i][j],\n",
    "                                  seq_num_evcc_send_split[i][j], frame_num_evcc_send_split[i][j])):\n",
    "                evcc_send_time_anchor_each_round.append(timelist_evcc_send_split[i][j])\n",
    "                printinfo(stageNum, frame_num_evcc_send_split[i][j], info_evcc_send_split[i][j])\n",
    "                print_time_difference(evcc_send_time_anchor_each_round)\n",
    "                stageNum = stageNum + 1\n",
    "                \n",
    "                continue\n",
    "                \n",
    "        #Stage 3\n",
    "        if(data_length_evcc_send_split[i][j] == 189 and data_length_evcc_send_split[i][j-1] != 189):\n",
    "            if(checkstage_num(stageNum, 3, info_evcc_send_split[i][j],\n",
    "                                  timelist_evcc_send_split[i][j], data_length_evcc_send_split[i][j],\n",
    "                                  seq_num_evcc_send_split[i][j], frame_num_evcc_send_split[i][j])):\n",
    "                evcc_send_time_anchor_each_round.append(timelist_evcc_send_split[i][j])\n",
    "                printinfo(stageNum, frame_num_evcc_send_split[i][j], info_evcc_send_split[i][j])\n",
    "                print_time_difference(evcc_send_time_anchor_each_round)\n",
    "                stageNum = stageNum + 1\n",
    "                \n",
    "                continue\n",
    "                \n",
    "        #Stage 4 \n",
    "        if(data_length_evcc_send_split[i][j] == 173 and data_length_evcc_send_split[i][j-1] != 173):\n",
    "            \n",
    "            #if(info_evcc_send_split[i][j][-2:] == 'TC'):\n",
    "            if(checkstage_num(stageNum, 4, info_evcc_send_split[i][j],\n",
    "                                  timelist_evcc_send_split[i][j], data_length_evcc_send_split[i][j],\n",
    "                                  seq_num_evcc_send_split[i][j], frame_num_evcc_send_split[i][j])):\n",
    "                evcc_send_time_anchor_each_round.append(timelist_evcc_send_split[i][j])\n",
    "                printinfo(stageNum, frame_num_evcc_send_split[i][j], info_evcc_send_split[i][j])\n",
    "                print_time_difference(evcc_send_time_anchor_each_round)\n",
    "                stageNum = stageNum + 1\n",
    "                continue\n",
    "            \n",
    "        #Stage 5, tricky\n",
    "        if(data_length_evcc_send_split[i][j] == 173):    \n",
    "            if(info_evcc_send_split[i][j][-2:] == 'TC'):\n",
    "                if(checkstage_num(stageNum, 5, info_evcc_send_split[i][j],\n",
    "                                      timelist_evcc_send_split[i][j], data_length_evcc_send_split[i][j],\n",
    "                                      seq_num_evcc_send_split[i][j], frame_num_evcc_send_split[i][j])):\n",
    "                    evcc_send_time_anchor_each_round.append(timelist_evcc_send_split[i][j])\n",
    "                    printinfo(stageNum, frame_num_evcc_send_split[i][j], info_evcc_send_split[i][j])\n",
    "                    print_time_difference(evcc_send_time_anchor_each_round)\n",
    "                    stageNum = stageNum + 1\n",
    "                    \n",
    "                    continue\n",
    "            \n",
    "            else: #info_evcc_send_split[i][j][-2:] == 'FC'\n",
    "                #Backward checking 2 packets\n",
    "                isTCfound = False\n",
    "                for k in range(1, 3):\n",
    "                    if(data_length_evcc_send_split[i][j-k] == 173 and info_evcc_send_split[i][j-k][-2:] == 'TC'):\n",
    "                        isTCfound = True\n",
    "                        break\n",
    "                if(info_evcc_send_split[i][j][-5:] == 'R.F.C'):\n",
    "                    isTCfound = True\n",
    "                \n",
    "                if(not isTCfound):\n",
    "                    if(checkstage_num(stageNum, 5, info_evcc_send_split[i][j],\n",
    "                                      timelist_evcc_send_split[i][j], data_length_evcc_send_split[i][j],\n",
    "                                      seq_num_evcc_send_split[i][j], frame_num_evcc_send_split[i][j])):\n",
    "                        print(\"Stage \" + str(stageNum) +\n",
    "                            \", Not TC? No. \" + str(frame_num_evcc_send_split[i][j]) +\n",
    "                            \", Data length \" + str(data_length_evcc_send_split[i][j]) +\n",
    "                            \", Info \" + str(info_evcc_send_split[i][j]) + \" , Count FC because TC cannot be found.\")\n",
    "                        evcc_send_time_anchor_each_round.append(timelist_evcc_send_split[i][j])\n",
    "                        printinfo(stageNum, frame_num_evcc_send_split[i][j], info_evcc_send_split[i][j])\n",
    "                        print_time_difference(evcc_send_time_anchor_each_round)\n",
    "                        stageNum = stageNum + 1    \n",
    "                        \n",
    "                        continue\n",
    "                \n",
    "        #Stage 6, tricky\n",
    "        if(data_length_evcc_send_split[i][j] == 173):\n",
    "            if(info_evcc_send_split[i][j][-2:] == 'TC'):\n",
    "                if(checkstage_num(stageNum, 6, info_evcc_send_split[i][j],\n",
    "                                      timelist_evcc_send_split[i][j], data_length_evcc_send_split[i][j],\n",
    "                                      seq_num_evcc_send_split[i][j], frame_num_evcc_send_split[i][j])):\n",
    "                    evcc_send_time_anchor_each_round.append(timelist_evcc_send_split[i][j])\n",
    "                    printinfo(stageNum, frame_num_evcc_send_split[i][j], info_evcc_send_split[i][j])\n",
    "                    print_time_difference(evcc_send_time_anchor_each_round)\n",
    "                    stageNum = stageNum + 1\n",
    "                    \n",
    "                    continue\n",
    "                    \n",
    "            else: #info_evcc_send_split[i][j][-2:] == 'FC'\n",
    "                #Backward checking 2 packets\n",
    "                isTCfound = False\n",
    "                for k in range(1, 3):\n",
    "                    if(data_length_evcc_send_split[i][j-k] == 173 and info_evcc_send_split[i][j-k][-2:] == 'TC'):\n",
    "                        isTCfound = True\n",
    "                        break\n",
    "\n",
    "                if(not isTCfound):\n",
    "                    if(checkstage_num(stageNum, 6, info_evcc_send_split[i][j],\n",
    "                                      timelist_evcc_send_split[i][j], data_length_evcc_send_split[i][j],\n",
    "                                      seq_num_evcc_send_split[i][j], frame_num_evcc_send_split[i][j])):\n",
    "                        print(\"Stage \" + str(stageNum) +\n",
    "                            \", Not TC? No. \" + str(frame_num_evcc_send_split[i][j]) +\n",
    "                            \", Data length \" + str(data_length_evcc_send_split[i][j]) +\n",
    "                            \", Info \" + str(info_evcc_send_split[i][j]) + \" , Count FC because TC cannot be found.\")\n",
    "                        evcc_send_time_anchor_each_round.append(timelist_evcc_send_split[i][j])\n",
    "                        printinfo(stageNum, frame_num_evcc_send_split[i][j], info_evcc_send_split[i][j])\n",
    "                        print_time_difference(evcc_send_time_anchor_each_round)\n",
    "                        stageNum = stageNum + 1\n",
    "\n",
    "                        continue\n",
    "        \n",
    "        #Stage 7\n",
    "        if(data_length_evcc_send_split[i][j] == 185 and data_length_evcc_send_split[i][j-1] != 185):\n",
    "            if(checkstage_num(stageNum, 7, info_evcc_send_split[i][j],\n",
    "                                  timelist_evcc_send_split[i][j], data_length_evcc_send_split[i][j],\n",
    "                                  seq_num_evcc_send_split[i][j], frame_num_evcc_send_split[i][j])):\n",
    "                evcc_send_time_anchor_each_round.append(timelist_evcc_send_split[i][j])\n",
    "                printinfo(stageNum, frame_num_evcc_send_split[i][j], info_evcc_send_split[i][j])\n",
    "                print_time_difference(evcc_send_time_anchor_each_round)\n",
    "                stageNum = stageNum + 1\n",
    "                \n",
    "                continue\n",
    "                \n",
    "        #Stage 8\n",
    "        if(data_length_evcc_send_split[i][j] == 461 and data_length_evcc_send_split[i][j-1] != 461):\n",
    "            if(checkstage_num(stageNum, 8, info_evcc_send_split[i][j],\n",
    "                                  timelist_evcc_send_split[i][j], data_length_evcc_send_split[i][j],\n",
    "                                  seq_num_evcc_send_split[i][j], frame_num_evcc_send_split[i][j])):\n",
    "                evcc_send_time_anchor_each_round.append(timelist_evcc_send_split[i][j])\n",
    "                printinfo(stageNum, frame_num_evcc_send_split[i][j], info_evcc_send_split[i][j])\n",
    "                print_time_difference(evcc_send_time_anchor_each_round)\n",
    "                stageNum = stageNum + 1\n",
    "                continue\n",
    "        #Stage 9\n",
    "        if(data_length_evcc_send_split[i][j] == 189 and data_length_evcc_send_split[i][j-1] != 189):\n",
    "            if(checkstage_num(stageNum, 9, info_evcc_send_split[i][j],\n",
    "                                  timelist_evcc_send_split[i][j], data_length_evcc_send_split[i][j],\n",
    "                                  seq_num_evcc_send_split[i][j], frame_num_evcc_send_split[i][j])):\n",
    "                evcc_send_time_anchor_each_round.append(timelist_evcc_send_split[i][j])\n",
    "                printinfo(stageNum, frame_num_evcc_send_split[i][j], info_evcc_send_split[i][j])\n",
    "                print_time_difference(evcc_send_time_anchor_each_round)\n",
    "                stageNum = stageNum + 1\n",
    "                \n",
    "                #Deal with packet loss......\n",
    "                if(i == 2 and packet_loss_testing_round_3_flag == False):\n",
    "                    evcc_send_time_anchor_each_round.append(62.693)\n",
    "                    printinfo(stageNum, 271589, \"Packet Loss\")\n",
    "                    print_time_difference(evcc_send_time_anchor_each_round)\n",
    "                    stageNum = stageNum + 1\n",
    "                    packet_loss_testing_round_3_flag = True\n",
    "\n",
    "                continue\n",
    "                \n",
    "        #Stage 10\n",
    "        if(data_length_evcc_send_split[i][j] == 173 and data_length_evcc_send_split[i][j-1] != 173):\n",
    "            \n",
    "            if(info_evcc_send_split[i][j][-2:] == 'TC'):\n",
    "                if(checkstage_num(stageNum, 10, info_evcc_send_split[i][j],\n",
    "                                      timelist_evcc_send_split[i][j], data_length_evcc_send_split[i][j],\n",
    "                                      seq_num_evcc_send_split[i][j], frame_num_evcc_send_split[i][j])):\n",
    "                    evcc_send_time_anchor_each_round.append(timelist_evcc_send_split[i][j])\n",
    "                    printinfo(stageNum, frame_num_evcc_send_split[i][j], info_evcc_send_split[i][j])\n",
    "                    print_time_difference(evcc_send_time_anchor_each_round)\n",
    "                    stageNum = stageNum + 1\n",
    "                    \n",
    "            else: #info_evcc_send_split[i][j][-2:] == 'FC'\n",
    "                #Backward checking 2 packets\n",
    "                isTCfound = False\n",
    "                for k in range(1, 3):\n",
    "                    if(data_length_evcc_send_split[i][j-k] == 173 and info_evcc_send_split[i][j-k][-2:] == 'TC'):\n",
    "                        isTCfound = True\n",
    "                        break\n",
    "\n",
    "                if(not isTCfound):\n",
    "                    if(checkstage_num(stageNum, 10, info_evcc_send_split[i][j],\n",
    "                                      timelist_evcc_send_split[i][j], data_length_evcc_send_split[i][j],\n",
    "                                      seq_num_evcc_send_split[i][j], frame_num_evcc_send_split[i][j])):\n",
    "                        print(\"Stage \" + str(stageNum) +\n",
    "                            \", Not TC? No. \" + str(frame_num_evcc_send_split[i][j]) +\n",
    "                            \", Data length \" + str(data_length_evcc_send_split[i][j]) +\n",
    "                            \", Info \" + str(info_evcc_send_split[i][j]) + \" , Count FC because TC cannot be found.\")\n",
    "                        evcc_send_time_anchor_each_round.append(timelist_evcc_send_split[i][j])\n",
    "                        printinfo(stageNum, frame_num_evcc_send_split[i][j], info_evcc_send_split[i][j])\n",
    "                        print_time_difference(evcc_send_time_anchor_each_round)\n",
    "                        stageNum = stageNum + 1\n",
    "                \n",
    "        if(stageNum == 11): break\n",
    "        \n",
    "    evcc_send_time_anchor.append(evcc_send_time_anchor_each_round)"
   ]
  },
  {
   "cell_type": "code",
   "execution_count": 100,
   "metadata": {},
   "outputs": [
    {
     "name": "stdout",
     "output_type": "stream",
     "text": [
      "19\n",
      "\n",
      "i = 0, 10\n",
      "i = 1, 10\n",
      "i = 2, 10\n",
      "i = 3, 10\n",
      "i = 4, 10\n",
      "i = 5, 10\n",
      "i = 6, 10\n",
      "i = 7, 10\n",
      "i = 8, 10\n",
      "i = 9, 10\n",
      "i = 10, 10\n",
      "i = 11, 10\n",
      "i = 12, 10\n",
      "i = 13, 10\n",
      "i = 14, 4\n",
      "i = 15, 10\n",
      "i = 16, 10\n",
      "i = 17, 10\n",
      "i = 18, 10\n"
     ]
    }
   ],
   "source": [
    "#for debug\n",
    "print(str(len(evcc_send_time_anchor)) + '\\n')\n",
    "for i in range(0, len(evcc_send_time_anchor)):\n",
    "    print(\"i = \" + str(i) + \", \" + str(len(evcc_send_time_anchor[i])))"
   ]
  },
  {
   "cell_type": "code",
   "execution_count": 48,
   "metadata": {},
   "outputs": [
    {
     "data": {
      "text/plain": [
       "{1340: [173, 3],\n",
       " 1575: [185, 8],\n",
       " 4099: [173, 3],\n",
       " 4282: [185, 8],\n",
       " 6502: [173, 3],\n",
       " 8897: [185, 8],\n",
       " 11070: [173, 3],\n",
       " 11163: [173, 5],\n",
       " 11262: [185, 8],\n",
       " 13260: [173, 3],\n",
       " 15524: [173, 3],\n",
       " 19788: [173, 3],\n",
       " 22872: [173, 3],\n",
       " 25448: [173, 3],\n",
       " 27550: [173, 3],\n",
       " 29649: [173, 3],\n",
       " 31602: [173, 3],\n",
       " 33436: [173, 3],\n",
       " 35364: [173, 3],\n",
       " 37907: [173, 3],\n",
       " 40152: [173, 3],\n",
       " 42133: [173, 3],\n",
       " 44483: [173, 3]}"
      ]
     },
     "execution_count": 48,
     "metadata": {},
     "output_type": "execute_result"
    }
   ],
   "source": [
    "wierd_packet"
   ]
  },
  {
   "cell_type": "code",
   "execution_count": 49,
   "metadata": {},
   "outputs": [
    {
     "data": {
      "text/plain": [
       "23"
      ]
     },
     "execution_count": 49,
     "metadata": {},
     "output_type": "execute_result"
    }
   ],
   "source": [
    "len(wierd_packet)"
   ]
  },
  {
   "cell_type": "code",
   "execution_count": 50,
   "metadata": {},
   "outputs": [
    {
     "name": "stdout",
     "output_type": "stream",
     "text": [
      "1.557468\n",
      "1.295960000000001\n",
      "1.1256950000000003\n",
      "1.086753999999999\n",
      "1.168649000000002\n",
      "1.0659260000000046\n",
      "1.0660709999999938\n",
      "1.0885199999999884\n",
      "1.1038940000000252\n",
      "0.9394800000000032\n",
      "1.0671429999999873\n",
      "1.0335599999999943\n",
      "1.0483949999999993\n",
      "1.0529879999999707\n",
      "1.0601419999999848\n",
      "1.0436919999999645\n",
      "1.0686239999999998\n",
      "0.9308469999999716\n",
      "0.9422500000000014\n",
      "0.932585999999958\n"
     ]
    }
   ],
   "source": [
    "#for debug\n",
    "for i in range(0, len(evcc_send_time_anchor)):\n",
    "    print(evcc_send_time_anchor[i][len(evcc_send_time_anchor[i])-1]-evcc_send_time_anchor[i][0])"
   ]
  },
  {
   "cell_type": "code",
   "execution_count": null,
   "metadata": {},
   "outputs": [],
   "source": []
  },
  {
   "cell_type": "code",
   "execution_count": 102,
   "metadata": {},
   "outputs": [],
   "source": [
    "#Processing secc send\n",
    "with open('csv/DataLink/qos_30Mbps/qos_30Mbps_secc_send.csv', newline='') as csvfile:\n",
    "    rows = csv.DictReader(csvfile)\n",
    "    timelist_secc_send = []\n",
    "    seq_num_secc_send = []\n",
    "    data_length_secc_send = []\n",
    "    info_secc_send = []\n",
    "    frame_num_secc_send = []\n",
    "    \n",
    "    for row in rows:\n",
    "        timelist_secc_send.append(float(row['Time']))\n",
    "        seq_num_secc_send.append(int(row['Sequence number']))\n",
    "        data_length_secc_send.append(int(row['Data Length']))\n",
    "        info_secc_send.append(str(row['Info']))\n",
    "        frame_num_secc_send.append(int(row['No.']))"
   ]
  },
  {
   "cell_type": "code",
   "execution_count": 103,
   "metadata": {},
   "outputs": [
    {
     "name": "stdout",
     "output_type": "stream",
     "text": [
      "1102\n"
     ]
    }
   ],
   "source": [
    "#for debug\n",
    "if(len(timelist_secc_send) != len(seq_num_secc_send)):\n",
    "    print(\"Error. Length is not equal.\")\n",
    "elif(len(timelist_secc_send) != len(data_length_secc_send)):\n",
    "    print(\"Error. Length is not equal.\")\n",
    "elif(len(timelist_secc_send) != len(info_secc_send)):\n",
    "    print(\"Error. Length is not equal.\")\n",
    "elif(len(timelist_secc_send) != len(frame_num_secc_send)):\n",
    "    print(\"Error. Length is not equal.\")\n",
    "else:\n",
    "    print(len(timelist_secc_send))"
   ]
  },
  {
   "cell_type": "code",
   "execution_count": 104,
   "metadata": {},
   "outputs": [],
   "source": [
    "timelist_secc_send_split = []\n",
    "seq_num_secc_send_split = []\n",
    "data_length_secc_send_split = []\n",
    "info_secc_send_split = []\n",
    "frame_num_secc_send_split = []\n",
    "\n",
    "round_start_point = 0\n",
    "round_end_point = 0\n",
    "\n",
    "sdpres_index_list = []\n",
    "#Fetch first packet index of data length = 92 (SDP response) in each round\n",
    "for i in range(0, len(data_length_secc_send)):\n",
    "    if(i == 0 and data_length_secc_send[i] == 92):\n",
    "        sdpres_index_list.append(i)\n",
    "    if(i > 0 and data_length_secc_send[i] == 92 and data_length_secc_send[i-1] != 92):\n",
    "        sdpres_index_list.append(i)\n",
    "sdpres_index_list.append(len(data_length_secc_send)) #Add the end of list index\n",
    "\n",
    "for i in range(0, len(sdpres_index_list)-1):\n",
    "        timelist_secc_send_split.append([timelist_secc_send[j] for j in range(sdpres_index_list[i], sdpres_index_list[i+1])])\n",
    "        seq_num_secc_send_split.append([seq_num_secc_send[j] for j in range(sdpres_index_list[i], sdpres_index_list[i+1])])\n",
    "        data_length_secc_send_split.append([data_length_secc_send[j] for j in range(sdpres_index_list[i], sdpres_index_list[i+1])])\n",
    "        info_secc_send_split.append([info_secc_send[j] for j in range(sdpres_index_list[i], sdpres_index_list[i+1])])\n",
    "        frame_num_secc_send_split.append([frame_num_secc_send[j] for j in range(sdpres_index_list[i], sdpres_index_list[i+1])])"
   ]
  },
  {
   "cell_type": "code",
   "execution_count": 105,
   "metadata": {},
   "outputs": [
    {
     "name": "stdout",
     "output_type": "stream",
     "text": [
      "19\n"
     ]
    }
   ],
   "source": [
    "#for debug\n",
    "if(len(timelist_secc_send_split) != len(seq_num_secc_send_split)):\n",
    "    print(\"Error. Length is not equal.\")\n",
    "elif(len(timelist_secc_send_split) != len(data_length_secc_send_split)):\n",
    "    print(\"Error. Length is not equal.\")\n",
    "elif(len(timelist_secc_send_split) != len(info_secc_send_split)):\n",
    "    print(\"Error. Length is not equal.\")\n",
    "elif(len(timelist_secc_send_split) != len(frame_num_secc_send_split)):\n",
    "    print(\"Error. Length is not equal.\")\n",
    "else:\n",
    "    print(len(timelist_secc_send_split)) #Output # of testing rounds"
   ]
  },
  {
   "cell_type": "code",
   "execution_count": null,
   "metadata": {},
   "outputs": [],
   "source": [
    "for i in range(0, len(timelist_secc_send_split)):\n",
    "    print('i = ' + str(i))\n",
    "    print(len(timelist_secc_send_split[i]))"
   ]
  },
  {
   "cell_type": "code",
   "execution_count": 83,
   "metadata": {},
   "outputs": [
    {
     "name": "stdout",
     "output_type": "stream",
     "text": [
      "22.409601000000002\n",
      "21.101084999999998\n",
      "21.399534000000003\n",
      "21.91596\n",
      "21.524505000000005\n",
      "21.28903899999999\n",
      "22.123165\n",
      "22.23340300000001\n",
      "20.856787999999995\n",
      "21.376345000000015\n",
      "46.11001299999998\n",
      "20.79654099999999\n",
      "21.385310000000004\n",
      "20.84902900000003\n",
      "11.20703599999996\n",
      "20.890828999999997\n",
      "21.757675000000006\n",
      "21.45523300000002\n"
     ]
    }
   ],
   "source": [
    "#for debug, this is ideally the time of each testing round\n",
    "for i in range(1, len(timelist_secc_send_split)):\n",
    "    print(timelist_secc_send_split[i][0]-timelist_secc_send_split[i-1][0])"
   ]
  },
  {
   "cell_type": "code",
   "execution_count": 84,
   "metadata": {},
   "outputs": [
    {
     "name": "stdout",
     "output_type": "stream",
     "text": [
      "i = 0 56\n",
      "i = 1 51\n",
      "i = 2 56\n",
      "i = 3 63\n",
      "i = 4 60\n",
      "i = 5 64\n",
      "i = 6 61\n",
      "i = 7 55\n",
      "i = 8 53\n",
      "i = 9 51\n",
      "i = 10 87\n",
      "i = 11 60\n",
      "i = 12 64\n",
      "i = 13 51\n",
      "i = 14 25\n",
      "i = 15 55\n",
      "i = 16 87\n",
      "i = 17 54\n",
      "i = 18 49\n"
     ]
    }
   ],
   "source": [
    "for i in range(0, len(timelist_secc_send_split)):\n",
    "    print('i = ' + str(i) + ' ', end = '')\n",
    "    print(len(timelist_secc_send_split[i]))"
   ]
  },
  {
   "cell_type": "code",
   "execution_count": 85,
   "metadata": {},
   "outputs": [
    {
     "name": "stdout",
     "output_type": "stream",
     "text": [
      "22.409601000000002\n",
      "21.101084999999998\n",
      "21.399534000000003\n",
      "21.91596\n",
      "21.524505000000005\n",
      "21.28903899999999\n",
      "22.123165\n",
      "22.23340300000001\n",
      "20.856787999999995\n",
      "21.376345000000015\n",
      "46.11001299999998\n",
      "20.79654099999999\n",
      "21.385310000000004\n",
      "20.84902900000003\n",
      "11.20703599999996\n",
      "20.890828999999997\n",
      "21.757675000000006\n",
      "21.45523300000002\n"
     ]
    }
   ],
   "source": [
    "for i in range(1, len(timelist_secc_send_split)):\n",
    "    print(timelist_secc_send_split[i][0]-timelist_secc_send_split[i-1][0])"
   ]
  },
  {
   "cell_type": "code",
   "execution_count": null,
   "metadata": {},
   "outputs": [],
   "source": [
    "#Set secc time anchor in each round per stage\n",
    "secc_send_time_anchor = []\n",
    "#data_length_in_each_stage = [92, 173, 157, 189, 253, 173, 189, 173, 493, 173]\n",
    "wierd_packet_secc = {}\n",
    "packet_loss_testing_round_20_flag = False\n",
    "\n",
    "def printinfo(stageNum, frameNum, info_string):\n",
    "    print(\"-----------------------------------------\")\n",
    "    print(\"Stage \" + str(stageNum) + \" finish. No. \" + str(frameNum) + \", Info \" + str(info_string))\n",
    "\n",
    "def print_time_difference(secc_send_time_anchor_each_round):\n",
    "    print(\"Time difference: \" + str(secc_send_time_anchor_each_round[len(secc_send_time_anchor_each_round)-1]-\n",
    "                          secc_send_time_anchor_each_round[len(secc_send_time_anchor_each_round)-2]))\n",
    "    \n",
    "def checkstage_num(stageNum, valid_stageNum, info_string, time_string, datalen, seqnum, frameNum):\n",
    "    if(stageNum == valid_stageNum):\n",
    "        check_wield_packet_list(frameNum)\n",
    "        return True\n",
    "    else:\n",
    "        #debug\n",
    "        print(\"\\nWhat is this packet? Data Length = \" + str(datalen) + \" No. \" + str(frameNum))\n",
    "        print(\"Time \" + str(time_string) + \" #Seq \" + str(seqnum) + \" Info \" + str(info_string) + \"\\n\")\n",
    "        wierd_packet_secc[frameNum] = [datalen, stageNum]\n",
    "        return False\n",
    "\n",
    "def check_wield_packet_list(frameNum):\n",
    "    if(wierd_packet_secc.get(frameNum) != None):\n",
    "        del wierd_packet_secc[frameNum]\n",
    "        print(\"\\nNo. \" + str(frameNum) + \" has been found. Delete from wierd list.\\n\")\n",
    "    \n",
    "for i in range(0, len(data_length_secc_send_split)):\n",
    "#for i in [18]:\n",
    "    print(\"\\n-------- Test Round \" + str(i+1) + \" --------\")\n",
    "    #Stage 1\n",
    "    secc_send_time_anchor_each_round = [timelist_secc_send_split[i][0]]\n",
    "    stageNum = 1\n",
    "    printinfo(stageNum, frame_num_secc_send_split[i][0], info_secc_send_split[i][0])\n",
    "    stageNum = stageNum + 1\n",
    "    \n",
    "    for j in range(1, len(data_length_secc_send_split[i])):\n",
    "        #Stage 2\n",
    "        if(data_length_secc_send_split[i][j] == 173 and data_length_secc_send_split[i][j-1] != 173):\n",
    "            if(info_secc_send_split[i][j][-2:] == 'TC'):\n",
    "                if(checkstage_num(stageNum, 2, info_secc_send_split[i][j],\n",
    "                                      timelist_secc_send_split[i][j], data_length_secc_send_split[i][j],\n",
    "                                      seq_num_secc_send_split[i][j], frame_num_secc_send_split[i][j])):\n",
    "                    secc_send_time_anchor_each_round.append(timelist_secc_send_split[i][j])\n",
    "                    printinfo(stageNum, frame_num_secc_send_split[i][j], info_secc_send_split[i][j])\n",
    "                    print_time_difference(secc_send_time_anchor_each_round)\n",
    "                    stageNum = stageNum + 1\n",
    "                    \n",
    "                    continue\n",
    "                    \n",
    "            else:\n",
    "                print(\"Stage \" + str(stageNum) +\n",
    "                      \", Not TC? No. \" + str(frame_num_secc_send_split[i][j]) +\n",
    "                      \", Data length \" + str(data_length_secc_send_split[i][j]) +\n",
    "                      \", Info \" + str(info_secc_send_split[i][j]))\n",
    "        #Stage 3\n",
    "        if(data_length_secc_send_split[i][j] == 157 and data_length_secc_send_split[i][j-1] != 157):\n",
    "            if(checkstage_num(stageNum, 3, info_secc_send_split[i][j],\n",
    "                                  timelist_secc_send_split[i][j], data_length_secc_send_split[i][j],\n",
    "                                  seq_num_secc_send_split[i][j], frame_num_secc_send_split[i][j])):\n",
    "                secc_send_time_anchor_each_round.append(timelist_secc_send_split[i][j])\n",
    "                printinfo(stageNum, frame_num_secc_send_split[i][j], info_secc_send_split[i][j])\n",
    "                print_time_difference(secc_send_time_anchor_each_round)\n",
    "                stageNum = stageNum + 1\n",
    "                \n",
    "                #Deal with packet loss......\n",
    "                if(i == 18 and packet_loss_testing_round_20_flag == False):\n",
    "                    secc_send_time_anchor_each_round.append(418.6)\n",
    "                    printinfo(stageNum, 1975467, \"Packet Loss\")\n",
    "                    print_time_difference(secc_send_time_anchor_each_round)\n",
    "                    stageNum = stageNum + 1\n",
    "                    packet_loss_testing_round_20_flag = True\n",
    "                \n",
    "                continue\n",
    "                \n",
    "        #Stage 4\n",
    "        if(data_length_secc_send_split[i][j] == 189 and data_length_secc_send_split[i][j-1] != 189):\n",
    "            if(checkstage_num(stageNum, 4, info_secc_send_split[i][j],\n",
    "                                  timelist_secc_send_split[i][j], data_length_secc_send_split[i][j],\n",
    "                                  seq_num_secc_send_split[i][j], frame_num_secc_send_split[i][j])):\n",
    "                secc_send_time_anchor_each_round.append(timelist_secc_send_split[i][j])\n",
    "                printinfo(stageNum, frame_num_secc_send_split[i][j], info_secc_send_split[i][j])\n",
    "                print_time_difference(secc_send_time_anchor_each_round)\n",
    "                stageNum = stageNum + 1\n",
    "                    \n",
    "                continue\n",
    "                \n",
    "        #Stage 5\n",
    "        if(data_length_secc_send_split[i][j] == 253 and data_length_secc_send_split[i][j-1] != 253):\n",
    "            if(checkstage_num(stageNum, 5, info_secc_send_split[i][j],\n",
    "                                  timelist_secc_send_split[i][j], data_length_secc_send_split[i][j],\n",
    "                                  seq_num_secc_send_split[i][j], frame_num_secc_send_split[i][j])):\n",
    "                secc_send_time_anchor_each_round.append(timelist_secc_send_split[i][j])\n",
    "                printinfo(stageNum, frame_num_secc_send_split[i][j], info_secc_send_split[i][j])\n",
    "                print_time_difference(secc_send_time_anchor_each_round)\n",
    "                stageNum = stageNum + 1\n",
    "                \n",
    "                continue\n",
    "                \n",
    "        #Stage 6\n",
    "        if(data_length_secc_send_split[i][j] == 173 and data_length_secc_send_split[i][j-1] != 173):\n",
    "            if(info_secc_send_split[i][j][-2:] == 'TC'):\n",
    "                if(checkstage_num(stageNum, 6, info_secc_send_split[i][j],\n",
    "                                      timelist_secc_send_split[i][j], data_length_secc_send_split[i][j],\n",
    "                                      seq_num_secc_send_split[i][j], frame_num_secc_send_split[i][j])):\n",
    "                    secc_send_time_anchor_each_round.append(timelist_secc_send_split[i][j])\n",
    "                    printinfo(stageNum, frame_num_secc_send_split[i][j], info_secc_send_split[i][j])\n",
    "                    print_time_difference(secc_send_time_anchor_each_round)\n",
    "                    stageNum = stageNum + 1\n",
    "                    \n",
    "                    continue\n",
    "                    \n",
    "            else:\n",
    "                print(\"Stage \" + str(stageNum) +\n",
    "                      \", Not TC? No. \" + str(frame_num_secc_send_split[i][j]) +\n",
    "                      \", Data length \" + str(data_length_secc_send_split[i][j]) +\n",
    "                      \", Info \" + str(info_secc_send_split[i][j]))\n",
    "        #Stage 7\n",
    "        if(data_length_secc_send_split[i][j] == 189 and data_length_secc_send_split[i][j-1] != 189):\n",
    "            if(checkstage_num(stageNum, 7, info_secc_send_split[i][j],\n",
    "                                  timelist_secc_send_split[i][j], data_length_secc_send_split[i][j],\n",
    "                                  seq_num_secc_send_split[i][j], frame_num_secc_send_split[i][j])):\n",
    "                secc_send_time_anchor_each_round.append(timelist_secc_send_split[i][j])\n",
    "                printinfo(stageNum, frame_num_secc_send_split[i][j], info_secc_send_split[i][j])\n",
    "                print_time_difference(secc_send_time_anchor_each_round)\n",
    "                stageNum = stageNum + 1\n",
    "                \n",
    "                continue\n",
    "                \n",
    "        #Stage 8\n",
    "        if(data_length_secc_send_split[i][j] == 173 and data_length_secc_send_split[i][j-1] != 173):\n",
    "            if(info_secc_send_split[i][j][-2:] == 'TC'):\n",
    "                if(checkstage_num(stageNum, 8, info_secc_send_split[i][j],\n",
    "                                      timelist_secc_send_split[i][j], data_length_secc_send_split[i][j],\n",
    "                                      seq_num_secc_send_split[i][j], frame_num_secc_send_split[i][j])):\n",
    "                    secc_send_time_anchor_each_round.append(timelist_secc_send_split[i][j])\n",
    "                    printinfo(stageNum, frame_num_secc_send_split[i][j], info_secc_send_split[i][j])\n",
    "                    print_time_difference(secc_send_time_anchor_each_round)\n",
    "                    stageNum = stageNum + 1\n",
    "                    \n",
    "                    continue\n",
    "                    \n",
    "            else:\n",
    "                print(\"Stage \" + str(stageNum) +\n",
    "                      \", Not TC? No. \" + str(frame_num_secc_send_split[i][j]) +\n",
    "                      \", Data length \" + str(data_length_secc_send_split[i][j]) +\n",
    "                      \", Info \" + str(info_secc_send_split[i][j]))\n",
    "        #Stage 9\n",
    "        if(data_length_secc_send_split[i][j] == 493 and data_length_secc_send_split[i][j-1] != 493):\n",
    "            if(checkstage_num(stageNum, 9, info_secc_send_split[i][j],\n",
    "                                  timelist_secc_send_split[i][j], data_length_secc_send_split[i][j],\n",
    "                                  seq_num_secc_send_split[i][j], frame_num_secc_send_split[i][j])):\n",
    "                secc_send_time_anchor_each_round.append(timelist_secc_send_split[i][j])\n",
    "                printinfo(stageNum, frame_num_secc_send_split[i][j], info_secc_send_split[i][j])\n",
    "                print_time_difference(secc_send_time_anchor_each_round)\n",
    "                stageNum = stageNum + 1\n",
    "                \n",
    "                continue\n",
    "                \n",
    "        #Stage 10\n",
    "        if(data_length_secc_send_split[i][j] == 173 and data_length_secc_send_split[i][j-1] != 173):\n",
    "            if(info_secc_send_split[i][j][-2:] == 'TC'):\n",
    "                if(checkstage_num(stageNum, 10, info_secc_send_split[i][j],\n",
    "                                      timelist_secc_send_split[i][j], data_length_secc_send_split[i][j],\n",
    "                                      seq_num_secc_send_split[i][j], frame_num_secc_send_split[i][j])):\n",
    "                    secc_send_time_anchor_each_round.append(timelist_secc_send_split[i][j])\n",
    "                    printinfo(stageNum, frame_num_secc_send_split[i][j], info_secc_send_split[i][j])\n",
    "                    print_time_difference(secc_send_time_anchor_each_round)\n",
    "                    stageNum = stageNum + 1\n",
    "                    \n",
    "                    continue\n",
    "                    \n",
    "            else:\n",
    "                print(\"Stage \" + str(stageNum) +\n",
    "                      \", Not TC? No. \" + str(frame_num_secc_send_split[i][j]) +\n",
    "                      \", Data length \" + str(data_length_secc_send_split[i][j]) +\n",
    "                      \", Info \" + str(info_secc_send_split[i][j]))\n",
    "        \n",
    "        if(stageNum == 11): break\n",
    "        \n",
    "    secc_send_time_anchor.append(secc_send_time_anchor_each_round)"
   ]
  },
  {
   "cell_type": "code",
   "execution_count": 107,
   "metadata": {},
   "outputs": [
    {
     "name": "stdout",
     "output_type": "stream",
     "text": [
      "19\n",
      "\n",
      "0: 10\n",
      "1: 10\n",
      "2: 10\n",
      "3: 10\n",
      "4: 10\n",
      "5: 10\n",
      "6: 10\n",
      "7: 10\n",
      "8: 10\n",
      "9: 10\n",
      "10: 10\n",
      "11: 10\n",
      "12: 10\n",
      "13: 10\n",
      "14: 4\n",
      "15: 10\n",
      "16: 10\n",
      "17: 10\n",
      "18: 10\n"
     ]
    }
   ],
   "source": [
    "#for debug\n",
    "print(str(len(secc_send_time_anchor)) + '\\n')\n",
    "for i in range(0, len(secc_send_time_anchor)):\n",
    "    print(str(i) + \": \" + str(len(secc_send_time_anchor[i])))"
   ]
  },
  {
   "cell_type": "code",
   "execution_count": 89,
   "metadata": {},
   "outputs": [
    {
     "name": "stdout",
     "output_type": "stream",
     "text": [
      "2.16019\n",
      "2.122477999999994\n",
      "2.4503079999999997\n",
      "2.4031499999999966\n",
      "2.0474360000000047\n",
      "2.1832059999999984\n",
      "2.450037000000009\n",
      "2.8605790000000013\n",
      "2.2713099999999997\n",
      "2.335588999999999\n",
      "5.58846299999999\n",
      "1.8160629999999855\n",
      "2.806937000000005\n",
      "1.8663990000000013\n",
      "2.4228239999999914\n",
      "2.071059000000048\n",
      "2.738396000000023\n",
      "2.07792900000004\n",
      "2.3346199999999726\n"
     ]
    }
   ],
   "source": [
    "#for debug\n",
    "for i in range(0, len(secc_send_time_anchor)):\n",
    "    print(secc_send_time_anchor[i][len(secc_send_time_anchor[i])-1]-secc_send_time_anchor[i][0])"
   ]
  },
  {
   "cell_type": "code",
   "execution_count": 108,
   "metadata": {},
   "outputs": [
    {
     "name": "stdout",
     "output_type": "stream",
     "text": [
      "18\n",
      "\n",
      "10\n",
      "10\n",
      "10\n",
      "10\n",
      "10\n",
      "10\n",
      "10\n",
      "10\n",
      "10\n",
      "10\n",
      "10\n",
      "10\n",
      "10\n",
      "10\n",
      "10\n",
      "10\n",
      "10\n",
      "10\n",
      "18\n",
      "\n",
      "10\n",
      "10\n",
      "10\n",
      "10\n",
      "10\n",
      "10\n",
      "10\n",
      "10\n",
      "10\n",
      "10\n",
      "10\n",
      "10\n",
      "10\n",
      "10\n",
      "10\n",
      "10\n",
      "10\n",
      "10\n"
     ]
    }
   ],
   "source": [
    "#Test Round 15: Timeout occurs\n",
    "\n",
    "del evcc_send_time_anchor[14]\n",
    "del secc_send_time_anchor[14]\n",
    "\n",
    "#for debug\n",
    "print(str(len(evcc_send_time_anchor)) + '\\n')\n",
    "for i in range(0, len(evcc_send_time_anchor)):\n",
    "    print(len(evcc_send_time_anchor[i]))\n",
    "    \n",
    "    \n",
    "#for debug\n",
    "print(str(len(secc_send_time_anchor)) + '\\n')\n",
    "for i in range(0, len(secc_send_time_anchor)):\n",
    "    print(len(secc_send_time_anchor[i]))\n"
   ]
  },
  {
   "cell_type": "code",
   "execution_count": null,
   "metadata": {},
   "outputs": [],
   "source": [
    "#BLOCK ACK processing\n",
    "#Time evcc sends blockACK after secc send\n",
    "evcc_blockAck_time_anchor = []\n",
    "\n",
    "blockack_index = 0\n",
    "for i in range(0, len(secc_send_time_anchor)):\n",
    "    evcc_blockAck_time_anchor_in_each_round = []\n",
    "    \n",
    "    for j in range(0, len(secc_send_time_anchor[i])):\n",
    "        while(timelist_block_ack[blockack_index] < secc_send_time_anchor[i][j]):\n",
    "            blockack_index = blockack_index + 1\n",
    "        evcc_blockAck_time_anchor_in_each_round.append(timelist_block_ack[blockack_index])\n",
    "        print(\"ACK time difference = \" + str(\n",
    "        timelist_block_ack[blockack_index] - secc_send_time_anchor[i][j]))\n",
    "    \n",
    "    evcc_blockAck_time_anchor.append(evcc_blockAck_time_anchor_in_each_round)"
   ]
  },
  {
   "cell_type": "code",
   "execution_count": 110,
   "metadata": {},
   "outputs": [],
   "source": [
    "#SECC Packet Loss dict\n",
    "#secc_packet_loss_dict[i] = {stageNum}\n",
    "# i = 5, j = 0 is packet loss of evcc BLOCK ACK\n",
    "# i = 3, j = 9 is packet loss of evcc BLOCK ACK\n",
    "secc_packet_loss_dict = {}\n",
    "\n",
    "secc_packet_loss_dict[17] = {3}\n",
    "#secc_packet_loss_dict[5] = {0, 1, 2, 3, 4}\n",
    "\n",
    "#for i in secc_packet_loss_dict.get(5): print(i)\n",
    "#7 in secc_packet_loss_dict.get(5)"
   ]
  },
  {
   "cell_type": "code",
   "execution_count": 111,
   "metadata": {},
   "outputs": [
    {
     "name": "stdout",
     "output_type": "stream",
     "text": [
      "Avg Block Ack latency = 0.03193126256983241 s\n",
      "179\n"
     ]
    }
   ],
   "source": [
    "#Calculate the avg. block ack latency\n",
    "sum_latency = 0\n",
    "cnt = 0\n",
    "for i in range(0, len(evcc_blockAck_time_anchor)):\n",
    "    for j in range(0, len(evcc_blockAck_time_anchor[i])):\n",
    "        if(secc_packet_loss_dict.get(i) == None):\n",
    "            sum_latency = sum_latency + (evcc_blockAck_time_anchor[i][j]-secc_send_time_anchor[i][j])\n",
    "            cnt = cnt + 1\n",
    "        elif(secc_packet_loss_dict.get(i) != None):\n",
    "            if(j in secc_packet_loss_dict.get(i)): continue\n",
    "            else:\n",
    "                sum_latency = sum_latency + (evcc_blockAck_time_anchor[i][j]-secc_send_time_anchor[i][j])\n",
    "                cnt = cnt + 1\n",
    "        else: continue\n",
    "avg_blockAck_latency = sum_latency/cnt\n",
    "print(\"Avg Block Ack latency = \" + str(avg_blockAck_latency) + \" s\")\n",
    "print(cnt)"
   ]
  },
  {
   "cell_type": "code",
   "execution_count": 112,
   "metadata": {},
   "outputs": [
    {
     "name": "stdout",
     "output_type": "stream",
     "text": [
      "Avg Block Ack latency = 0.04533999999995331 s\n",
      "1\n"
     ]
    }
   ],
   "source": [
    "#For curiousity\n",
    "#Calculate the avg. block ack latency of the appending packet loss packets\n",
    "sum_latency_2 = 0\n",
    "cnt = 0\n",
    "for i in range(0, len(evcc_blockAck_time_anchor)):\n",
    "    for j in range(0, len(evcc_blockAck_time_anchor[i])):\n",
    "        if(secc_packet_loss_dict.get(i) != None):\n",
    "            if(j in secc_packet_loss_dict.get(i)):\n",
    "                sum_latency_2 = sum_latency_2 + (evcc_blockAck_time_anchor[i][j]-secc_send_time_anchor[i][j])\n",
    "                cnt = cnt + 1\n",
    "        else: continue\n",
    "avg_blockAck_latency_2 = sum_latency_2/cnt\n",
    "print(\"Avg Block Ack latency = \" + str(avg_blockAck_latency_2) + \" s\")\n",
    "print(cnt)"
   ]
  },
  {
   "cell_type": "code",
   "execution_count": 113,
   "metadata": {},
   "outputs": [
    {
     "name": "stdout",
     "output_type": "stream",
     "text": [
      "i = 0: 0.03513109999999742\n",
      "i = 1: 0.034606700000004764\n",
      "i = 2: 0.03366809999999987\n",
      "i = 3: 0.019664199999994025\n",
      "i = 4: 0.02602379999999016\n",
      "i = 5: 0.04074070000000063\n",
      "i = 6: 0.02927769999999441\n",
      "i = 7: 0.02153720000001158\n",
      "i = 8: 0.05909300000001849\n",
      "i = 9: 0.029409200000003466\n",
      "i = 10: 0.032378800000003594\n",
      "i = 11: 0.030348000000003594\n",
      "i = 12: 0.024735899999996036\n",
      "i = 13: 0.01262280000003102\n",
      "i = 14: 0.02078119999998762\n",
      "i = 15: 0.05656779999998207\n",
      "i = 16: 0.034200899999973444\n",
      "i = 17: 0.03531649999996489\n"
     ]
    }
   ],
   "source": [
    "#For debug. Can see testing round 6 (i = 5) has longer block ack latency due to packet loss.\n",
    "# I only append the secc send time, but didn't append the block time.\n",
    "from statistics import mean\n",
    "\n",
    "for i in range(0, len(evcc_blockAck_time_anchor)):\n",
    "    print(\"i = \" + str(i) + \": \" + str(mean(evcc_blockAck_time_anchor[i])-mean(secc_send_time_anchor[i])))"
   ]
  },
  {
   "cell_type": "code",
   "execution_count": 114,
   "metadata": {},
   "outputs": [
    {
     "name": "stdout",
     "output_type": "stream",
     "text": [
      "0.08712500000000034\n",
      "0.0441919999999989\n",
      "0.0015369999999990114\n",
      "0.0007090000000005148\n",
      "0.03209199999999868\n",
      "0.0009529999999990935\n",
      "0.015619000000000938\n",
      "0.0019500000000007844\n",
      "0.16439499999999896\n",
      "0.0027389999999982706\n"
     ]
    }
   ],
   "source": [
    "#For debug\n",
    "for j in range(0, 10):\n",
    "    print(evcc_blockAck_time_anchor[0][j]-secc_send_time_anchor[0][j])"
   ]
  },
  {
   "cell_type": "code",
   "execution_count": 115,
   "metadata": {},
   "outputs": [
    {
     "name": "stdout",
     "output_type": "stream",
     "text": [
      "i = 17\n",
      "j = 3\n"
     ]
    }
   ],
   "source": [
    "#Use the avg. block ack latency for the lost secc sent packets\n",
    "for i in range(0, len(evcc_blockAck_time_anchor)):\n",
    "    for j in range(0, len(evcc_blockAck_time_anchor[i])):\n",
    "        if(secc_packet_loss_dict.get(i) != None):\n",
    "            if(j in secc_packet_loss_dict.get(i)):\n",
    "                evcc_blockAck_time_anchor[i][j] = secc_send_time_anchor[i][j] + avg_blockAck_latency\n",
    "                print(\"i = \" + str(i))\n",
    "                print(\"j = \" + str(j))\n",
    "        else: continue"
   ]
  },
  {
   "cell_type": "code",
   "execution_count": 116,
   "metadata": {},
   "outputs": [],
   "source": [
    "#for debug check wierd value\n",
    "for i in range(0, len(evcc_blockAck_time_anchor)):\n",
    "    for j in range(0, len(evcc_blockAck_time_anchor[i])):\n",
    "        if(secc_send_time_anchor[i][j] - evcc_send_time_anchor[i][j] < 0):\n",
    "            print(\"i = \" + str(i) + \" j = \" + str(j))\n",
    "        if(evcc_blockAck_time_anchor[i][j] - evcc_send_time_anchor[i][j] < 0):\n",
    "            print(\"i = \" + str(i) + \" j = \" + str(j))"
   ]
  },
  {
   "cell_type": "code",
   "execution_count": 98,
   "metadata": {},
   "outputs": [
    {
     "name": "stdout",
     "output_type": "stream",
     "text": [
      "Stage 10\n",
      "62.765924\n",
      "62.720734\n",
      "62.722635\n",
      "-0.043289000000001465\n",
      "\n",
      "\n"
     ]
    }
   ],
   "source": [
    "#For debug\n",
    "#secc send is based on 802.11 capture file (not 802.11_TCP combined file)\n",
    "i = 2\n",
    "for j in [9]:\n",
    "    print(\"Stage \" + str(j+1))\n",
    "    print(evcc_send_time_anchor[i][j])\n",
    "    print(secc_send_time_anchor[i][j])\n",
    "    print(evcc_blockAck_time_anchor[i][j])\n",
    "    print(evcc_blockAck_time_anchor[i][j]-evcc_send_time_anchor[i][j])\n",
    "    print(\"\\n\")"
   ]
  },
  {
   "cell_type": "code",
   "execution_count": 117,
   "metadata": {},
   "outputs": [],
   "source": [
    "path = 'time_record/qos_30Mbps_80211_processing.txt'\n",
    "f = open(path, 'w')\n",
    "for i in range(0, len(evcc_send_time_anchor)):\n",
    "    for j in range(0, len(evcc_send_time_anchor[i])):\n",
    "        print((evcc_blockAck_time_anchor[i][j] - evcc_send_time_anchor[i][j])*1000, file=f, end=\"\")\n",
    "        f.writelines('\\t')\n",
    "    f.writelines('\\t')\n",
    "    print((evcc_blockAck_time_anchor[i][1] - evcc_send_time_anchor[i][0])*1000, file=f, end=\"\")\n",
    "    f.writelines('\\t')\n",
    "    print((evcc_blockAck_time_anchor[i][len(evcc_blockAck_time_anchor[i])-1] - evcc_send_time_anchor[i][0])*1000, file=f, end=\"\")\n",
    "    f.writelines('\\t')\n",
    "    f.writelines('20')\n",
    "    f.writelines('\\t')\n",
    "    f.writelines('0')\n",
    "    f.writelines('\\t')\n",
    "    f.writelines('\\n')\n",
    "f.close()"
   ]
  },
  {
   "cell_type": "code",
   "execution_count": null,
   "metadata": {},
   "outputs": [],
   "source": []
  }
 ],
 "metadata": {
  "kernelspec": {
   "display_name": "Python 3 (ipykernel)",
   "language": "python",
   "name": "python3"
  },
  "language_info": {
   "codemirror_mode": {
    "name": "ipython",
    "version": 3
   },
   "file_extension": ".py",
   "mimetype": "text/x-python",
   "name": "python",
   "nbconvert_exporter": "python",
   "pygments_lexer": "ipython3",
   "version": "3.8.8"
  }
 },
 "nbformat": 4,
 "nbformat_minor": 4
}
