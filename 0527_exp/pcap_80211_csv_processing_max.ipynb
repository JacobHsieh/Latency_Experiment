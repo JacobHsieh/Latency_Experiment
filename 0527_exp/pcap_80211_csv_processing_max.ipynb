{
 "cells": [
  {
   "cell_type": "code",
   "execution_count": 1,
   "metadata": {},
   "outputs": [],
   "source": [
    "#Processing evcc block ack\n",
    "import csv\n",
    "import numpy as np\n",
    "\n",
    "with open('csv/DataLink/max/max_evcc_blockack.csv', newline='') as csvfile:\n",
    "    rows = csv.DictReader(csvfile)\n",
    "    startint_seq_num_block_ack = []\n",
    "    timelist_block_ack = []\n",
    "    \n",
    "    for row in rows:\n",
    "        startint_seq_num_block_ack.append(int(row['Starting Sequence Number']))\n",
    "        timelist_block_ack.append(float(row['Time']))"
   ]
  },
  {
   "cell_type": "code",
   "execution_count": 2,
   "metadata": {},
   "outputs": [
    {
     "name": "stdout",
     "output_type": "stream",
     "text": [
      "1126\n"
     ]
    }
   ],
   "source": [
    "#for debug\n",
    "if(len(startint_seq_num_block_ack) != len(timelist_block_ack)):\n",
    "    print(\"Error. Length is not equal.\")\n",
    "else:\n",
    "    print(len(timelist_block_ack))"
   ]
  },
  {
   "cell_type": "code",
   "execution_count": 126,
   "metadata": {},
   "outputs": [],
   "source": [
    "#Processing evcc send\n",
    "with open('csv/DataLink/max/max_evcc_send.csv', newline='') as csvfile:\n",
    "    rows = csv.DictReader(csvfile)\n",
    "    timelist_evcc_send = []\n",
    "    seq_num_evcc_send = []\n",
    "    data_length_evcc_send = []\n",
    "    info_evcc_send = []\n",
    "    frame_num_evcc_send = []\n",
    "    \n",
    "    for row in rows:\n",
    "        timelist_evcc_send.append(float(row['Time']))\n",
    "        seq_num_evcc_send.append(int(row['Sequence number']))\n",
    "        data_length_evcc_send.append(int(row['Data Length']))\n",
    "        info_evcc_send.append(str(row['Info']))\n",
    "        frame_num_evcc_send.append(int(row['No.']))"
   ]
  },
  {
   "cell_type": "code",
   "execution_count": 127,
   "metadata": {},
   "outputs": [
    {
     "name": "stdout",
     "output_type": "stream",
     "text": [
      "1505\n"
     ]
    }
   ],
   "source": [
    "#for debug\n",
    "if(len(timelist_evcc_send) != len(seq_num_evcc_send)):\n",
    "    print(\"Error. Length is not equal.\")\n",
    "elif(len(timelist_evcc_send) != len(data_length_evcc_send)):\n",
    "    print(\"Error. Length is not equal.\")\n",
    "elif(len(timelist_evcc_send) != len(info_evcc_send)):\n",
    "    print(\"Error. Length is not equal.\")\n",
    "elif(len(timelist_evcc_send) != len(frame_num_evcc_send)):\n",
    "    print(\"Error. Length is not equal.\")\n",
    "else:\n",
    "    print(len(timelist_evcc_send))"
   ]
  },
  {
   "cell_type": "code",
   "execution_count": 5,
   "metadata": {},
   "outputs": [
    {
     "data": {
      "text/plain": [
       "39.770368"
      ]
     },
     "execution_count": 5,
     "metadata": {},
     "output_type": "execute_result"
    }
   ],
   "source": [
    "timelist_evcc_send[0]"
   ]
  },
  {
   "cell_type": "code",
   "execution_count": 128,
   "metadata": {},
   "outputs": [],
   "source": [
    "timelist_evcc_send_split = []\n",
    "seq_num_evcc_send_split = []\n",
    "data_length_evcc_send_split = []\n",
    "info_evcc_send_split = []\n",
    "frame_num_evcc_send_split = []\n",
    "\n",
    "round_start_point = 0\n",
    "round_end_point = 0\n",
    "\n",
    "sdpreq_index_list = []\n",
    "#Fetch first packet index of data length = 74 (SDP request) in each round\n",
    "for i in range(0, len(data_length_evcc_send)):\n",
    "    if(i == 0 and data_length_evcc_send[i] == 74):\n",
    "        sdpreq_index_list.append(i)\n",
    "    if(i > 0 and data_length_evcc_send[i] == 74 and data_length_evcc_send[i-1] != 74):\n",
    "        sdpreq_index_list.append(i)\n",
    "sdpreq_index_list.append(len(data_length_evcc_send)) #Add the end of list index\n",
    "\n",
    "for i in range(0, len(sdpreq_index_list)-1):\n",
    "    timelist_evcc_send_split.append([timelist_evcc_send[j] for j in range(sdpreq_index_list[i], sdpreq_index_list[i+1])])\n",
    "    seq_num_evcc_send_split.append([seq_num_evcc_send[j] for j in range(sdpreq_index_list[i], sdpreq_index_list[i+1])])\n",
    "    data_length_evcc_send_split.append([data_length_evcc_send[j] for j in range(sdpreq_index_list[i], sdpreq_index_list[i+1])])\n",
    "    info_evcc_send_split.append([info_evcc_send[j] for j in range(sdpreq_index_list[i], sdpreq_index_list[i+1])])\n",
    "    frame_num_evcc_send_split.append([frame_num_evcc_send[j] for j in range(sdpreq_index_list[i], sdpreq_index_list[i+1])])"
   ]
  },
  {
   "cell_type": "code",
   "execution_count": 129,
   "metadata": {},
   "outputs": [
    {
     "name": "stdout",
     "output_type": "stream",
     "text": [
      "20\n"
     ]
    }
   ],
   "source": [
    "#for debug\n",
    "if(len(timelist_evcc_send_split) != len(seq_num_evcc_send_split)):\n",
    "    print(\"Error. Length is not equal.\")\n",
    "elif(len(timelist_evcc_send_split) != len(data_length_evcc_send_split)):\n",
    "    print(\"Error. Length is not equal.\")\n",
    "elif(len(timelist_evcc_send_split) != len(info_evcc_send_split)):\n",
    "    print(\"Error. Length is not equal.\")\n",
    "elif(len(timelist_evcc_send_split) != len(frame_num_evcc_send_split)):\n",
    "    print(\"Error. Length is not equal.\")\n",
    "else:\n",
    "    print(len(timelist_evcc_send_split)) #Output # of testing rounds"
   ]
  },
  {
   "cell_type": "code",
   "execution_count": 130,
   "metadata": {},
   "outputs": [
    {
     "name": "stdout",
     "output_type": "stream",
     "text": [
      "24.233245000000004\n",
      "21.814633\n",
      "22.831447999999995\n",
      "22.123971999999995\n",
      "22.112673\n",
      "22.643738000000013\n",
      "22.527950000000004\n",
      "22.002245999999985\n",
      "22.065921000000003\n",
      "481.532309\n",
      "24.038017999999965\n",
      "24.093780000000038\n",
      "22.614030999999954\n",
      "21.389911000000097\n",
      "22.722849999999994\n",
      "22.791959999999904\n",
      "24.06914000000006\n",
      "23.853925000000004\n",
      "21.811008000000015\n"
     ]
    }
   ],
   "source": [
    "#for debug, this is ideally the time of each testing round\n",
    "for i in range(1, len(timelist_evcc_send_split)):\n",
    "    print(timelist_evcc_send_split[i][0]-timelist_evcc_send_split[i-1][0])"
   ]
  },
  {
   "cell_type": "code",
   "execution_count": null,
   "metadata": {},
   "outputs": [],
   "source": [
    "#Set evcc time anchor in each round per stage\n",
    "evcc_send_time_anchor = []\n",
    "#data_length_in_each_stage = [74, 96, 189, 173, 173, 173, 185, 461, 189, 173]\n",
    "wierd_packet = {}\n",
    "packet_loss_testing_round_18_flag = False\n",
    "packet_loss_testing_round_17_flag = False\n",
    "\n",
    "def printinfo(stageNum, frameNum, info_string):\n",
    "    print(\"-----------------------------------------\")\n",
    "    print(\"Stage \" + str(stageNum) + \" finish. No. \" + str(frameNum) + \", Info \" + str(info_string))\n",
    "\n",
    "def print_time_difference(evcc_send_time_anchor_each_round):\n",
    "    print(\"Time difference: \" + str(evcc_send_time_anchor_each_round[len(evcc_send_time_anchor_each_round)-1]-\n",
    "                          evcc_send_time_anchor_each_round[len(evcc_send_time_anchor_each_round)-2]))\n",
    "    \n",
    "def checkstage_num(stageNum, valid_stageNum, info_string, time_string, datalen, seqnum, frameNum):\n",
    "    if(stageNum == valid_stageNum):\n",
    "        check_wield_packet_list(frameNum)\n",
    "        return True\n",
    "    else:\n",
    "        #debug\n",
    "        print(\"\\nFalse\")\n",
    "        print(\"Stage Num = \" + str(stageNum))\n",
    "        print(\"Valid Stage Num = \" + str(valid_stageNum))\n",
    "        print(\"What is this packet? Data Length = \" + str(datalen) + \" No. \" + str(frameNum))\n",
    "        print(\"Time \" + str(time_string) + \" #Seq \" + str(seqnum) + \" Info \" + str(info_string) + \"\\n\")\n",
    "        wierd_packet[frameNum] = [datalen, stageNum]\n",
    "        return False\n",
    "\n",
    "def check_wield_packet_list(frameNum):\n",
    "    if(wierd_packet.get(frameNum) != None):\n",
    "        del wierd_packet[frameNum]\n",
    "        print(\"\\nNo. \" + str(frameNum) + \" has been found. Delete from wierd list.\\n\")\n",
    "    \n",
    "for i in range(0, len(data_length_evcc_send_split)):\n",
    "#for i in range(2, 3):\n",
    "    print(\"\\n-------- Test Round \" + str(i+1) + \" --------\")\n",
    "    #Stage 1\n",
    "    evcc_send_time_anchor_each_round = [timelist_evcc_send_split[i][0]]\n",
    "    stageNum = 1\n",
    "    printinfo(stageNum, frame_num_evcc_send_split[i][0], info_evcc_send_split[i][0])\n",
    "    stageNum = stageNum + 1\n",
    "    \n",
    "    for j in range(1, len(data_length_evcc_send_split[i])):\n",
    "        #Stage 2\n",
    "        if(data_length_evcc_send_split[i][j] == 96 and data_length_evcc_send_split[i][j-1] != 96):\n",
    "            if(checkstage_num(stageNum, 2, info_evcc_send_split[i][j],\n",
    "                                  timelist_evcc_send_split[i][j], data_length_evcc_send_split[i][j],\n",
    "                                  seq_num_evcc_send_split[i][j], frame_num_evcc_send_split[i][j])):\n",
    "                evcc_send_time_anchor_each_round.append(timelist_evcc_send_split[i][j])\n",
    "                printinfo(stageNum, frame_num_evcc_send_split[i][j], info_evcc_send_split[i][j])\n",
    "                print_time_difference(evcc_send_time_anchor_each_round)\n",
    "                stageNum = stageNum + 1\n",
    "                \n",
    "                continue\n",
    "                \n",
    "        #Stage 3\n",
    "        if(data_length_evcc_send_split[i][j] == 189 and data_length_evcc_send_split[i][j-1] != 189):\n",
    "            if(checkstage_num(stageNum, 3, info_evcc_send_split[i][j],\n",
    "                                  timelist_evcc_send_split[i][j], data_length_evcc_send_split[i][j],\n",
    "                                  seq_num_evcc_send_split[i][j], frame_num_evcc_send_split[i][j])):\n",
    "                evcc_send_time_anchor_each_round.append(timelist_evcc_send_split[i][j])\n",
    "                printinfo(stageNum, frame_num_evcc_send_split[i][j], info_evcc_send_split[i][j])\n",
    "                print_time_difference(evcc_send_time_anchor_each_round)\n",
    "                stageNum = stageNum + 1\n",
    "                \n",
    "                continue\n",
    "                \n",
    "        #Stage 4 \n",
    "        if(data_length_evcc_send_split[i][j] == 173 and data_length_evcc_send_split[i][j-1] != 173):\n",
    "            \n",
    "            #if(info_evcc_send_split[i][j][-2:] == 'TC'):\n",
    "            if(checkstage_num(stageNum, 4, info_evcc_send_split[i][j],\n",
    "                                  timelist_evcc_send_split[i][j], data_length_evcc_send_split[i][j],\n",
    "                                  seq_num_evcc_send_split[i][j], frame_num_evcc_send_split[i][j])):\n",
    "                evcc_send_time_anchor_each_round.append(timelist_evcc_send_split[i][j])\n",
    "                printinfo(stageNum, frame_num_evcc_send_split[i][j], info_evcc_send_split[i][j])\n",
    "                print_time_difference(evcc_send_time_anchor_each_round)\n",
    "                stageNum = stageNum + 1\n",
    "                continue\n",
    "            '''\n",
    "            else: print(\"Stage \" + str(stageNum) +\n",
    "                        \", Not TC? No. \" + str(frame_num_evcc_send_split[i][j]) +\n",
    "                        \", Data length \" + str(data_length_evcc_send_split[i][j]) +\n",
    "                        \", Info \" + str(info_evcc_send_split[i][j]))\n",
    "            '''\n",
    "            \n",
    "        #Stage 5, tricky\n",
    "        if(data_length_evcc_send_split[i][j] == 173):    \n",
    "            if(info_evcc_send_split[i][j][-2:] == 'TC'):\n",
    "                if(checkstage_num(stageNum, 5, info_evcc_send_split[i][j],\n",
    "                                      timelist_evcc_send_split[i][j], data_length_evcc_send_split[i][j],\n",
    "                                      seq_num_evcc_send_split[i][j], frame_num_evcc_send_split[i][j])):\n",
    "                    evcc_send_time_anchor_each_round.append(timelist_evcc_send_split[i][j])\n",
    "                    printinfo(stageNum, frame_num_evcc_send_split[i][j], info_evcc_send_split[i][j])\n",
    "                    print_time_difference(evcc_send_time_anchor_each_round)\n",
    "                    stageNum = stageNum + 1\n",
    "                    \n",
    "                    continue\n",
    "            \n",
    "            else: #info_evcc_send_split[i][j][-2:] == 'FC'\n",
    "                #Backward checking 2 packets\n",
    "                isTCfound = False\n",
    "                for k in range(1, 3):\n",
    "                    if(data_length_evcc_send_split[i][j-k] == 173 and info_evcc_send_split[i][j-k][-2:] == 'TC'):\n",
    "                        isTCfound = True\n",
    "                        break\n",
    "                \n",
    "                if(not isTCfound):\n",
    "                    if(checkstage_num(stageNum, 5, info_evcc_send_split[i][j],\n",
    "                                      timelist_evcc_send_split[i][j], data_length_evcc_send_split[i][j],\n",
    "                                      seq_num_evcc_send_split[i][j], frame_num_evcc_send_split[i][j])):\n",
    "                        print(\"Stage \" + str(stageNum) +\n",
    "                            \", Not TC? No. \" + str(frame_num_evcc_send_split[i][j]) +\n",
    "                            \", Data length \" + str(data_length_evcc_send_split[i][j]) +\n",
    "                            \", Info \" + str(info_evcc_send_split[i][j]) + \" , Count FC because TC cannot be found.\")\n",
    "                        evcc_send_time_anchor_each_round.append(timelist_evcc_send_split[i][j])\n",
    "                        printinfo(stageNum, frame_num_evcc_send_split[i][j], info_evcc_send_split[i][j])\n",
    "                        print_time_difference(evcc_send_time_anchor_each_round)\n",
    "                        stageNum = stageNum + 1\n",
    "\n",
    "                        continue\n",
    "                \n",
    "        #Stage 6, tricky\n",
    "        if(data_length_evcc_send_split[i][j] == 173):\n",
    "            if(info_evcc_send_split[i][j][-2:] == 'TC'):\n",
    "                if(checkstage_num(stageNum, 6, info_evcc_send_split[i][j],\n",
    "                                      timelist_evcc_send_split[i][j], data_length_evcc_send_split[i][j],\n",
    "                                      seq_num_evcc_send_split[i][j], frame_num_evcc_send_split[i][j])):\n",
    "                    evcc_send_time_anchor_each_round.append(timelist_evcc_send_split[i][j])\n",
    "                    printinfo(stageNum, frame_num_evcc_send_split[i][j], info_evcc_send_split[i][j])\n",
    "                    print_time_difference(evcc_send_time_anchor_each_round)\n",
    "                    stageNum = stageNum + 1\n",
    "                    \n",
    "                    continue\n",
    "                    \n",
    "            else: #info_evcc_send_split[i][j][-2:] == 'FC'\n",
    "                #Backward checking 2 packets\n",
    "                isTCfound = False\n",
    "                for k in range(1, 3):\n",
    "                    if(data_length_evcc_send_split[i][j-k] == 173 and info_evcc_send_split[i][j-k][-2:] == 'TC'):\n",
    "                        isTCfound = True\n",
    "                        break\n",
    "\n",
    "                if(not isTCfound):\n",
    "                    if(checkstage_num(stageNum, 6, info_evcc_send_split[i][j],\n",
    "                                      timelist_evcc_send_split[i][j], data_length_evcc_send_split[i][j],\n",
    "                                      seq_num_evcc_send_split[i][j], frame_num_evcc_send_split[i][j])):\n",
    "                        print(\"Stage \" + str(stageNum) +\n",
    "                            \", Not TC? No. \" + str(frame_num_evcc_send_split[i][j]) +\n",
    "                            \", Data length \" + str(data_length_evcc_send_split[i][j]) +\n",
    "                            \", Info \" + str(info_evcc_send_split[i][j]) + \" , Count FC because TC cannot be found.\")\n",
    "                        evcc_send_time_anchor_each_round.append(timelist_evcc_send_split[i][j])\n",
    "                        printinfo(stageNum, frame_num_evcc_send_split[i][j], info_evcc_send_split[i][j])\n",
    "                        print_time_difference(evcc_send_time_anchor_each_round)\n",
    "                        stageNum = stageNum + 1\n",
    "                \n",
    "                        #Deal with packet loss......\n",
    "                        if(i == 16 and packet_loss_testing_round_17_flag == False):\n",
    "                            evcc_send_time_anchor_each_round.append(863.932378)\n",
    "                            printinfo(stageNum, 2120973, \"Packet Loss\")\n",
    "                            print_time_difference(evcc_send_time_anchor_each_round)\n",
    "                            stageNum = stageNum + 1\n",
    "                            packet_loss_testing_round_17_flag = True\n",
    "\n",
    "                        continue\n",
    "        \n",
    "        #Stage 7\n",
    "        if(data_length_evcc_send_split[i][j] == 185 and data_length_evcc_send_split[i][j-1] != 185):\n",
    "            if(checkstage_num(stageNum, 7, info_evcc_send_split[i][j],\n",
    "                                  timelist_evcc_send_split[i][j], data_length_evcc_send_split[i][j],\n",
    "                                  seq_num_evcc_send_split[i][j], frame_num_evcc_send_split[i][j])):\n",
    "                evcc_send_time_anchor_each_round.append(timelist_evcc_send_split[i][j])\n",
    "                printinfo(stageNum, frame_num_evcc_send_split[i][j], info_evcc_send_split[i][j])\n",
    "                print_time_difference(evcc_send_time_anchor_each_round)\n",
    "                stageNum = stageNum + 1\n",
    "                \n",
    "                continue\n",
    "                \n",
    "        #Stage 8\n",
    "        if(data_length_evcc_send_split[i][j] == 461 and data_length_evcc_send_split[i][j-1] != 461):\n",
    "            if(checkstage_num(stageNum, 8, info_evcc_send_split[i][j],\n",
    "                                  timelist_evcc_send_split[i][j], data_length_evcc_send_split[i][j],\n",
    "                                  seq_num_evcc_send_split[i][j], frame_num_evcc_send_split[i][j])):\n",
    "                evcc_send_time_anchor_each_round.append(timelist_evcc_send_split[i][j])\n",
    "                printinfo(stageNum, frame_num_evcc_send_split[i][j], info_evcc_send_split[i][j])\n",
    "                print_time_difference(evcc_send_time_anchor_each_round)\n",
    "                stageNum = stageNum + 1\n",
    "                continue\n",
    "        #Stage 9\n",
    "        if(data_length_evcc_send_split[i][j] == 189 and data_length_evcc_send_split[i][j-1] != 189):\n",
    "            if(checkstage_num(stageNum, 9, info_evcc_send_split[i][j],\n",
    "                                  timelist_evcc_send_split[i][j], data_length_evcc_send_split[i][j],\n",
    "                                  seq_num_evcc_send_split[i][j], frame_num_evcc_send_split[i][j])):\n",
    "                evcc_send_time_anchor_each_round.append(timelist_evcc_send_split[i][j])\n",
    "                printinfo(stageNum, frame_num_evcc_send_split[i][j], info_evcc_send_split[i][j])\n",
    "                print_time_difference(evcc_send_time_anchor_each_round)\n",
    "                stageNum = stageNum + 1\n",
    "                \n",
    "                #Deal with packet loss......\n",
    "                if(i == 17 and packet_loss_testing_round_18_flag == False):\n",
    "                    evcc_send_time_anchor_each_round.append(889.402340)\n",
    "                    printinfo(stageNum, 2255007, \"Packet Loss\")\n",
    "                    print_time_difference(evcc_send_time_anchor_each_round)\n",
    "                    stageNum = stageNum + 1\n",
    "                    packet_loss_testing_round_18_flag = True\n",
    "                \n",
    "                continue\n",
    "                \n",
    "        #Stage 10\n",
    "        if(data_length_evcc_send_split[i][j] == 173 and data_length_evcc_send_split[i][j-1] != 173):\n",
    "            \n",
    "            if(info_evcc_send_split[i][j][-2:] == 'TC'):\n",
    "                if(checkstage_num(stageNum, 10, info_evcc_send_split[i][j],\n",
    "                                      timelist_evcc_send_split[i][j], data_length_evcc_send_split[i][j],\n",
    "                                      seq_num_evcc_send_split[i][j], frame_num_evcc_send_split[i][j])):\n",
    "                    evcc_send_time_anchor_each_round.append(timelist_evcc_send_split[i][j])\n",
    "                    printinfo(stageNum, frame_num_evcc_send_split[i][j], info_evcc_send_split[i][j])\n",
    "                    print_time_difference(evcc_send_time_anchor_each_round)\n",
    "                    stageNum = stageNum + 1\n",
    "                    \n",
    "            else: #info_evcc_send_split[i][j][-2:] == 'FC'\n",
    "                #Backward checking 2 packets\n",
    "                isTCfound = False\n",
    "                for k in range(1, 3):\n",
    "                    if(data_length_evcc_send_split[i][j-k] == 173 and info_evcc_send_split[i][j-k][-2:] == 'TC'):\n",
    "                        isTCfound = True\n",
    "                        break\n",
    "\n",
    "                if(not isTCfound):\n",
    "                    if(checkstage_num(stageNum, 10, info_evcc_send_split[i][j],\n",
    "                                      timelist_evcc_send_split[i][j], data_length_evcc_send_split[i][j],\n",
    "                                      seq_num_evcc_send_split[i][j], frame_num_evcc_send_split[i][j])):\n",
    "                        print(\"Stage \" + str(stageNum) +\n",
    "                            \", Not TC? No. \" + str(frame_num_evcc_send_split[i][j]) +\n",
    "                            \", Data length \" + str(data_length_evcc_send_split[i][j]) +\n",
    "                            \", Info \" + str(info_evcc_send_split[i][j]) + \" , Count FC because TC cannot be found.\")\n",
    "                        evcc_send_time_anchor_each_round.append(timelist_evcc_send_split[i][j])\n",
    "                        printinfo(stageNum, frame_num_evcc_send_split[i][j], info_evcc_send_split[i][j])\n",
    "                        print_time_difference(evcc_send_time_anchor_each_round)\n",
    "                        stageNum = stageNum + 1\n",
    "                \n",
    "        if(stageNum == 11): break\n",
    "        \n",
    "    evcc_send_time_anchor.append(evcc_send_time_anchor_each_round)"
   ]
  },
  {
   "cell_type": "code",
   "execution_count": 132,
   "metadata": {},
   "outputs": [
    {
     "name": "stdout",
     "output_type": "stream",
     "text": [
      "20\n",
      "\n",
      "10\n",
      "10\n",
      "6\n",
      "10\n",
      "10\n",
      "10\n",
      "10\n",
      "10\n",
      "10\n",
      "10\n",
      "10\n",
      "10\n",
      "10\n",
      "10\n",
      "10\n",
      "10\n",
      "10\n",
      "10\n",
      "10\n",
      "10\n"
     ]
    }
   ],
   "source": [
    "#for debug\n",
    "print(str(len(evcc_send_time_anchor)) + '\\n')\n",
    "for i in range(0, len(evcc_send_time_anchor)):\n",
    "    print(len(evcc_send_time_anchor[i]))"
   ]
  },
  {
   "cell_type": "code",
   "execution_count": 133,
   "metadata": {},
   "outputs": [
    {
     "data": {
      "text/plain": [
       "[885.378193,\n",
       " 885.959973,\n",
       " 887.454293,\n",
       " 887.697272,\n",
       " 888.286644,\n",
       " 888.497483,\n",
       " 888.779443,\n",
       " 889.158449,\n",
       " 889.377174,\n",
       " 889.40234]"
      ]
     },
     "execution_count": 133,
     "metadata": {},
     "output_type": "execute_result"
    }
   ],
   "source": [
    "evcc_send_time_anchor[17]"
   ]
  },
  {
   "cell_type": "code",
   "execution_count": null,
   "metadata": {},
   "outputs": [],
   "source": [
    "wierd_packet"
   ]
  },
  {
   "cell_type": "code",
   "execution_count": 51,
   "metadata": {},
   "outputs": [
    {
     "data": {
      "text/plain": [
       "55"
      ]
     },
     "execution_count": 51,
     "metadata": {},
     "output_type": "execute_result"
    }
   ],
   "source": [
    "len(wierd_packet)"
   ]
  },
  {
   "cell_type": "code",
   "execution_count": 134,
   "metadata": {},
   "outputs": [
    {
     "name": "stdout",
     "output_type": "stream",
     "text": [
      "3.6254920000000013\n",
      "2.3554220000000043\n",
      "5.339817999999994\n",
      "2.79085400000001\n",
      "2.826812000000018\n",
      "3.5694660000000056\n",
      "2.7912100000000066\n",
      "2.7932519999999954\n",
      "2.422947999999991\n",
      "2.8684279999999944\n",
      "4.303710000000024\n",
      "3.7993640000000823\n",
      "3.264122000000043\n",
      "2.1577740000000176\n",
      "2.5599109999999428\n",
      "2.8064079999999194\n",
      "4.042784000000097\n",
      "4.024146999999971\n",
      "2.377668999999969\n",
      "3.950476999999978\n"
     ]
    }
   ],
   "source": [
    "#for debug\n",
    "for i in range(0, len(evcc_send_time_anchor)):\n",
    "    print(evcc_send_time_anchor[i][len(evcc_send_time_anchor[i])-1]-evcc_send_time_anchor[i][0])"
   ]
  },
  {
   "cell_type": "code",
   "execution_count": null,
   "metadata": {},
   "outputs": [],
   "source": []
  },
  {
   "cell_type": "code",
   "execution_count": 135,
   "metadata": {},
   "outputs": [],
   "source": [
    "#Processing secc send\n",
    "with open('csv/DataLink/max/max_secc_send.csv', newline='') as csvfile:\n",
    "    rows = csv.DictReader(csvfile)\n",
    "    timelist_secc_send = []\n",
    "    seq_num_secc_send = []\n",
    "    data_length_secc_send = []\n",
    "    info_secc_send = []\n",
    "    frame_num_secc_send = []\n",
    "    \n",
    "    for row in rows:\n",
    "        timelist_secc_send.append(float(row['Time']))\n",
    "        seq_num_secc_send.append(int(row['Sequence number']))\n",
    "        data_length_secc_send.append(int(row['Data Length']))\n",
    "        info_secc_send.append(str(row['Info']))\n",
    "        frame_num_secc_send.append(int(row['No.']))"
   ]
  },
  {
   "cell_type": "code",
   "execution_count": 136,
   "metadata": {},
   "outputs": [
    {
     "name": "stdout",
     "output_type": "stream",
     "text": [
      "1232\n"
     ]
    }
   ],
   "source": [
    "#for debug\n",
    "if(len(timelist_secc_send) != len(seq_num_secc_send)):\n",
    "    print(\"Error. Length is not equal.\")\n",
    "elif(len(timelist_secc_send) != len(data_length_secc_send)):\n",
    "    print(\"Error. Length is not equal.\")\n",
    "elif(len(timelist_secc_send) != len(info_secc_send)):\n",
    "    print(\"Error. Length is not equal.\")\n",
    "elif(len(timelist_secc_send) != len(frame_num_secc_send)):\n",
    "    print(\"Error. Length is not equal.\")\n",
    "else:\n",
    "    print(len(timelist_secc_send))"
   ]
  },
  {
   "cell_type": "code",
   "execution_count": 137,
   "metadata": {},
   "outputs": [],
   "source": [
    "timelist_secc_send_split = []\n",
    "seq_num_secc_send_split = []\n",
    "data_length_secc_send_split = []\n",
    "info_secc_send_split = []\n",
    "frame_num_secc_send_split = []\n",
    "\n",
    "round_start_point = 0\n",
    "round_end_point = 0\n",
    "\n",
    "sdpres_index_list = []\n",
    "#Fetch first packet index of data length = 92 (SDP response) in each round\n",
    "for i in range(0, len(data_length_secc_send)):\n",
    "    if(i == 0 and data_length_secc_send[i] == 92):\n",
    "        sdpres_index_list.append(i)\n",
    "    if(i > 0 and data_length_secc_send[i] == 92 and data_length_secc_send[i-1] != 92):\n",
    "        sdpres_index_list.append(i)\n",
    "sdpres_index_list.append(len(data_length_secc_send)) #Add the end of list index\n",
    "\n",
    "for i in range(0, len(sdpres_index_list)-1):\n",
    "        timelist_secc_send_split.append([timelist_secc_send[j] for j in range(sdpres_index_list[i], sdpres_index_list[i+1])])\n",
    "        seq_num_secc_send_split.append([seq_num_secc_send[j] for j in range(sdpres_index_list[i], sdpres_index_list[i+1])])\n",
    "        data_length_secc_send_split.append([data_length_secc_send[j] for j in range(sdpres_index_list[i], sdpres_index_list[i+1])])\n",
    "        info_secc_send_split.append([info_secc_send[j] for j in range(sdpres_index_list[i], sdpres_index_list[i+1])])\n",
    "        frame_num_secc_send_split.append([frame_num_secc_send[j] for j in range(sdpres_index_list[i], sdpres_index_list[i+1])])"
   ]
  },
  {
   "cell_type": "code",
   "execution_count": 138,
   "metadata": {},
   "outputs": [
    {
     "name": "stdout",
     "output_type": "stream",
     "text": [
      "20\n"
     ]
    }
   ],
   "source": [
    "#for debug\n",
    "if(len(timelist_secc_send_split) != len(seq_num_secc_send_split)):\n",
    "    print(\"Error. Length is not equal.\")\n",
    "elif(len(timelist_secc_send_split) != len(data_length_secc_send_split)):\n",
    "    print(\"Error. Length is not equal.\")\n",
    "elif(len(timelist_secc_send_split) != len(info_secc_send_split)):\n",
    "    print(\"Error. Length is not equal.\")\n",
    "elif(len(timelist_secc_send_split) != len(frame_num_secc_send_split)):\n",
    "    print(\"Error. Length is not equal.\")\n",
    "else:\n",
    "    print(len(timelist_secc_send_split)) #Output # of testing rounds"
   ]
  },
  {
   "cell_type": "code",
   "execution_count": null,
   "metadata": {},
   "outputs": [],
   "source": [
    "for i in range(0, len(timelist_secc_send_split)):\n",
    "    print('i = ' + str(i))\n",
    "    print(len(timelist_secc_send_split[i]))"
   ]
  },
  {
   "cell_type": "code",
   "execution_count": 59,
   "metadata": {},
   "outputs": [
    {
     "name": "stdout",
     "output_type": "stream",
     "text": [
      "24.082756000000003\n",
      "21.84021399999999\n",
      "22.82033600000001\n",
      "22.12068499999998\n",
      "22.15644800000001\n",
      "22.690720999999996\n",
      "22.534212999999994\n",
      "21.90246300000001\n",
      "22.14787000000001\n",
      "481.47966399999996\n",
      "24.10407299999997\n",
      "24.023629000000028\n",
      "22.626667999999995\n",
      "21.417468999999983\n",
      "22.722620000000006\n",
      "22.72661000000005\n",
      "24.066769000000022\n",
      "23.87122999999997\n",
      "21.79495099999997\n"
     ]
    }
   ],
   "source": [
    "#for debug, this is ideally the time of each testing round\n",
    "for i in range(1, len(timelist_secc_send_split)):\n",
    "    print(timelist_secc_send_split[i][0]-timelist_secc_send_split[i-1][0])"
   ]
  },
  {
   "cell_type": "code",
   "execution_count": 247,
   "metadata": {},
   "outputs": [],
   "source": [
    "'''\n",
    "del timelist_secc_send_split[15]\n",
    "del seq_num_secc_send_split[15]\n",
    "del data_length_secc_send_split[15]\n",
    "del info_secc_send_split[15]\n",
    "del frame_num_secc_send_split[15]\n",
    "'''"
   ]
  },
  {
   "cell_type": "code",
   "execution_count": 60,
   "metadata": {},
   "outputs": [
    {
     "name": "stdout",
     "output_type": "stream",
     "text": [
      "i = 0 85\n",
      "i = 1 61\n",
      "i = 2 53\n",
      "i = 3 55\n",
      "i = 4 56\n",
      "i = 5 71\n",
      "i = 6 61\n",
      "i = 7 73\n",
      "i = 8 50\n",
      "i = 9 64\n",
      "i = 10 57\n",
      "i = 11 60\n",
      "i = 12 27\n",
      "i = 13 59\n",
      "i = 14 76\n",
      "i = 15 95\n",
      "i = 16 63\n",
      "i = 17 54\n",
      "i = 18 50\n",
      "i = 19 62\n"
     ]
    }
   ],
   "source": [
    "for i in range(0, len(timelist_secc_send_split)):\n",
    "    print('i = ' + str(i) + ' ', end = '')\n",
    "    print(len(timelist_secc_send_split[i]))"
   ]
  },
  {
   "cell_type": "code",
   "execution_count": 61,
   "metadata": {},
   "outputs": [
    {
     "name": "stdout",
     "output_type": "stream",
     "text": [
      "24.082756000000003\n",
      "21.84021399999999\n",
      "22.82033600000001\n",
      "22.12068499999998\n",
      "22.15644800000001\n",
      "22.690720999999996\n",
      "22.534212999999994\n",
      "21.90246300000001\n",
      "22.14787000000001\n",
      "481.47966399999996\n",
      "24.10407299999997\n",
      "24.023629000000028\n",
      "22.626667999999995\n",
      "21.417468999999983\n",
      "22.722620000000006\n",
      "22.72661000000005\n",
      "24.066769000000022\n",
      "23.87122999999997\n",
      "21.79495099999997\n"
     ]
    }
   ],
   "source": [
    "for i in range(1, len(timelist_secc_send_split)):\n",
    "    print(timelist_secc_send_split[i][0]-timelist_secc_send_split[i-1][0])"
   ]
  },
  {
   "cell_type": "code",
   "execution_count": null,
   "metadata": {},
   "outputs": [],
   "source": [
    "#Set secc time anchor in each round per stage\n",
    "secc_send_time_anchor = []\n",
    "#data_length_in_each_stage = [92, 173, 157, 189, 253, 173, 189, 173, 493, 173]\n",
    "wierd_packet_secc = {}\n",
    "#packet_loss_testing_round_5_flag = False\n",
    "\n",
    "def printinfo(stageNum, frameNum, info_string):\n",
    "    print(\"-----------------------------------------\")\n",
    "    print(\"Stage \" + str(stageNum) + \" finish. No. \" + str(frameNum) + \", Info \" + str(info_string))\n",
    "\n",
    "def print_time_difference(secc_send_time_anchor_each_round):\n",
    "    print(\"Time difference: \" + str(secc_send_time_anchor_each_round[len(secc_send_time_anchor_each_round)-1]-\n",
    "                          secc_send_time_anchor_each_round[len(secc_send_time_anchor_each_round)-2]))\n",
    "    \n",
    "def checkstage_num(stageNum, valid_stageNum, info_string, time_string, datalen, seqnum, frameNum):\n",
    "    if(stageNum == valid_stageNum):\n",
    "        check_wield_packet_list(frameNum)\n",
    "        return True\n",
    "    else:\n",
    "        #debug\n",
    "        print(\"\\nWhat is this packet? Data Length = \" + str(datalen) + \" No. \" + str(frameNum))\n",
    "        print(\"Time \" + str(time_string) + \" #Seq \" + str(seqnum) + \" Info \" + str(info_string) + \"\\n\")\n",
    "        wierd_packet_secc[frameNum] = [datalen, stageNum]\n",
    "        return False\n",
    "\n",
    "def check_wield_packet_list(frameNum):\n",
    "    if(wierd_packet_secc.get(frameNum) != None):\n",
    "        del wierd_packet_secc[frameNum]\n",
    "        print(\"\\nNo. \" + str(frameNum) + \" has been found. Delete from wierd list.\\n\")\n",
    "    \n",
    "for i in range(0, len(data_length_secc_send_split)):\n",
    "#for i in [12]:\n",
    "    print(\"\\n-------- Test Round \" + str(i+1) + \" --------\")\n",
    "    #Stage 1\n",
    "    secc_send_time_anchor_each_round = [timelist_secc_send_split[i][0]]\n",
    "    stageNum = 1\n",
    "    printinfo(stageNum, frame_num_secc_send_split[i][0], info_secc_send_split[i][0])\n",
    "    stageNum = stageNum + 1\n",
    "    \n",
    "    for j in range(1, len(data_length_secc_send_split[i])):\n",
    "        #Stage 2\n",
    "        if(data_length_secc_send_split[i][j] == 173 and data_length_secc_send_split[i][j-1] != 173):\n",
    "            if(info_secc_send_split[i][j][-2:] == 'TC'):\n",
    "                if(checkstage_num(stageNum, 2, info_secc_send_split[i][j],\n",
    "                                      timelist_secc_send_split[i][j], data_length_secc_send_split[i][j],\n",
    "                                      seq_num_secc_send_split[i][j], frame_num_secc_send_split[i][j])):\n",
    "                    secc_send_time_anchor_each_round.append(timelist_secc_send_split[i][j])\n",
    "                    printinfo(stageNum, frame_num_secc_send_split[i][j], info_secc_send_split[i][j])\n",
    "                    print_time_difference(secc_send_time_anchor_each_round)\n",
    "                    stageNum = stageNum + 1\n",
    "                    \n",
    "                    continue\n",
    "                    \n",
    "            else:\n",
    "                print(\"Stage \" + str(stageNum) +\n",
    "                      \", Not TC? No. \" + str(frame_num_secc_send_split[i][j]) +\n",
    "                      \", Data length \" + str(data_length_secc_send_split[i][j]) +\n",
    "                      \", Info \" + str(info_secc_send_split[i][j]))\n",
    "        #Stage 3\n",
    "        if(data_length_secc_send_split[i][j] == 157 and data_length_secc_send_split[i][j-1] != 157):\n",
    "            if(checkstage_num(stageNum, 3, info_secc_send_split[i][j],\n",
    "                                  timelist_secc_send_split[i][j], data_length_secc_send_split[i][j],\n",
    "                                  seq_num_secc_send_split[i][j], frame_num_secc_send_split[i][j])):\n",
    "                secc_send_time_anchor_each_round.append(timelist_secc_send_split[i][j])\n",
    "                printinfo(stageNum, frame_num_secc_send_split[i][j], info_secc_send_split[i][j])\n",
    "                print_time_difference(secc_send_time_anchor_each_round)\n",
    "                stageNum = stageNum + 1\n",
    "                \n",
    "                continue\n",
    "                \n",
    "        #Stage 4\n",
    "        if(data_length_secc_send_split[i][j] == 189 and data_length_secc_send_split[i][j-1] != 189):\n",
    "            if(checkstage_num(stageNum, 4, info_secc_send_split[i][j],\n",
    "                                  timelist_secc_send_split[i][j], data_length_secc_send_split[i][j],\n",
    "                                  seq_num_secc_send_split[i][j], frame_num_secc_send_split[i][j])):\n",
    "                secc_send_time_anchor_each_round.append(timelist_secc_send_split[i][j])\n",
    "                printinfo(stageNum, frame_num_secc_send_split[i][j], info_secc_send_split[i][j])\n",
    "                print_time_difference(secc_send_time_anchor_each_round)\n",
    "                stageNum = stageNum + 1\n",
    "                \n",
    "                '''\n",
    "                #Deal with packet loss......\n",
    "                if(i == 6 and packet_loss_testing_round_6_flag == False):\n",
    "                    secc_send_time_anchor_each_round.append(233.058599)\n",
    "                    printinfo(stageNum, 27570, \"Packet Loss\")\n",
    "                    print_time_difference(secc_send_time_anchor_each_round)\n",
    "                    stageNum = stageNum + 1\n",
    "                    packet_loss_testing_round_6_flag = True\n",
    "                '''\n",
    "                    \n",
    "                continue\n",
    "                \n",
    "        #Stage 5\n",
    "        if(data_length_secc_send_split[i][j] == 253 and data_length_secc_send_split[i][j-1] != 253):\n",
    "            if(checkstage_num(stageNum, 5, info_secc_send_split[i][j],\n",
    "                                  timelist_secc_send_split[i][j], data_length_secc_send_split[i][j],\n",
    "                                  seq_num_secc_send_split[i][j], frame_num_secc_send_split[i][j])):\n",
    "                secc_send_time_anchor_each_round.append(timelist_secc_send_split[i][j])\n",
    "                printinfo(stageNum, frame_num_secc_send_split[i][j], info_secc_send_split[i][j])\n",
    "                print_time_difference(secc_send_time_anchor_each_round)\n",
    "                stageNum = stageNum + 1\n",
    "                \n",
    "                continue\n",
    "                \n",
    "        #Stage 6\n",
    "        if(data_length_secc_send_split[i][j] == 173 and data_length_secc_send_split[i][j-1] != 173):\n",
    "            if(info_secc_send_split[i][j][-2:] == 'TC'):\n",
    "                if(checkstage_num(stageNum, 6, info_secc_send_split[i][j],\n",
    "                                      timelist_secc_send_split[i][j], data_length_secc_send_split[i][j],\n",
    "                                      seq_num_secc_send_split[i][j], frame_num_secc_send_split[i][j])):\n",
    "                    secc_send_time_anchor_each_round.append(timelist_secc_send_split[i][j])\n",
    "                    printinfo(stageNum, frame_num_secc_send_split[i][j], info_secc_send_split[i][j])\n",
    "                    print_time_difference(secc_send_time_anchor_each_round)\n",
    "                    stageNum = stageNum + 1\n",
    "                    \n",
    "                    continue\n",
    "                    \n",
    "            else:\n",
    "                print(\"Stage \" + str(stageNum) +\n",
    "                      \", Not TC? No. \" + str(frame_num_secc_send_split[i][j]) +\n",
    "                      \", Data length \" + str(data_length_secc_send_split[i][j]) +\n",
    "                      \", Info \" + str(info_secc_send_split[i][j]))\n",
    "        #Stage 7\n",
    "        if(data_length_secc_send_split[i][j] == 189 and data_length_secc_send_split[i][j-1] != 189):\n",
    "            if(checkstage_num(stageNum, 7, info_secc_send_split[i][j],\n",
    "                                  timelist_secc_send_split[i][j], data_length_secc_send_split[i][j],\n",
    "                                  seq_num_secc_send_split[i][j], frame_num_secc_send_split[i][j])):\n",
    "                secc_send_time_anchor_each_round.append(timelist_secc_send_split[i][j])\n",
    "                printinfo(stageNum, frame_num_secc_send_split[i][j], info_secc_send_split[i][j])\n",
    "                print_time_difference(secc_send_time_anchor_each_round)\n",
    "                stageNum = stageNum + 1\n",
    "                \n",
    "                continue\n",
    "                \n",
    "        #Stage 8\n",
    "        if(data_length_secc_send_split[i][j] == 173 and data_length_secc_send_split[i][j-1] != 173):\n",
    "            if(info_secc_send_split[i][j][-2:] == 'TC'):\n",
    "                if(checkstage_num(stageNum, 8, info_secc_send_split[i][j],\n",
    "                                      timelist_secc_send_split[i][j], data_length_secc_send_split[i][j],\n",
    "                                      seq_num_secc_send_split[i][j], frame_num_secc_send_split[i][j])):\n",
    "                    secc_send_time_anchor_each_round.append(timelist_secc_send_split[i][j])\n",
    "                    printinfo(stageNum, frame_num_secc_send_split[i][j], info_secc_send_split[i][j])\n",
    "                    print_time_difference(secc_send_time_anchor_each_round)\n",
    "                    stageNum = stageNum + 1\n",
    "                    \n",
    "                    continue\n",
    "                    \n",
    "            else:\n",
    "                print(\"Stage \" + str(stageNum) +\n",
    "                      \", Not TC? No. \" + str(frame_num_secc_send_split[i][j]) +\n",
    "                      \", Data length \" + str(data_length_secc_send_split[i][j]) +\n",
    "                      \", Info \" + str(info_secc_send_split[i][j]))\n",
    "        #Stage 9\n",
    "        if(data_length_secc_send_split[i][j] == 493 and data_length_secc_send_split[i][j-1] != 493):\n",
    "            if(checkstage_num(stageNum, 9, info_secc_send_split[i][j],\n",
    "                                  timelist_secc_send_split[i][j], data_length_secc_send_split[i][j],\n",
    "                                  seq_num_secc_send_split[i][j], frame_num_secc_send_split[i][j])):\n",
    "                secc_send_time_anchor_each_round.append(timelist_secc_send_split[i][j])\n",
    "                printinfo(stageNum, frame_num_secc_send_split[i][j], info_secc_send_split[i][j])\n",
    "                print_time_difference(secc_send_time_anchor_each_round)\n",
    "                stageNum = stageNum + 1\n",
    "                \n",
    "                continue\n",
    "                \n",
    "        #Stage 10\n",
    "        if(data_length_secc_send_split[i][j] == 173 and data_length_secc_send_split[i][j-1] != 173):\n",
    "            if(info_secc_send_split[i][j][-2:] == 'TC'):\n",
    "                if(checkstage_num(stageNum, 10, info_secc_send_split[i][j],\n",
    "                                      timelist_secc_send_split[i][j], data_length_secc_send_split[i][j],\n",
    "                                      seq_num_secc_send_split[i][j], frame_num_secc_send_split[i][j])):\n",
    "                    secc_send_time_anchor_each_round.append(timelist_secc_send_split[i][j])\n",
    "                    printinfo(stageNum, frame_num_secc_send_split[i][j], info_secc_send_split[i][j])\n",
    "                    print_time_difference(secc_send_time_anchor_each_round)\n",
    "                    stageNum = stageNum + 1\n",
    "                    \n",
    "                    continue\n",
    "                    \n",
    "            else:\n",
    "                print(\"Stage \" + str(stageNum) +\n",
    "                      \", Not TC? No. \" + str(frame_num_secc_send_split[i][j]) +\n",
    "                      \", Data length \" + str(data_length_secc_send_split[i][j]) +\n",
    "                      \", Info \" + str(info_secc_send_split[i][j]))\n",
    "        \n",
    "        if(stageNum == 11): break\n",
    "        \n",
    "    secc_send_time_anchor.append(secc_send_time_anchor_each_round)"
   ]
  },
  {
   "cell_type": "code",
   "execution_count": 140,
   "metadata": {},
   "outputs": [
    {
     "name": "stdout",
     "output_type": "stream",
     "text": [
      "20\n",
      "\n",
      "0: 10\n",
      "1: 10\n",
      "2: 10\n",
      "3: 10\n",
      "4: 10\n",
      "5: 10\n",
      "6: 10\n",
      "7: 10\n",
      "8: 10\n",
      "9: 10\n",
      "10: 10\n",
      "11: 10\n",
      "12: 3\n",
      "13: 10\n",
      "14: 10\n",
      "15: 10\n",
      "16: 10\n",
      "17: 10\n",
      "18: 10\n",
      "19: 10\n"
     ]
    }
   ],
   "source": [
    "#for debug\n",
    "print(str(len(secc_send_time_anchor)) + '\\n')\n",
    "for i in range(0, len(secc_send_time_anchor)):\n",
    "    print(str(i) + \": \" + str(len(secc_send_time_anchor[i])))"
   ]
  },
  {
   "cell_type": "code",
   "execution_count": 141,
   "metadata": {},
   "outputs": [
    {
     "name": "stdout",
     "output_type": "stream",
     "text": [
      "3.585324\n",
      "2.369760999999997\n",
      "3.043575000000004\n",
      "2.807596999999987\n",
      "2.815280999999999\n",
      "3.5192890000000148\n",
      "2.786799000000002\n",
      "2.6919710000000237\n",
      "2.4584680000000105\n",
      "2.784509999999983\n",
      "4.4303220000000465\n",
      "3.726026000000047\n",
      "19.796966999999995\n",
      "2.1529689999999846\n",
      "2.5243500000000267\n",
      "2.7499440000000277\n",
      "4.0595559999999296\n",
      "4.203814999999963\n",
      "2.3714439999999968\n",
      "3.947577000000024\n"
     ]
    }
   ],
   "source": [
    "#for debug\n",
    "for i in range(0, len(secc_send_time_anchor)):\n",
    "    print(secc_send_time_anchor[i][len(secc_send_time_anchor[i])-1]-secc_send_time_anchor[i][0])"
   ]
  },
  {
   "cell_type": "code",
   "execution_count": 142,
   "metadata": {},
   "outputs": [
    {
     "name": "stdout",
     "output_type": "stream",
     "text": [
      "18\n",
      "\n",
      "10\n",
      "10\n",
      "10\n",
      "10\n",
      "10\n",
      "10\n",
      "10\n",
      "10\n",
      "10\n",
      "10\n",
      "10\n",
      "10\n",
      "10\n",
      "10\n",
      "10\n",
      "10\n",
      "10\n",
      "10\n",
      "18\n",
      "\n",
      "10\n",
      "10\n",
      "10\n",
      "10\n",
      "10\n",
      "10\n",
      "10\n",
      "10\n",
      "10\n",
      "10\n",
      "10\n",
      "10\n",
      "10\n",
      "10\n",
      "10\n",
      "10\n",
      "10\n",
      "10\n"
     ]
    }
   ],
   "source": [
    "#Test Round 3: evcc send Too many lost packets... but no timeout\n",
    "#Test Round 13: secc send Too many lost packets...\n",
    "del evcc_send_time_anchor[12]\n",
    "del secc_send_time_anchor[12]\n",
    "del evcc_send_time_anchor[2]\n",
    "del secc_send_time_anchor[2]\n",
    "\n",
    "#for debug\n",
    "print(str(len(evcc_send_time_anchor)) + '\\n')\n",
    "for i in range(0, len(evcc_send_time_anchor)):\n",
    "    print(len(evcc_send_time_anchor[i]))\n",
    "    \n",
    "    \n",
    "#for debug\n",
    "print(str(len(secc_send_time_anchor)) + '\\n')\n",
    "for i in range(0, len(secc_send_time_anchor)):\n",
    "    print(len(secc_send_time_anchor[i]))"
   ]
  },
  {
   "cell_type": "code",
   "execution_count": null,
   "metadata": {},
   "outputs": [],
   "source": [
    "#BLOCK ACK processing\n",
    "#Time evcc sends blockACK after secc send\n",
    "evcc_blockAck_time_anchor = []\n",
    "\n",
    "blockack_index = 0\n",
    "for i in range(0, len(secc_send_time_anchor)):\n",
    "    evcc_blockAck_time_anchor_in_each_round = []\n",
    "    \n",
    "    for j in range(0, len(secc_send_time_anchor[i])):\n",
    "        while(timelist_block_ack[blockack_index] < secc_send_time_anchor[i][j]):\n",
    "            blockack_index = blockack_index + 1\n",
    "        evcc_blockAck_time_anchor_in_each_round.append(timelist_block_ack[blockack_index])\n",
    "        print(\"ACK time difference = \" + str(\n",
    "        timelist_block_ack[blockack_index] - secc_send_time_anchor[i][j]))\n",
    "    \n",
    "    evcc_blockAck_time_anchor.append(evcc_blockAck_time_anchor_in_each_round)"
   ]
  },
  {
   "cell_type": "code",
   "execution_count": 116,
   "metadata": {},
   "outputs": [],
   "source": [
    "#SECC Packet Loss dict\n",
    "#secc_packet_loss_dict[i] = {stageNum}\n",
    "# i = 5, j = 0 is packet loss of evcc BLOCK ACK\n",
    "# i = 3, j = 9 is packet loss of evcc BLOCK ACK\n",
    "secc_packet_loss_dict = {}\n",
    "\n",
    "#secc_packet_loss_dict[3] = {9}\n",
    "#secc_packet_loss_dict[5] = {0, 1, 2, 3, 4}\n",
    "\n",
    "#for i in secc_packet_loss_dict.get(5): print(i)\n",
    "#7 in secc_packet_loss_dict.get(5)"
   ]
  },
  {
   "cell_type": "code",
   "execution_count": 117,
   "metadata": {},
   "outputs": [
    {
     "name": "stdout",
     "output_type": "stream",
     "text": [
      "Avg Block Ack latency = 0.08252772222222685 s\n",
      "180\n"
     ]
    }
   ],
   "source": [
    "#Calculate the avg. block ack latency\n",
    "sum_latency = 0\n",
    "cnt = 0\n",
    "for i in range(0, len(evcc_blockAck_time_anchor)):\n",
    "    for j in range(0, len(evcc_blockAck_time_anchor[i])):\n",
    "        if(secc_packet_loss_dict.get(i) == None):\n",
    "            sum_latency = sum_latency + (evcc_blockAck_time_anchor[i][j]-secc_send_time_anchor[i][j])\n",
    "            cnt = cnt + 1\n",
    "        elif(secc_packet_loss_dict.get(i) != None):\n",
    "            if(j in secc_packet_loss_dict.get(i)): continue\n",
    "            else:\n",
    "                sum_latency = sum_latency + (evcc_blockAck_time_anchor[i][j]-secc_send_time_anchor[i][j])\n",
    "                cnt = cnt + 1\n",
    "        else: continue\n",
    "avg_blockAck_latency = sum_latency/cnt\n",
    "print(\"Avg Block Ack latency = \" + str(avg_blockAck_latency) + \" s\")\n",
    "print(cnt)"
   ]
  },
  {
   "cell_type": "code",
   "execution_count": null,
   "metadata": {},
   "outputs": [],
   "source": [
    "#For curiousity\n",
    "#Calculate the avg. block ack latency of the appending packet loss packets\n",
    "sum_latency_2 = 0\n",
    "cnt = 0\n",
    "for i in range(0, len(evcc_blockAck_time_anchor)):\n",
    "    for j in range(0, len(evcc_blockAck_time_anchor[i])):\n",
    "        if(secc_packet_loss_dict.get(i) != None):\n",
    "            if(j in secc_packet_loss_dict.get(i)):\n",
    "                sum_latency_2 = sum_latency_2 + (evcc_blockAck_time_anchor[i][j]-secc_send_time_anchor[i][j])\n",
    "                cnt = cnt + 1\n",
    "        else: continue\n",
    "avg_blockAck_latency_2 = sum_latency_2/cnt\n",
    "print(\"Avg Block Ack latency = \" + str(avg_blockAck_latency_2) + \" s\")\n",
    "print(cnt)"
   ]
  },
  {
   "cell_type": "code",
   "execution_count": 118,
   "metadata": {},
   "outputs": [
    {
     "name": "stdout",
     "output_type": "stream",
     "text": [
      "i = 0: 0.09508749999999822\n",
      "i = 1: 0.0808548999999914\n",
      "i = 2: 0.06088309999999808\n",
      "i = 3: 0.07692359999998644\n",
      "i = 4: 0.09267669999999839\n",
      "i = 5: 0.09291559999999777\n",
      "i = 6: 0.06589310000001092\n",
      "i = 7: 0.04958360000000539\n",
      "i = 8: 0.09640669999998863\n",
      "i = 9: 0.1306022999999641\n",
      "i = 10: 0.10185220000005302\n",
      "i = 11: 0.0183255999999119\n",
      "i = 12: 0.05684280000002673\n",
      "i = 13: 0.08050419999995029\n",
      "i = 14: 0.11232169999993857\n",
      "i = 15: 0.09704859999999371\n",
      "i = 16: 0.058514800000011746\n",
      "i = 17: 0.11826199999995879\n"
     ]
    }
   ],
   "source": [
    "#For debug. Can see testing round 6 (i = 5) has longer block ack latency due to packet loss.\n",
    "# I only append the secc send time, but didn't append the block time.\n",
    "from statistics import mean\n",
    "\n",
    "for i in range(0, len(evcc_blockAck_time_anchor)):\n",
    "    print(\"i = \" + str(i) + \": \" + str(mean(evcc_blockAck_time_anchor[i])-mean(secc_send_time_anchor[i])))"
   ]
  },
  {
   "cell_type": "code",
   "execution_count": 119,
   "metadata": {},
   "outputs": [
    {
     "name": "stdout",
     "output_type": "stream",
     "text": [
      "0.0018180000000000973\n",
      "0.015291000000004829\n",
      "0.15397299999999348\n",
      "0.03920000000000101\n",
      "0.02586799999999556\n",
      "0.1058659999999989\n",
      "0.2368799999999993\n",
      "0.12430899999999667\n",
      "0.027625000000000455\n",
      "0.22004499999999894\n"
     ]
    }
   ],
   "source": [
    "#For debug\n",
    "for j in range(0, 10):\n",
    "    print(evcc_blockAck_time_anchor[0][j]-secc_send_time_anchor[0][j])"
   ]
  },
  {
   "cell_type": "code",
   "execution_count": 120,
   "metadata": {},
   "outputs": [],
   "source": [
    "#Use the avg. block ack latency for the lost secc sent packets\n",
    "for i in range(0, len(evcc_blockAck_time_anchor)):\n",
    "    for j in range(0, len(evcc_blockAck_time_anchor[i])):\n",
    "        if(secc_packet_loss_dict.get(i) != None):\n",
    "            if(j in secc_packet_loss_dict.get(i)):\n",
    "                evcc_blockAck_time_anchor[i][j] = secc_send_time_anchor[i][j] + avg_blockAck_latency\n",
    "                print(\"i = \" + str(i))\n",
    "                print(\"j = \" + str(j))\n",
    "        else: continue"
   ]
  },
  {
   "cell_type": "code",
   "execution_count": 144,
   "metadata": {},
   "outputs": [],
   "source": [
    "#for debug check wierd value\n",
    "for i in range(0, len(evcc_blockAck_time_anchor)):\n",
    "    for j in range(0, len(evcc_blockAck_time_anchor[i])):\n",
    "        if(secc_send_time_anchor[i][j] - evcc_send_time_anchor[i][j] < 0):\n",
    "            print(\"i = \" + str(i) + \" j = \" + str(j))\n",
    "        if(evcc_blockAck_time_anchor[i][j] - evcc_send_time_anchor[i][j] < 0):\n",
    "            print(\"i = \" + str(i) + \" j = \" + str(j))"
   ]
  },
  {
   "cell_type": "code",
   "execution_count": 145,
   "metadata": {},
   "outputs": [
    {
     "name": "stdout",
     "output_type": "stream",
     "text": [
      "Stage 10\n",
      "889.40234\n",
      "889.592077\n",
      "889.744209\n",
      "0.3418689999999742\n",
      "\n",
      "\n"
     ]
    }
   ],
   "source": [
    "#For debug\n",
    "#secc send is based on 802.11 capture file (not 802.11_TCP combined file)\n",
    "i = 15\n",
    "for j in [9]:\n",
    "    print(\"Stage \" + str(j+1))\n",
    "    print(evcc_send_time_anchor[i][j])\n",
    "    print(secc_send_time_anchor[i][j])\n",
    "    print(evcc_blockAck_time_anchor[i][j])\n",
    "    print(evcc_blockAck_time_anchor[i][j]-evcc_send_time_anchor[i][j])\n",
    "    print(\"\\n\")"
   ]
  },
  {
   "cell_type": "code",
   "execution_count": 146,
   "metadata": {},
   "outputs": [],
   "source": [
    "path = 'time_record/max_80211_processing.txt'\n",
    "f = open(path, 'w')\n",
    "for i in range(0, len(evcc_send_time_anchor)):\n",
    "    for j in range(0, len(evcc_send_time_anchor[i])):\n",
    "        print((evcc_blockAck_time_anchor[i][j] - evcc_send_time_anchor[i][j])*1000, file=f, end=\"\")\n",
    "        f.writelines('\\t')\n",
    "    f.writelines('\\t')\n",
    "    print((evcc_blockAck_time_anchor[i][1] - evcc_send_time_anchor[i][0])*1000, file=f, end=\"\")\n",
    "    f.writelines('\\t')\n",
    "    print((evcc_blockAck_time_anchor[i][len(evcc_blockAck_time_anchor[i])-1] - evcc_send_time_anchor[i][0])*1000, file=f, end=\"\")\n",
    "    f.writelines('\\t')\n",
    "    f.writelines('20')\n",
    "    f.writelines('\\t')\n",
    "    f.writelines('0')\n",
    "    f.writelines('\\t')\n",
    "    f.writelines('\\n')\n",
    "f.close()"
   ]
  },
  {
   "cell_type": "code",
   "execution_count": null,
   "metadata": {},
   "outputs": [],
   "source": []
  }
 ],
 "metadata": {
  "kernelspec": {
   "display_name": "Python 3 (ipykernel)",
   "language": "python",
   "name": "python3"
  },
  "language_info": {
   "codemirror_mode": {
    "name": "ipython",
    "version": 3
   },
   "file_extension": ".py",
   "mimetype": "text/x-python",
   "name": "python",
   "nbconvert_exporter": "python",
   "pygments_lexer": "ipython3",
   "version": "3.8.13"
  }
 },
 "nbformat": 4,
 "nbformat_minor": 4
}
