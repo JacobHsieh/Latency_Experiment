{
 "cells": [
  {
   "cell_type": "code",
   "execution_count": 1,
   "metadata": {},
   "outputs": [
    {
     "name": "stdout",
     "output_type": "stream",
     "text": [
      "time_record/no_interference.txt has 280 of entries.\n",
      "time_record/2_interference.txt has 238 of entries.\n",
      "time_record/4_interference.txt has 238 of entries.\n",
      "time_record/no_interference_TCP.txt has 280 of entries.\n",
      "time_record/2_interference_TCP.txt has 238 of entries.\n",
      "time_record/4_interference_TCP.txt has 238 of entries.\n"
     ]
    }
   ],
   "source": [
    "# Read csv\n",
    "import csv\n",
    "\n",
    "def read_int_from_file(file_location):\n",
    "    numbers = []\n",
    "    with open(file_location) as tsv:\n",
    "        for column in [line for line in csv.reader(tsv, dialect=\"excel-tab\")]:\n",
    "            for num in column:\n",
    "                numbers.append(num)\n",
    "    while '' in numbers:\n",
    "        numbers.remove('')\n",
    "    \n",
    "    #print(numbers)\n",
    "    print(file_location + \" has \" + str(len(numbers)) + \" of entries.\")\n",
    "    numbers_int = map(int, numbers)\n",
    "    numbers_int_list = list(numbers_int)\n",
    "    \n",
    "    return numbers_int_list\n",
    "\n",
    "def read_int_from_file_float(file_location):\n",
    "    numbers = []\n",
    "    with open(file_location) as tsv:\n",
    "        for column in [line for line in csv.reader(tsv, dialect=\"excel-tab\")]:\n",
    "            for num in column:\n",
    "                numbers.append(num)\n",
    "    while '' in numbers:\n",
    "        numbers.remove('')\n",
    "    \n",
    "    #print(numbers)\n",
    "    print(file_location + \" has \" + str(len(numbers)) + \" of entries.\")\n",
    "    numbers_float = map(float, numbers)\n",
    "    numbers_float_list = list(numbers_float)\n",
    "    \n",
    "    return numbers_float_list\n",
    "\n",
    "interference_0_list = read_int_from_file(\"time_record/no_interference.txt\")\n",
    "interference_2_list = read_int_from_file(\"time_record/2_interference.txt\")\n",
    "interference_4_list = read_int_from_file(\"time_record/4_interference.txt\")\n",
    "interference_0_list_TCP = read_int_from_file_float(\"time_record/no_interference_TCP.txt\")\n",
    "interference_2_list_TCP = read_int_from_file_float(\"time_record/2_interference_TCP.txt\")\n",
    "interference_4_list_TCP = read_int_from_file_float(\"time_record/4_interference_TCP.txt\")"
   ]
  },
  {
   "cell_type": "code",
   "execution_count": 2,
   "metadata": {},
   "outputs": [],
   "source": [
    "def calculate_latency_difference(application_list, TCP_list):\n",
    "    if(len(application_list) == len(TCP_list)):\n",
    "        compare_list = []\n",
    "        for i in range(0, len(TCP_list)):\n",
    "            compare_list.append(application_list[i]-TCP_list[i])\n",
    "        return compare_list\n",
    "    else:\n",
    "        print(\"Length is not conformed.\")\n",
    "        return\n",
    "\n",
    "compare_list_0 = calculate_latency_difference(interference_0_list, interference_0_list_TCP)\n",
    "compare_list_2 = calculate_latency_difference(interference_2_list, interference_2_list_TCP)\n",
    "compare_list_4 = calculate_latency_difference(interference_4_list, interference_4_list_TCP)"
   ]
  },
  {
   "cell_type": "code",
   "execution_count": 3,
   "metadata": {},
   "outputs": [
    {
     "name": "stdout",
     "output_type": "stream",
     "text": [
      "280\n",
      "238\n",
      "238\n"
     ]
    }
   ],
   "source": [
    "print(len(compare_list_0))\n",
    "print(len(compare_list_2))\n",
    "print(len(compare_list_4))"
   ]
  },
  {
   "cell_type": "code",
   "execution_count": null,
   "metadata": {},
   "outputs": [],
   "source": [
    "#for debug\n",
    "compare_list_0"
   ]
  },
  {
   "cell_type": "code",
   "execution_count": 5,
   "metadata": {},
   "outputs": [],
   "source": [
    "# Write the processing result as \"pcap_processing.txt\", according to the time record format.\n",
    "def write_in_txt(path, compare_list):\n",
    "    f = open(path, 'w')\n",
    "    for i in range(0, len(compare_list)):\n",
    "        print(compare_list[i], file=f, end=\"\")\n",
    "        f.writelines('\\t')\n",
    "        if(i % 14 == 9): f.writelines('\\t')\n",
    "        if(i % 14 == 13): f.writelines('\\n')\n",
    "    f.close()\n",
    "\n",
    "write_in_txt('no_interference_App_minus_TCP.txt', compare_list_0)\n",
    "write_in_txt('2_interference_App_minus_TCP.txt', compare_list_2)\n",
    "write_in_txt('4_interference_App_minus_TCP.txt', compare_list_4)"
   ]
  }
 ],
 "metadata": {
  "kernelspec": {
   "display_name": "Python 3 (ipykernel)",
   "language": "python",
   "name": "python3"
  },
  "language_info": {
   "codemirror_mode": {
    "name": "ipython",
    "version": 3
   },
   "file_extension": ".py",
   "mimetype": "text/x-python",
   "name": "python",
   "nbconvert_exporter": "python",
   "pygments_lexer": "ipython3",
   "version": "3.8.13"
  }
 },
 "nbformat": 4,
 "nbformat_minor": 4
}
