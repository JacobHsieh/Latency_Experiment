{
 "cells": [
  {
   "cell_type": "code",
   "execution_count": 25,
   "id": "a3c51591",
   "metadata": {},
   "outputs": [],
   "source": [
    "import csv\n",
    "import numpy as np\n",
    "\n",
    "def read_from_file(filepath):\n",
    "    with open(filepath) as csvfile:\n",
    "        rows = csv.DictReader(csvfile)\n",
    "        info_list = []\n",
    "        for row in rows:\n",
    "            info_list.append(row['Info'])\n",
    "    return info_list"
   ]
  },
  {
   "cell_type": "code",
   "execution_count": 26,
   "id": "dd2444e4",
   "metadata": {},
   "outputs": [],
   "source": [
    "no_evcc_send_list = read_from_file('csv/DataLink/no_interf/evcc_send_no_interf.csv')\n",
    "no_secc_send_list = read_from_file('csv/DataLink/no_interf/secc_send_no_interf.csv')\n",
    "\n",
    "max_evcc_send_list = read_from_file('csv/DataLink/max_interf/evcc_send_max.csv')\n",
    "max_secc_send_list = read_from_file('csv/DataLink/max_interf/secc_send_max.csv')\n",
    "\n",
    "VI_evcc_send_list = read_from_file('csv/DataLink/max_interf_VI/evcc_send_max_VI.csv')\n",
    "VI_secc_send_list = read_from_file('csv/DataLink/max_interf_VI/secc_send_max_VI.csv')\n",
    "\n",
    "VO_evcc_send_list = read_from_file('csv/DataLink/max_interf_VO/evcc_send_max_VO.csv')\n",
    "VO_secc_send_list = read_from_file('csv/DataLink/max_interf_VO/secc_send_max_VO.csv')"
   ]
  },
  {
   "cell_type": "code",
   "execution_count": 27,
   "id": "2782f2ea",
   "metadata": {},
   "outputs": [],
   "source": [
    "#Retry counting\n",
    "def retry_counting(evcc_list, secc_list):\n",
    "    count = 0\n",
    "    for s in evcc_list:\n",
    "        if(s[-5] == 'R'):\n",
    "            count = count + 1\n",
    "    evcc_retry_rate = count/len(evcc_list)\n",
    "    print(\"Total EVCC #Retry: \" + str(count) + \" , EVCC retry rate = \" + str(evcc_retry_rate) + \", total number = \" + str(len(evcc_list)))\n",
    "    \n",
    "    count2 = 0\n",
    "    for s in secc_list:\n",
    "        if(s[-5] == 'R'):\n",
    "            count2 = count2 + 1\n",
    "    secc_retry_rate = count2/len(secc_list)\n",
    "    print(\"Total SECC #Retry: \" + str(count2) + \" , SECC retry rate = \" + str(secc_retry_rate) + \", total number = \" + str(len(secc_list)))\n",
    "    \n",
    "    total_retry_rate = (count + count2)/(len(evcc_list) + len(secc_list))\n",
    "    print(\"Total 802.11 Retry Rate = \" + str((total_retry_rate)))\n",
    "    \n",
    "    return [count, evcc_retry_rate, count2, secc_retry_rate, total_retry_rate]"
   ]
  },
  {
   "cell_type": "code",
   "execution_count": 28,
   "id": "e1d60a04",
   "metadata": {},
   "outputs": [
    {
     "name": "stdout",
     "output_type": "stream",
     "text": [
      "Total EVCC #Retry: 48 , EVCC retry rate = 0.04020100502512563, total number = 1194\n",
      "Total SECC #Retry: 255 , SECC retry rate = 0.20465489566613163, total number = 1246\n",
      "Total 802.11 Retry Rate = 0.12418032786885246\n"
     ]
    }
   ],
   "source": [
    "#no\n",
    "no_interf_retry_list = retry_counting(no_evcc_send_list, no_secc_send_list)"
   ]
  },
  {
   "cell_type": "code",
   "execution_count": 30,
   "id": "b3363aa8",
   "metadata": {},
   "outputs": [
    {
     "name": "stdout",
     "output_type": "stream",
     "text": [
      "Total EVCC #Retry: 216 , EVCC retry rate = 0.14238628872775214, total number = 1517\n",
      "Total SECC #Retry: 59 , SECC retry rate = 0.05519176800748363, total number = 1069\n",
      "Total 802.11 Retry Rate = 0.10634184068058777\n"
     ]
    }
   ],
   "source": [
    "#max\n",
    "max_interf_retry_list = retry_counting(max_evcc_send_list, max_secc_send_list)"
   ]
  },
  {
   "cell_type": "code",
   "execution_count": 31,
   "id": "714c7e00",
   "metadata": {},
   "outputs": [
    {
     "name": "stdout",
     "output_type": "stream",
     "text": [
      "Total EVCC #Retry: 173 , EVCC retry rate = 0.1224345364472753, total number = 1413\n",
      "Total SECC #Retry: 70 , SECC retry rate = 0.06381039197812215, total number = 1097\n",
      "Total 802.11 Retry Rate = 0.09681274900398407\n"
     ]
    }
   ],
   "source": [
    "#VI\n",
    "VI_retry_list = retry_counting(VI_evcc_send_list, VI_secc_send_list)"
   ]
  },
  {
   "cell_type": "code",
   "execution_count": 32,
   "id": "078056cb",
   "metadata": {},
   "outputs": [
    {
     "name": "stdout",
     "output_type": "stream",
     "text": [
      "Total EVCC #Retry: 195 , EVCC retry rate = 0.1407942238267148, total number = 1385\n",
      "Total SECC #Retry: 90 , SECC retry rate = 0.08426966292134831, total number = 1068\n",
      "Total 802.11 Retry Rate = 0.11618426416632695\n"
     ]
    }
   ],
   "source": [
    "#VO\n",
    "VO_retry_list = retry_counting(VO_evcc_send_list, VO_secc_send_list)"
   ]
  },
  {
   "cell_type": "code",
   "execution_count": null,
   "id": "5f3485bd",
   "metadata": {},
   "outputs": [],
   "source": [
    "# NO CLEAR DIFFERENCE"
   ]
  },
  {
   "cell_type": "code",
   "execution_count": 90,
   "id": "ba1195b0",
   "metadata": {},
   "outputs": [
    {
     "data": {
      "text/plain": [
       "Text(0, 0.5, 'Data link layer retry rate')"
      ]
     },
     "execution_count": 90,
     "metadata": {},
     "output_type": "execute_result"
    },
    {
     "data": {
      "image/png": "[encoded data removed]",
      "text/plain": [
       "<Figure size 864x432 with 1 Axes>"
      ]
     },
     "metadata": {},
     "output_type": "display_data"
    }
   ],
   "source": [
    "import pandas as pd\n",
    "import seaborn as sns\n",
    "\n",
    "sns.set(rc={'figure.figsize':(12,6)})\n",
    "#darkgrid, dark, whitegrid, white, ticks\n",
    "sns.set_style('whitegrid')\n",
    "\n",
    "df = pd.DataFrame([\n",
    "    ['evcc', 'no interference', no_inter_data_link_retry_rate[0]],\n",
    "    ['secc', 'no interference', no_inter_data_link_retry_rate[1]],\n",
    "    ['total', 'no interference', no_inter_data_link_retry_rate[2]],\n",
    "    ['evcc', 'max interference', max_data_link_retry_rate[0]],\n",
    "    ['secc', 'max interference', max_data_link_retry_rate[1]],\n",
    "    ['total', 'max interference', max_data_link_retry_rate[2]],\n",
    "], columns=['entity', 'Interference', 'Retry rate'])\n",
    "\n",
    "ax = sns.barplot(x='entity', y='Retry rate', hue='Interference', data=df)\n",
    "ax.set_title('Data link layer retry rate comparison', fontsize = 20)\n",
    "ax.set_xlabel(\"Sender\", fontsize = 12)\n",
    "ax.set_ylabel(\"Data link layer retry rate\", fontsize = 16)"
   ]
  },
  {
   "cell_type": "code",
   "execution_count": null,
   "id": "351c042a",
   "metadata": {},
   "outputs": [],
   "source": [
    "#Data Link Layer total retry rate 高了一點點，兩者 total retry rate 差不多"
   ]
  }
 ],
 "metadata": {
  "kernelspec": {
   "display_name": "Python 3 (ipykernel)",
   "language": "python",
   "name": "python3"
  },
  "language_info": {
   "codemirror_mode": {
    "name": "ipython",
    "version": 3
   },
   "file_extension": ".py",
   "mimetype": "text/x-python",
   "name": "python",
   "nbconvert_exporter": "python",
   "pygments_lexer": "ipython3",
   "version": "3.8.13"
  }
 },
 "nbformat": 4,
 "nbformat_minor": 5
}
