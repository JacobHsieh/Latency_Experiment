{
 "cells": [
  {
   "cell_type": "code",
   "execution_count": 179,
   "id": "248a66aa",
   "metadata": {},
   "outputs": [],
   "source": [
    "# Note: Wireshark previous segment not captured\n",
    "# might be 'packet loss' or Wireshark not capture 'fast enough'\n",
    "\n",
    "import csv\n",
    "\n",
    "def read_from_csv(csv_filename):\n",
    "\n",
    "    frame_list = []\n",
    "    seq_list = []\n",
    "    \n",
    "    with open(csv_filename, newline='') as csvfile:\n",
    "\n",
    "        rows = csv.DictReader(csvfile)\n",
    "\n",
    "        for row in rows:\n",
    "            frame_list.append(int(row['frame.number']))\n",
    "\n",
    "            #this is UDP packet\n",
    "            if(row['tcp.seq'] == ''):\n",
    "                seq_list.append(-1)\n",
    "            else:\n",
    "                seq_list.append(int(row['tcp.seq']))\n",
    "    \n",
    "    return frame_list, seq_list"
   ]
  },
  {
   "cell_type": "code",
   "execution_count": 180,
   "id": "2df13ba5",
   "metadata": {},
   "outputs": [],
   "source": [
    "# Two pointers check packet loss\n",
    "# Fast pointer check send list\n",
    "# Slow pointer check receive list\n",
    "\n",
    "# Divide UDP and (TCP + TLS) packet\n",
    "def udp_tcptls_packet_count(send_seq_list):\n",
    "    \n",
    "    udp_count = 0\n",
    "    tcptls_count = 0\n",
    "    \n",
    "    for seq in send_seq_list:\n",
    "        if(seq == -1): udp_count = udp_count + 1\n",
    "        else: tcptls_count = tcptls_count + 1\n",
    "    \n",
    "    return udp_count, tcptls_count\n",
    "\n",
    "\n",
    "def calculate_pkt_loss(send_seq_list, send_frame_list, receive_seq_list, receive_frame_list):\n",
    "    \n",
    "    udp_count, tcptls_count = udp_tcptls_packet_count(send_seq_list)\n",
    "    print(\"Number of UDP packet: \" + str(udp_count))\n",
    "    print(\"Number of TCP + TLS packet: \" + str(tcptls_count))\n",
    "    \n",
    "    tcptls_packetloss_frameNum_seqNum = []\n",
    "    udp_packetloss_frameNum_seqNum = []\n",
    "    s_ptr = 0\n",
    "    \n",
    "    pair_frameNum_list = []\n",
    "    \n",
    "    # Detect too many consecutive packet loss\n",
    "    # maybe something went wrong\n",
    "    consec_loss_packet_count = 0\n",
    "    \n",
    "    for f_ptr in range(0, len(send_seq_list)):\n",
    " \n",
    "        if(send_seq_list[f_ptr] != receive_seq_list[s_ptr]):\n",
    "            \n",
    "            # Deal with 'Spurious Retransmission'\n",
    "            if(receive_seq_list[s_ptr] == receive_seq_list[s_ptr-1]):\n",
    "                print(\"\\nSuprious Retransmission? Sender Frame #: \" + str(send_frame_list[f_ptr]) + \", Seq: \" + str(send_seq_list[f_ptr]))\n",
    "                print(\"Suprious Retransmission? Receive Frame #: \" + str(receive_frame_list[s_ptr]) + \", Seq: \" + str(receive_seq_list[s_ptr]))\n",
    "                s_ptr = s_ptr + 1\n",
    "                \n",
    "                if(send_seq_list[f_ptr] == receive_seq_list[s_ptr]):\n",
    "                    pair_frameNum_list.append([send_frame_list[f_ptr], receive_frame_list[s_ptr]])\n",
    "                    \n",
    "                    s_ptr = s_ptr + 1\n",
    "                    consec_loss_packet_count = 0\n",
    "                    \n",
    "                    # Finish\n",
    "                    if(s_ptr >= len(receive_seq_list)):\n",
    "                        break\n",
    "                        \n",
    "                    continue\n",
    "                \n",
    "            if(send_seq_list[f_ptr] == -1):\n",
    "                udp_packetloss_frameNum_seqNum.append([send_frame_list[f_ptr], send_seq_list[f_ptr],\n",
    "                                                          receive_frame_list[s_ptr-1], receive_seq_list[s_ptr-1]])\n",
    "            \n",
    "            else:\n",
    "                tcptls_packetloss_frameNum_seqNum.append([send_frame_list[f_ptr], send_seq_list[f_ptr],\n",
    "                                                          receive_frame_list[s_ptr-1], receive_seq_list[s_ptr-1]])\n",
    "            \n",
    "            consec_loss_packet_count = consec_loss_packet_count + 1\n",
    "            \n",
    "            if(consec_loss_packet_count > 10):\n",
    "                print(\"Error! Too many consecutive packet loss!\\n\")\n",
    "                print(\"Now is checking sender frame num: \" + str(send_frame_list[f_ptr]) + \", seq: \" + str(send_seq_list[f_ptr]))\n",
    "                print(\"Now is checking receiver frame num: \" + str(receive_frame_list[s_ptr]) + \", seq: \" + str(receive_seq_list[s_ptr]) + \"\\n\")\n",
    "                break\n",
    "            \n",
    "        else:\n",
    "            pair_frameNum_list.append([send_frame_list[f_ptr], receive_frame_list[s_ptr]])\n",
    "            \n",
    "            s_ptr = s_ptr + 1\n",
    "            consec_loss_packet_count = 0\n",
    "            \n",
    "            # Finish\n",
    "            if(s_ptr >= len(receive_seq_list)):\n",
    "                break\n",
    "\n",
    "    tcptls_loss_rate = len(tcptls_packetloss_frameNum_seqNum)/tcptls_count\n",
    "    udp_loss_rate = len(udp_packetloss_frameNum_seqNum)/udp_count\n",
    "    \n",
    "    return [tcptls_packetloss_frameNum_seqNum, tcptls_loss_rate, udp_packetloss_frameNum_seqNum, udp_loss_rate, pair_frameNum_list]"
   ]
  },
  {
   "cell_type": "code",
   "execution_count": 208,
   "id": "9212547d",
   "metadata": {},
   "outputs": [],
   "source": [
    "def start_calc(filepath):\n",
    "    \n",
    "    evcc_send_frame_list, evcc_send_seq_list = read_from_csv(filepath + 'evcc_send.csv')\n",
    "    secc_receive_frame_list, secc_receive_seq_list = read_from_csv(filepath + 'secc_receive.csv')\n",
    "    \n",
    "    print(\"Calculating EVCC send packet loss: \")\n",
    "    evcc_send_packet_lost_list = calculate_pkt_loss(evcc_send_seq_list, evcc_send_frame_list, secc_receive_seq_list, secc_receive_frame_list)\n",
    "    print(\"UDP lost: \" + str(len(evcc_send_packet_lost_list[2])))\n",
    "    print(\"UDP lost rate: \" + str(evcc_send_packet_lost_list[3]))\n",
    "    print(\"TCP+TLS lost: \" + str(len(evcc_send_packet_lost_list[0])))\n",
    "    print(\"TCP+TLS lost rate: \" + str(evcc_send_packet_lost_list[1]))\n",
    "    \n",
    "    evcc_receive_frame_list, evcc_receive_seq_list = read_from_csv(filepath + 'evcc_receive.csv')\n",
    "    secc_send_frame_list, secc_send_seq_list = read_from_csv(filepath + 'secc_send.csv')\n",
    "    \n",
    "    print(\"\\nCalculating SECC send packet loss: \")\n",
    "    secc_send_packet_lost_list = calculate_pkt_loss(secc_send_seq_list, secc_send_frame_list, evcc_receive_seq_list, evcc_receive_frame_list)\n",
    "    print(\"UDP lost: \" + str(len(secc_send_packet_lost_list[2])))\n",
    "    print(\"UDP lost rate: \" + str(secc_send_packet_lost_list[3]))\n",
    "    print(\"TCP+TLS lost: \" + str(len(secc_send_packet_lost_list[0])))\n",
    "    print(\"TCP+TLS lost rate: \" + str(secc_send_packet_lost_list[1]))\n",
    "    \n",
    "    # UDP + (TCP & TLS) total\n",
    "    print(\"\\nCalculate total packet loss rate: \")\n",
    "    total_packet_loss = len(evcc_send_packet_lost_list[2]) + len(evcc_send_packet_lost_list[0]) + len(secc_send_packet_lost_list[2]) + len(secc_send_packet_lost_list[0])\n",
    "    total_packet_loss_rate = total_packet_loss/(len(evcc_send_frame_list) + len(secc_send_frame_list))\n",
    "    print(\"Total packet loss: \" + str(total_packet_loss))\n",
    "    print(\"Total packet loss rate: \" + str(total_packet_loss_rate))\n",
    "    \n",
    "    # TCP & TLS total\n",
    "    print(\"\\nCalculate total TCP + TLS packet loss rate: \")\n",
    "    total_tcptls_packet_loss = len(evcc_send_packet_lost_list[0]) + len(secc_send_packet_lost_list[0])\n",
    "    total_tcptls_packet_loss_rate = total_packet_loss/(udp_tcptls_packet_count(evcc_send_seq_list)[1] + udp_tcptls_packet_count(secc_receive_seq_list)[1])\n",
    "    print(\"Total packet loss: \" + str(total_tcptls_packet_loss))\n",
    "    print(\"Total packet loss rate: \" + str(total_tcptls_packet_loss_rate))\n",
    "    \n",
    "    return [evcc_send_packet_lost_list, secc_send_packet_lost_list]"
   ]
  },
  {
   "cell_type": "code",
   "execution_count": 209,
   "id": "9d5c5320",
   "metadata": {},
   "outputs": [
    {
     "name": "stdout",
     "output_type": "stream",
     "text": [
      "Calculating EVCC send packet loss: \n",
      "Number of UDP packet: 52\n",
      "Number of TCP + TLS packet: 1221\n",
      "UDP lost: 25\n",
      "UDP lost rate: 0.4807692307692308\n",
      "TCP+TLS lost: 63\n",
      "TCP+TLS lost rate: 0.051597051597051594\n",
      "\n",
      "Calculating SECC send packet loss: \n",
      "Number of UDP packet: 27\n",
      "Number of TCP + TLS packet: 1222\n",
      "UDP lost: 1\n",
      "UDP lost rate: 0.037037037037037035\n",
      "TCP+TLS lost: 11\n",
      "TCP+TLS lost rate: 0.00900163666121113\n",
      "\n",
      "Calculate total packet loss rate: \n",
      "Total packet loss: 100\n",
      "Total packet loss rate: 0.03965107057890563\n",
      "\n",
      "Calculate total TCP + TLS packet loss rate: \n",
      "Total packet loss: 74\n",
      "Total packet loss rate: 0.042034468263976464\n"
     ]
    }
   ],
   "source": [
    "packetlost_list_0420_interf4 = start_calc('0420/interf_4/')"
   ]
  },
  {
   "cell_type": "code",
   "execution_count": 210,
   "id": "e6cbbc65",
   "metadata": {},
   "outputs": [
    {
     "name": "stdout",
     "output_type": "stream",
     "text": [
      "Calculating EVCC send packet loss: \n",
      "Number of UDP packet: 42\n",
      "Number of TCP + TLS packet: 1137\n",
      "UDP lost: 7\n",
      "UDP lost rate: 0.16666666666666666\n",
      "TCP+TLS lost: 36\n",
      "TCP+TLS lost rate: 0.0316622691292876\n",
      "\n",
      "Calculating SECC send packet loss: \n",
      "Number of UDP packet: 35\n",
      "Number of TCP + TLS packet: 1161\n",
      "UDP lost: 1\n",
      "UDP lost rate: 0.02857142857142857\n",
      "TCP+TLS lost: 15\n",
      "TCP+TLS lost rate: 0.012919896640826873\n",
      "\n",
      "Calculate total packet loss rate: \n",
      "Total packet loss: 59\n",
      "Total packet loss rate: 0.024842105263157895\n",
      "\n",
      "Calculate total TCP + TLS packet loss rate: \n",
      "Total packet loss: 51\n",
      "Total packet loss rate: 0.026362823949955316\n"
     ]
    }
   ],
   "source": [
    "packetlost_list_0420_interf2 = start_calc('0420/interf_2/')"
   ]
  },
  {
   "cell_type": "code",
   "execution_count": 211,
   "id": "791519b0",
   "metadata": {},
   "outputs": [
    {
     "name": "stdout",
     "output_type": "stream",
     "text": [
      "Calculating EVCC send packet loss: \n",
      "Number of UDP packet: 42\n",
      "Number of TCP + TLS packet: 1249\n",
      "\n",
      "Suprious Retransmission? Sender Frame #: 3810, Seq: 3950\n",
      "Suprious Retransmission? Receive Frame #: 2533, Seq: 3881\n",
      "UDP lost: 14\n",
      "UDP lost rate: 0.3333333333333333\n",
      "TCP+TLS lost: 50\n",
      "TCP+TLS lost rate: 0.040032025620496396\n",
      "\n",
      "Calculating SECC send packet loss: \n",
      "Number of UDP packet: 28\n",
      "Number of TCP + TLS packet: 1260\n",
      "UDP lost: 0\n",
      "UDP lost rate: 0.0\n",
      "TCP+TLS lost: 15\n",
      "TCP+TLS lost rate: 0.011904761904761904\n",
      "\n",
      "Calculate total packet loss rate: \n",
      "Total packet loss: 79\n",
      "Total packet loss rate: 0.030632027917797598\n",
      "\n",
      "Calculate total TCP + TLS packet loss rate: \n",
      "Total packet loss: 65\n",
      "Total packet loss rate: 0.03225806451612903\n"
     ]
    }
   ],
   "source": [
    "packetlost_list_0420_interf0 = start_calc('0420/interf_0/')"
   ]
  },
  {
   "cell_type": "code",
   "execution_count": null,
   "id": "a7cd5d01",
   "metadata": {},
   "outputs": [],
   "source": []
  },
  {
   "cell_type": "code",
   "execution_count": null,
   "id": "a8914fb3",
   "metadata": {},
   "outputs": [],
   "source": []
  },
  {
   "cell_type": "code",
   "execution_count": null,
   "id": "5f71c8aa",
   "metadata": {},
   "outputs": [],
   "source": [
    "# TODO:\n",
    "# whether to process 'Previous segment not captured'?"
   ]
  },
  {
   "cell_type": "code",
   "execution_count": 212,
   "id": "97bdb76e",
   "metadata": {},
   "outputs": [
    {
     "name": "stdout",
     "output_type": "stream",
     "text": [
      "Calculating EVCC send packet loss: \n",
      "Number of UDP packet: 20\n",
      "Number of TCP + TLS packet: 931\n",
      "UDP lost: 0\n",
      "UDP lost rate: 0.0\n",
      "TCP+TLS lost: 0\n",
      "TCP+TLS lost rate: 0.0\n",
      "\n",
      "Calculating SECC send packet loss: \n",
      "Number of UDP packet: 20\n",
      "Number of TCP + TLS packet: 997\n",
      "UDP lost: 0\n",
      "UDP lost rate: 0.0\n",
      "TCP+TLS lost: 11\n",
      "TCP+TLS lost rate: 0.011033099297893681\n",
      "\n",
      "Calculate total packet loss rate: \n",
      "Total packet loss: 11\n",
      "Total packet loss rate: 0.005589430894308943\n",
      "\n",
      "Calculate total TCP + TLS packet loss rate: \n",
      "Total packet loss: 11\n",
      "Total packet loss rate: 0.005907626208378088\n"
     ]
    }
   ],
   "source": [
    "packetlost_list_0612_no_interf = start_calc('0612/no_interf/')"
   ]
  },
  {
   "cell_type": "code",
   "execution_count": 213,
   "id": "1508acb5",
   "metadata": {},
   "outputs": [
    {
     "name": "stdout",
     "output_type": "stream",
     "text": [
      "Calculating EVCC send packet loss: \n",
      "Number of UDP packet: 26\n",
      "Number of TCP + TLS packet: 946\n",
      "\n",
      "Suprious Retransmission? Sender Frame #: 166, Seq: 336\n",
      "Suprious Retransmission? Receive Frame #: 212, Seq: 245\n",
      "UDP lost: 1\n",
      "UDP lost rate: 0.038461538461538464\n",
      "TCP+TLS lost: 3\n",
      "TCP+TLS lost rate: 0.003171247357293869\n",
      "\n",
      "Calculating SECC send packet loss: \n",
      "Number of UDP packet: 25\n",
      "Number of TCP + TLS packet: 1021\n",
      "UDP lost: 0\n",
      "UDP lost rate: 0.0\n",
      "TCP+TLS lost: 26\n",
      "TCP+TLS lost rate: 0.025465230166503428\n",
      "\n",
      "Calculate total packet loss rate: \n",
      "Total packet loss: 30\n",
      "Total packet loss rate: 0.014866204162537165\n",
      "\n",
      "Calculate total TCP + TLS packet loss rate: \n",
      "Total packet loss: 29\n",
      "Total packet loss rate: 0.015873015873015872\n"
     ]
    }
   ],
   "source": [
    "packetlost_list_0612_max_interf = start_calc('0612/max_interf/')"
   ]
  },
  {
   "cell_type": "code",
   "execution_count": 214,
   "id": "42801ece",
   "metadata": {},
   "outputs": [
    {
     "name": "stdout",
     "output_type": "stream",
     "text": [
      "Calculating EVCC send packet loss: \n",
      "Number of UDP packet: 23\n",
      "Number of TCP + TLS packet: 925\n",
      "UDP lost: 0\n",
      "UDP lost rate: 0.0\n",
      "TCP+TLS lost: 3\n",
      "TCP+TLS lost rate: 0.003243243243243243\n",
      "\n",
      "Calculating SECC send packet loss: \n",
      "Number of UDP packet: 23\n",
      "Number of TCP + TLS packet: 1003\n",
      "UDP lost: 0\n",
      "UDP lost rate: 0.0\n",
      "TCP+TLS lost: 25\n",
      "TCP+TLS lost rate: 0.024925224327018942\n",
      "\n",
      "Calculate total packet loss rate: \n",
      "Total packet loss: 28\n",
      "Total packet loss rate: 0.014184397163120567\n",
      "\n",
      "Calculate total TCP + TLS packet loss rate: \n",
      "Total packet loss: 28\n",
      "Total packet loss rate: 0.015159718462371413\n"
     ]
    }
   ],
   "source": [
    "packetlost_list_0612_max_interf_VI = start_calc('0612/max_interf_VI/')"
   ]
  },
  {
   "cell_type": "code",
   "execution_count": 215,
   "id": "d820d022",
   "metadata": {},
   "outputs": [
    {
     "name": "stdout",
     "output_type": "stream",
     "text": [
      "Calculating EVCC send packet loss: \n",
      "Number of UDP packet: 22\n",
      "Number of TCP + TLS packet: 937\n",
      "UDP lost: 0\n",
      "UDP lost rate: 0.0\n",
      "TCP+TLS lost: 2\n",
      "TCP+TLS lost rate: 0.0021344717182497333\n",
      "\n",
      "Calculating SECC send packet loss: \n",
      "Number of UDP packet: 22\n",
      "Number of TCP + TLS packet: 1001\n",
      "UDP lost: 0\n",
      "UDP lost rate: 0.0\n",
      "TCP+TLS lost: 20\n",
      "TCP+TLS lost rate: 0.01998001998001998\n",
      "\n",
      "Calculate total packet loss rate: \n",
      "Total packet loss: 22\n",
      "Total packet loss rate: 0.011099899091826439\n",
      "\n",
      "Calculate total TCP + TLS packet loss rate: \n",
      "Total packet loss: 22\n",
      "Total packet loss rate: 0.011752136752136752\n"
     ]
    }
   ],
   "source": [
    "# There are out-of-order packets in evcc receive\n",
    "# I have changed the ordering in the csv file\n",
    "packetlost_list_0612_max_interf_VO = start_calc('0612/max_interf_VO/')"
   ]
  },
  {
   "cell_type": "code",
   "execution_count": null,
   "id": "23aef2e9",
   "metadata": {},
   "outputs": [],
   "source": []
  },
  {
   "cell_type": "code",
   "execution_count": null,
   "id": "0128a9fb",
   "metadata": {},
   "outputs": [],
   "source": []
  },
  {
   "cell_type": "code",
   "execution_count": null,
   "id": "d5f13eb4",
   "metadata": {},
   "outputs": [],
   "source": []
  }
 ],
 "metadata": {
  "kernelspec": {
   "display_name": "Python 3 (ipykernel)",
   "language": "python",
   "name": "python3"
  },
  "language_info": {
   "codemirror_mode": {
    "name": "ipython",
    "version": 3
   },
   "file_extension": ".py",
   "mimetype": "text/x-python",
   "name": "python",
   "nbconvert_exporter": "python",
   "pygments_lexer": "ipython3",
   "version": "3.8.13"
  }
 },
 "nbformat": 4,
 "nbformat_minor": 5
}
