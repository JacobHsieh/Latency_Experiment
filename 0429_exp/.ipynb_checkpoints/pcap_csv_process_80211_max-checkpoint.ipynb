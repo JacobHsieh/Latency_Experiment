{
 "cells": [
  {
   "cell_type": "code",
   "execution_count": 2,
   "metadata": {},
   "outputs": [],
   "source": [
    "#Processing evcc block ack\n",
    "import csv\n",
    "import numpy as np\n",
    "\n",
    "with open('max_evcc_block_ack.csv', newline='') as csvfile:\n",
    "    rows = csv.DictReader(csvfile)\n",
    "    startint_seq_num_block_ack = []\n",
    "    timelist_block_ack = []\n",
    "    \n",
    "    for row in rows:\n",
    "        startint_seq_num_block_ack.append(int(row['Starting Sequence Number']))\n",
    "        timelist_block_ack.append(float(row['Time']))"
   ]
  },
  {
   "cell_type": "code",
   "execution_count": 3,
   "metadata": {},
   "outputs": [
    {
     "name": "stdout",
     "output_type": "stream",
     "text": [
      "4852\n"
     ]
    }
   ],
   "source": [
    "#for debug\n",
    "if(len(startint_seq_num_block_ack) != len(timelist_block_ack)):\n",
    "    print(\"Error. Length is not equal.\")\n",
    "else:\n",
    "    print(len(timelist_block_ack))"
   ]
  },
  {
   "cell_type": "code",
   "execution_count": 4,
   "metadata": {},
   "outputs": [],
   "source": [
    "#Processing evcc send\n",
    "with open('max_evcc_send.csv', newline='') as csvfile:\n",
    "    rows = csv.DictReader(csvfile)\n",
    "    timelist_evcc_send = []\n",
    "    seq_num_evcc_send = []\n",
    "    data_length_evcc_send = []\n",
    "    info_evcc_send = []\n",
    "    frame_num_evcc_send = []\n",
    "    \n",
    "    for row in rows:\n",
    "        timelist_evcc_send.append(float(row['Time']))\n",
    "        seq_num_evcc_send.append(int(row['Sequence number']))\n",
    "        data_length_evcc_send.append(int(row['Data Length']))\n",
    "        info_evcc_send.append(str(row['Info']))\n",
    "        frame_num_evcc_send.append(int(row['No.']))"
   ]
  },
  {
   "cell_type": "code",
   "execution_count": 5,
   "metadata": {},
   "outputs": [
    {
     "name": "stdout",
     "output_type": "stream",
     "text": [
      "2435\n"
     ]
    }
   ],
   "source": [
    "#for debug\n",
    "if(len(timelist_evcc_send) != len(seq_num_evcc_send)):\n",
    "    print(\"Error. Length is not equal.\")\n",
    "elif(len(timelist_evcc_send) != len(data_length_evcc_send)):\n",
    "    print(\"Error. Length is not equal.\")\n",
    "elif(len(timelist_evcc_send) != len(info_evcc_send)):\n",
    "    print(\"Error. Length is not equal.\")\n",
    "elif(len(timelist_evcc_send) != len(frame_num_evcc_send)):\n",
    "    print(\"Error. Length is not equal.\")\n",
    "else:\n",
    "    print(len(timelist_evcc_send))"
   ]
  },
  {
   "cell_type": "code",
   "execution_count": 6,
   "metadata": {},
   "outputs": [
    {
     "data": {
      "text/plain": [
       "48.775482"
      ]
     },
     "execution_count": 6,
     "metadata": {},
     "output_type": "execute_result"
    }
   ],
   "source": [
    "timelist_evcc_send[0]"
   ]
  },
  {
   "cell_type": "code",
   "execution_count": 7,
   "metadata": {},
   "outputs": [],
   "source": [
    "timelist_evcc_send_split = []\n",
    "seq_num_evcc_send_split = []\n",
    "data_length_evcc_send_split = []\n",
    "info_evcc_send_split = []\n",
    "frame_num_evcc_send_split = []\n",
    "\n",
    "round_start_point = 0\n",
    "round_end_point = 0\n",
    "\n",
    "sdpreq_index_list = []\n",
    "#Fetch first packet index of data length = 74 (SDP request) in each round\n",
    "for i in range(0, len(data_length_evcc_send)):\n",
    "    if(i == 0 and data_length_evcc_send[i] == 74):\n",
    "        sdpreq_index_list.append(i)\n",
    "    if(i > 0 and data_length_evcc_send[i] == 74 and data_length_evcc_send[i-1] != 74):\n",
    "        sdpreq_index_list.append(i)\n",
    "sdpreq_index_list.append(len(data_length_evcc_send)) #Add the end of list index\n",
    "\n",
    "for i in range(0, len(sdpreq_index_list)-1):\n",
    "    timelist_evcc_send_split.append([timelist_evcc_send[j] for j in range(sdpreq_index_list[i], sdpreq_index_list[i+1])])\n",
    "    seq_num_evcc_send_split.append([seq_num_evcc_send[j] for j in range(sdpreq_index_list[i], sdpreq_index_list[i+1])])\n",
    "    data_length_evcc_send_split.append([data_length_evcc_send[j] for j in range(sdpreq_index_list[i], sdpreq_index_list[i+1])])\n",
    "    info_evcc_send_split.append([info_evcc_send[j] for j in range(sdpreq_index_list[i], sdpreq_index_list[i+1])])\n",
    "    frame_num_evcc_send_split.append([frame_num_evcc_send[j] for j in range(sdpreq_index_list[i], sdpreq_index_list[i+1])])"
   ]
  },
  {
   "cell_type": "code",
   "execution_count": 8,
   "metadata": {},
   "outputs": [
    {
     "name": "stdout",
     "output_type": "stream",
     "text": [
      "20\n"
     ]
    }
   ],
   "source": [
    "#for debug\n",
    "if(len(timelist_evcc_send_split) != len(seq_num_evcc_send_split)):\n",
    "    print(\"Error. Length is not equal.\")\n",
    "elif(len(timelist_evcc_send_split) != len(data_length_evcc_send_split)):\n",
    "    print(\"Error. Length is not equal.\")\n",
    "elif(len(timelist_evcc_send_split) != len(info_evcc_send_split)):\n",
    "    print(\"Error. Length is not equal.\")\n",
    "elif(len(timelist_evcc_send_split) != len(frame_num_evcc_send_split)):\n",
    "    print(\"Error. Length is not equal.\")\n",
    "else:\n",
    "    print(len(timelist_evcc_send_split)) #Output # of testing rounds"
   ]
  },
  {
   "cell_type": "code",
   "execution_count": 9,
   "metadata": {},
   "outputs": [
    {
     "name": "stdout",
     "output_type": "stream",
     "text": [
      "31.261074000000008\n",
      "30.812400999999994\n",
      "29.97750599999999\n",
      "30.32952400000002\n",
      "30.300457999999992\n",
      "30.217693999999995\n",
      "30.51589400000003\n",
      "30.130146999999965\n",
      "31.149827000000016\n",
      "30.86987899999997\n",
      "30.029340000000047\n",
      "30.55733299999997\n",
      "29.59714200000002\n",
      "29.969460999999967\n",
      "29.978530000000035\n",
      "30.327392999999972\n",
      "29.277684000000022\n",
      "30.58722899999998\n",
      "30.305931999999984\n"
     ]
    }
   ],
   "source": [
    "#for debug, this is ideally the time of each testing round\n",
    "for i in range(1, len(timelist_evcc_send_split)):\n",
    "    print(timelist_evcc_send_split[i][0]-timelist_evcc_send_split[i-1][0])"
   ]
  },
  {
   "cell_type": "code",
   "execution_count": null,
   "metadata": {},
   "outputs": [],
   "source": [
    "#Set evcc time anchor in each round per stage\n",
    "evcc_send_time_anchor = []\n",
    "#data_length_in_each_stage = [74, 100, 189, 173, 173, 173, 185, 461, 189, 173]\n",
    "wierd_packet = {}\n",
    "packet_loss_testing_round_3_flag = False\n",
    "packet_loss_testing_round_3_flag_2 = False\n",
    "packet_loss_testing_round_5_flag_1 = False\n",
    "packet_loss_testing_round_5_flag_2 = False\n",
    "packet_loss_testing_round_5_flag_3 = False\n",
    "packet_loss_testing_round_17_flag = False\n",
    "packet_loss_testing_round_17_flag_2 = False\n",
    "\n",
    "def printinfo(stageNum, frameNum, info_string):\n",
    "    print(\"-----------------------------------------\")\n",
    "    print(\"Stage \" + str(stageNum) + \" finish. No. \" + str(frameNum) + \", Info \" + str(info_string))\n",
    "\n",
    "def print_time_difference(evcc_send_time_anchor_each_round):\n",
    "    print(\"Time difference: \" + str(evcc_send_time_anchor_each_round[len(evcc_send_time_anchor_each_round)-1]-\n",
    "                          evcc_send_time_anchor_each_round[len(evcc_send_time_anchor_each_round)-2]))\n",
    "    \n",
    "def checkstage_num(stageNum, valid_stageNum, info_string, time_string, datalen, seqnum, frameNum):\n",
    "    if(stageNum == valid_stageNum):\n",
    "        check_wield_packet_list(frameNum)\n",
    "        return True\n",
    "    else:\n",
    "        #debug\n",
    "        #print(\"\\nWhat is this packet? Data Length = \" + str(datalen) + \" No. \" + str(frameNum))\n",
    "        #print(\"Time \" + str(time_string) + \" #Seq \" + str(seqnum) + \" Info \" + str(info_string) + \"\\n\")\n",
    "        wierd_packet[frameNum] = [datalen, stageNum]\n",
    "        return False\n",
    "\n",
    "def check_wield_packet_list(frameNum):\n",
    "    if(wierd_packet.get(frameNum) != None):\n",
    "        del wierd_packet[frameNum]\n",
    "        print(\"\\nNo. \" + str(frameNum) + \" has been found. Delete from wierd list.\\n\")\n",
    "    \n",
    "for i in range(0, len(data_length_evcc_send_split)):\n",
    "#for i in range(5, 6):\n",
    "    print(\"\\n-------- Test Round \" + str(i+1) + \" --------\")\n",
    "    #Stage 1\n",
    "    evcc_send_time_anchor_each_round = [timelist_evcc_send_split[i][0]]\n",
    "    stageNum = 1\n",
    "    printinfo(stageNum, frame_num_evcc_send_split[i][0], info_evcc_send_split[i][0])\n",
    "    stageNum = stageNum + 1\n",
    "    \n",
    "    for j in range(1, len(data_length_evcc_send_split[i])):\n",
    "        #Stage 2\n",
    "        if(data_length_evcc_send_split[i][j] == 100 and data_length_evcc_send_split[i][j-1] != 100):\n",
    "            if(checkstage_num(stageNum, 2, info_evcc_send_split[i][j],\n",
    "                                  timelist_evcc_send_split[i][j], data_length_evcc_send_split[i][j],\n",
    "                                  seq_num_evcc_send_split[i][j], frame_num_evcc_send_split[i][j])):\n",
    "                evcc_send_time_anchor_each_round.append(timelist_evcc_send_split[i][j])\n",
    "                printinfo(stageNum, frame_num_evcc_send_split[i][j], info_evcc_send_split[i][j])\n",
    "                print_time_difference(evcc_send_time_anchor_each_round)\n",
    "                stageNum = stageNum + 1\n",
    "                \n",
    "                #Deal with packet loss......\n",
    "                if(i == 5 and packet_loss_testing_round_5_flag_1 == False):\n",
    "                    evcc_send_time_anchor_each_round.append(202.792)\n",
    "                    printinfo(stageNum, 25114, \"Packet Loss\")\n",
    "                    print_time_difference(evcc_send_time_anchor_each_round)\n",
    "                    stageNum = stageNum + 1\n",
    "                    packet_loss_testing_round_5_flag_1 = True\n",
    "                #Deal with packet loss......\n",
    "                if(i == 5 and packet_loss_testing_round_5_flag_2 == False):\n",
    "                    evcc_send_time_anchor_each_round.append(202.920379)\n",
    "                    printinfo(stageNum, 25124, \"Packet Loss\")\n",
    "                    print_time_difference(evcc_send_time_anchor_each_round)\n",
    "                    stageNum = stageNum + 1\n",
    "                    packet_loss_testing_round_5_flag_2 = True\n",
    "                #Deal with packet loss......\n",
    "                if(i == 5 and packet_loss_testing_round_5_flag_3 == False):\n",
    "                    evcc_send_time_anchor_each_round.append(202.974838)\n",
    "                    printinfo(stageNum, 25128, \"Packet Loss\")\n",
    "                    print_time_difference(evcc_send_time_anchor_each_round)\n",
    "                    stageNum = stageNum + 1\n",
    "                    packet_loss_testing_round_5_flag_3 = True\n",
    "                    continue\n",
    "                \n",
    "        #Stage 3\n",
    "        if(data_length_evcc_send_split[i][j] == 189 and data_length_evcc_send_split[i][j-1] != 189):\n",
    "            if(checkstage_num(stageNum, 3, info_evcc_send_split[i][j],\n",
    "                                  timelist_evcc_send_split[i][j], data_length_evcc_send_split[i][j],\n",
    "                                  seq_num_evcc_send_split[i][j], frame_num_evcc_send_split[i][j])):\n",
    "                evcc_send_time_anchor_each_round.append(timelist_evcc_send_split[i][j])\n",
    "                printinfo(stageNum, frame_num_evcc_send_split[i][j], info_evcc_send_split[i][j])\n",
    "                print_time_difference(evcc_send_time_anchor_each_round)\n",
    "                stageNum = stageNum + 1\n",
    "                \n",
    "                 #Deal with packet loss......\n",
    "                if(i == 17 and packet_loss_testing_round_17_flag_2 == False):\n",
    "                    evcc_send_time_anchor_each_round.append(565.406963)\n",
    "                    printinfo(stageNum, 53149, \"Packet Loss\")\n",
    "                    print_time_difference(evcc_send_time_anchor_each_round)\n",
    "                    stageNum = stageNum + 1\n",
    "                    packet_loss_testing_round_17_flag_2 = True\n",
    "                \n",
    "                continue\n",
    "                \n",
    "        #Stage 4 \n",
    "        if(data_length_evcc_send_split[i][j] == 173 and data_length_evcc_send_split[i][j-1] != 173):\n",
    "            \n",
    "            if(info_evcc_send_split[i][j][-2:] == 'TC'):\n",
    "                if(checkstage_num(stageNum, 4, info_evcc_send_split[i][j],\n",
    "                                      timelist_evcc_send_split[i][j], data_length_evcc_send_split[i][j],\n",
    "                                      seq_num_evcc_send_split[i][j], frame_num_evcc_send_split[i][j])):\n",
    "                    evcc_send_time_anchor_each_round.append(timelist_evcc_send_split[i][j])\n",
    "                    printinfo(stageNum, frame_num_evcc_send_split[i][j], info_evcc_send_split[i][j])\n",
    "                    print_time_difference(evcc_send_time_anchor_each_round)\n",
    "                    stageNum = stageNum + 1\n",
    "                    continue\n",
    "            else: print(\"Stage \" + str(stageNum) +\n",
    "                        \", Not TC? No. \" + str(frame_num_evcc_send_split[i][j]) +\n",
    "                        \", Data length \" + str(data_length_evcc_send_split[i][j]) +\n",
    "                        \", Info \" + str(info_evcc_send_split[i][j]))\n",
    "        #Stage 5, tricky\n",
    "        if(data_length_evcc_send_split[i][j] == 173):    \n",
    "            if(info_evcc_send_split[i][j][-2:] == 'TC'):\n",
    "                if(checkstage_num(stageNum, 5, info_evcc_send_split[i][j],\n",
    "                                      timelist_evcc_send_split[i][j], data_length_evcc_send_split[i][j],\n",
    "                                      seq_num_evcc_send_split[i][j], frame_num_evcc_send_split[i][j])):\n",
    "                    evcc_send_time_anchor_each_round.append(timelist_evcc_send_split[i][j])\n",
    "                    printinfo(stageNum, frame_num_evcc_send_split[i][j], info_evcc_send_split[i][j])\n",
    "                    print_time_difference(evcc_send_time_anchor_each_round)\n",
    "                    stageNum = stageNum + 1\n",
    "                    \n",
    "                    #Deal with packet loss......\n",
    "                    if(i == 3 and packet_loss_testing_round_3_flag == False):\n",
    "                        evcc_send_time_anchor_each_round.append(142.582864)\n",
    "                        printinfo(stageNum, 11788, \"Packet Loss\")\n",
    "                        print_time_difference(evcc_send_time_anchor_each_round)\n",
    "                        stageNum = stageNum + 1\n",
    "                        packet_loss_testing_round_3_flag = True\n",
    "                        \n",
    "                    continue\n",
    "                \n",
    "            else: print(\"Stage \" + str(stageNum) +\n",
    "                        \", Not TC? No. \" + str(frame_num_evcc_send_split[i][j]) +\n",
    "                        \", Data length \" + str(data_length_evcc_send_split[i][j]) +\n",
    "                        \", Info \" + str(info_evcc_send_split[i][j]))\n",
    "        #Stage 6, tricky\n",
    "        if(data_length_evcc_send_split[i][j] == 173):\n",
    "            if(info_evcc_send_split[i][j][-2:] == 'TC'):\n",
    "                if(checkstage_num(stageNum, 6, info_evcc_send_split[i][j],\n",
    "                                      timelist_evcc_send_split[i][j], data_length_evcc_send_split[i][j],\n",
    "                                      seq_num_evcc_send_split[i][j], frame_num_evcc_send_split[i][j])):\n",
    "                    evcc_send_time_anchor_each_round.append(timelist_evcc_send_split[i][j])\n",
    "                    printinfo(stageNum, frame_num_evcc_send_split[i][j], info_evcc_send_split[i][j])\n",
    "                    print_time_difference(evcc_send_time_anchor_each_round)\n",
    "                    stageNum = stageNum + 1\n",
    "                    continue\n",
    "            else: print(\"Stage \" + str(stageNum) +\n",
    "                        \", Not TC? No. \" + str(frame_num_evcc_send_split[i][j]) +\n",
    "                        \", Data length \" + str(data_length_evcc_send_split[i][j]) +\n",
    "                        \", Info \" + str(info_evcc_send_split[i][j]))\n",
    "        #Stage 7\n",
    "        if(data_length_evcc_send_split[i][j] == 185 and data_length_evcc_send_split[i][j-1] != 185):\n",
    "            #Deal with packet loss......\n",
    "            if(i == 17 and packet_loss_testing_round_17_flag == False):\n",
    "                evcc_send_time_anchor_each_round.append(566.331214)\n",
    "                printinfo(stageNum, 53479, \"Packet Loss\")\n",
    "                print_time_difference(evcc_send_time_anchor_each_round)\n",
    "                stageNum = stageNum + 1\n",
    "                packet_loss_testing_round_17_flag = True\n",
    "                \n",
    "            if(checkstage_num(stageNum, 7, info_evcc_send_split[i][j],\n",
    "                                  timelist_evcc_send_split[i][j], data_length_evcc_send_split[i][j],\n",
    "                                  seq_num_evcc_send_split[i][j], frame_num_evcc_send_split[i][j])):\n",
    "                evcc_send_time_anchor_each_round.append(timelist_evcc_send_split[i][j])\n",
    "                printinfo(stageNum, frame_num_evcc_send_split[i][j], info_evcc_send_split[i][j])\n",
    "                print_time_difference(evcc_send_time_anchor_each_round)\n",
    "                stageNum = stageNum + 1\n",
    "                continue\n",
    "        #Stage 8\n",
    "        if(data_length_evcc_send_split[i][j] == 461 and data_length_evcc_send_split[i][j-1] != 461):\n",
    "            if(checkstage_num(stageNum, 8, info_evcc_send_split[i][j],\n",
    "                                  timelist_evcc_send_split[i][j], data_length_evcc_send_split[i][j],\n",
    "                                  seq_num_evcc_send_split[i][j], frame_num_evcc_send_split[i][j])):\n",
    "                evcc_send_time_anchor_each_round.append(timelist_evcc_send_split[i][j])\n",
    "                printinfo(stageNum, frame_num_evcc_send_split[i][j], info_evcc_send_split[i][j])\n",
    "                print_time_difference(evcc_send_time_anchor_each_round)\n",
    "                stageNum = stageNum + 1\n",
    "                continue\n",
    "        #Stage 9\n",
    "        if(data_length_evcc_send_split[i][j] == 189 and data_length_evcc_send_split[i][j-1] != 189):\n",
    "            if(checkstage_num(stageNum, 9, info_evcc_send_split[i][j],\n",
    "                                  timelist_evcc_send_split[i][j], data_length_evcc_send_split[i][j],\n",
    "                                  seq_num_evcc_send_split[i][j], frame_num_evcc_send_split[i][j])):\n",
    "                evcc_send_time_anchor_each_round.append(timelist_evcc_send_split[i][j])\n",
    "                printinfo(stageNum, frame_num_evcc_send_split[i][j], info_evcc_send_split[i][j])\n",
    "                print_time_difference(evcc_send_time_anchor_each_round)\n",
    "                stageNum = stageNum + 1\n",
    "                \n",
    "                #Deal with packet loss......\n",
    "                if(i == 3 and packet_loss_testing_round_3_flag_2 == False):\n",
    "                    evcc_send_time_anchor_each_round.append(143.257273)\n",
    "                    printinfo(stageNum, 11989, \"Packet Loss\")\n",
    "                    print_time_difference(evcc_send_time_anchor_each_round)\n",
    "                    stageNum = stageNum + 1\n",
    "                    packet_loss_testing_round_3_flag_2 = True\n",
    "                \n",
    "                continue\n",
    "        #Stage 10\n",
    "        if(data_length_evcc_send_split[i][j] == 173 and data_length_evcc_send_split[i][j-1] != 173):\n",
    "            \n",
    "            if(info_evcc_send_split[i][j][-2:] == 'TC'):\n",
    "                if(checkstage_num(stageNum, 10, info_evcc_send_split[i][j],\n",
    "                                      timelist_evcc_send_split[i][j], data_length_evcc_send_split[i][j],\n",
    "                                      seq_num_evcc_send_split[i][j], frame_num_evcc_send_split[i][j])):\n",
    "                    evcc_send_time_anchor_each_round.append(timelist_evcc_send_split[i][j])\n",
    "                    printinfo(stageNum, frame_num_evcc_send_split[i][j], info_evcc_send_split[i][j])\n",
    "                    print_time_difference(evcc_send_time_anchor_each_round)\n",
    "                    stageNum = stageNum + 1\n",
    "                    continue\n",
    "            else: print(\"Stage \" + str(stageNum) +\n",
    "                        \", Not TC? No. \" + str(frame_num_evcc_send_split[i][j]) +\n",
    "                        \", Data length \" + str(data_length_evcc_send_split[i][j]) +\n",
    "                        \", Info \" + str(info_evcc_send_split[i][j]))\n",
    "                \n",
    "        if(stageNum == 11): break\n",
    "        \n",
    "    evcc_send_time_anchor.append(evcc_send_time_anchor_each_round)"
   ]
  },
  {
   "cell_type": "code",
   "execution_count": 236,
   "metadata": {},
   "outputs": [
    {
     "name": "stdout",
     "output_type": "stream",
     "text": [
      "20\n",
      "\n",
      "10\n",
      "10\n",
      "10\n",
      "10\n",
      "10\n",
      "10\n",
      "10\n",
      "10\n",
      "10\n",
      "10\n",
      "10\n",
      "10\n",
      "10\n",
      "10\n",
      "10\n",
      "10\n",
      "10\n",
      "10\n",
      "10\n",
      "10\n"
     ]
    }
   ],
   "source": [
    "#for debug\n",
    "print(str(len(evcc_send_time_anchor)) + '\\n')\n",
    "for i in range(0, len(evcc_send_time_anchor)):\n",
    "    print(len(evcc_send_time_anchor[i]))"
   ]
  },
  {
   "cell_type": "code",
   "execution_count": 237,
   "metadata": {},
   "outputs": [
    {
     "data": {
      "text/plain": [
       "{2685: [185, 8],\n",
       " 5663: [185, 8],\n",
       " 8867: [185, 8],\n",
       " 20299: [185, 8],\n",
       " 25174: [185, 8],\n",
       " 27470: [173, 3],\n",
       " 27627: [185, 8],\n",
       " 29743: [185, 8],\n",
       " 32013: [185, 8],\n",
       " 35727: [173, 3],\n",
       " 35956: [185, 8],\n",
       " 38125: [173, 3],\n",
       " 38347: [189, 10],\n",
       " 41323: [185, 8],\n",
       " 41452: [189, 10],\n",
       " 43176: [185, 8],\n",
       " 43251: [189, 10],\n",
       " 45113: [185, 8],\n",
       " 46893: [173, 3],\n",
       " 47080: [185, 8],\n",
       " 49125: [185, 8],\n",
       " 51055: [185, 8],\n",
       " 53479: [185, 8],\n",
       " 53488: [185, 8],\n",
       " 55278: [173, 3],\n",
       " 55482: [185, 8],\n",
       " 57309: [185, 8]}"
      ]
     },
     "execution_count": 237,
     "metadata": {},
     "output_type": "execute_result"
    }
   ],
   "source": [
    "wierd_packet"
   ]
  },
  {
   "cell_type": "code",
   "execution_count": 238,
   "metadata": {},
   "outputs": [
    {
     "data": {
      "text/plain": [
       "27"
      ]
     },
     "execution_count": 238,
     "metadata": {},
     "output_type": "execute_result"
    }
   ],
   "source": [
    "len(wierd_packet)"
   ]
  },
  {
   "cell_type": "code",
   "execution_count": 239,
   "metadata": {},
   "outputs": [
    {
     "name": "stdout",
     "output_type": "stream",
     "text": [
      "3.0921360000000035\n",
      "2.8446099999999888\n",
      "1.9658930000000083\n",
      "2.430810000000008\n",
      "2.3667619999999943\n",
      "2.2047629999999856\n",
      "2.43728999999999\n",
      "1.9556529999999839\n",
      "2.4874940000000265\n",
      "2.6971340000000055\n",
      "2.4248440000000073\n",
      "2.6730419999999526\n",
      "1.6886739999999918\n",
      "2.3817449999999667\n",
      "2.3508110000000215\n",
      "2.4727079999999546\n",
      "1.7218189999999822\n",
      "2.8941449999999804\n",
      "2.475257000000056\n",
      "1.9679419999999936\n"
     ]
    }
   ],
   "source": [
    "#for debug\n",
    "for i in range(0, len(evcc_send_time_anchor)):\n",
    "    print(evcc_send_time_anchor[i][len(evcc_send_time_anchor[i])-1]-evcc_send_time_anchor[i][0])"
   ]
  },
  {
   "cell_type": "code",
   "execution_count": null,
   "metadata": {},
   "outputs": [],
   "source": []
  },
  {
   "cell_type": "code",
   "execution_count": 240,
   "metadata": {},
   "outputs": [],
   "source": [
    "#Processing secc send\n",
    "with open('max_secc_send.csv', newline='') as csvfile:\n",
    "    rows = csv.DictReader(csvfile)\n",
    "    timelist_secc_send = []\n",
    "    seq_num_secc_send = []\n",
    "    data_length_secc_send = []\n",
    "    info_secc_send = []\n",
    "    frame_num_secc_send = []\n",
    "    \n",
    "    for row in rows:\n",
    "        timelist_secc_send.append(float(row['Time']))\n",
    "        seq_num_secc_send.append(int(row['Sequence number']))\n",
    "        data_length_secc_send.append(int(row['Data Length']))\n",
    "        info_secc_send.append(str(row['Info']))\n",
    "        frame_num_secc_send.append(int(row['No.']))"
   ]
  },
  {
   "cell_type": "code",
   "execution_count": 241,
   "metadata": {},
   "outputs": [
    {
     "name": "stdout",
     "output_type": "stream",
     "text": [
      "2464\n"
     ]
    }
   ],
   "source": [
    "#for debug\n",
    "if(len(timelist_secc_send) != len(seq_num_secc_send)):\n",
    "    print(\"Error. Length is not equal.\")\n",
    "elif(len(timelist_secc_send) != len(data_length_secc_send)):\n",
    "    print(\"Error. Length is not equal.\")\n",
    "elif(len(timelist_secc_send) != len(info_secc_send)):\n",
    "    print(\"Error. Length is not equal.\")\n",
    "elif(len(timelist_secc_send) != len(frame_num_secc_send)):\n",
    "    print(\"Error. Length is not equal.\")\n",
    "else:\n",
    "    print(len(timelist_secc_send))"
   ]
  },
  {
   "cell_type": "code",
   "execution_count": 242,
   "metadata": {},
   "outputs": [],
   "source": [
    "timelist_secc_send_split = []\n",
    "seq_num_secc_send_split = []\n",
    "data_length_secc_send_split = []\n",
    "info_secc_send_split = []\n",
    "frame_num_secc_send_split = []\n",
    "\n",
    "round_start_point = 0\n",
    "round_end_point = 0\n",
    "\n",
    "sdpres_index_list = []\n",
    "#Fetch first packet index of data length = 92 (SDP response) in each round\n",
    "for i in range(0, len(data_length_secc_send)):\n",
    "    if(i == 0 and data_length_secc_send[i] == 92):\n",
    "        sdpres_index_list.append(i)\n",
    "    if(i > 0 and data_length_secc_send[i] == 92 and data_length_secc_send[i-1] != 92):\n",
    "        sdpres_index_list.append(i)\n",
    "sdpres_index_list.append(len(data_length_secc_send)) #Add the end of list index\n",
    "\n",
    "for i in range(0, len(sdpres_index_list)-1):\n",
    "        timelist_secc_send_split.append([timelist_secc_send[j] for j in range(sdpres_index_list[i], sdpres_index_list[i+1])])\n",
    "        seq_num_secc_send_split.append([seq_num_secc_send[j] for j in range(sdpres_index_list[i], sdpres_index_list[i+1])])\n",
    "        data_length_secc_send_split.append([data_length_secc_send[j] for j in range(sdpres_index_list[i], sdpres_index_list[i+1])])\n",
    "        info_secc_send_split.append([info_secc_send[j] for j in range(sdpres_index_list[i], sdpres_index_list[i+1])])\n",
    "        frame_num_secc_send_split.append([frame_num_secc_send[j] for j in range(sdpres_index_list[i], sdpres_index_list[i+1])])"
   ]
  },
  {
   "cell_type": "code",
   "execution_count": 243,
   "metadata": {},
   "outputs": [
    {
     "name": "stdout",
     "output_type": "stream",
     "text": [
      "21\n"
     ]
    }
   ],
   "source": [
    "#for debug\n",
    "if(len(timelist_secc_send_split) != len(seq_num_secc_send_split)):\n",
    "    print(\"Error. Length is not equal.\")\n",
    "elif(len(timelist_secc_send_split) != len(data_length_secc_send_split)):\n",
    "    print(\"Error. Length is not equal.\")\n",
    "elif(len(timelist_secc_send_split) != len(info_secc_send_split)):\n",
    "    print(\"Error. Length is not equal.\")\n",
    "elif(len(timelist_secc_send_split) != len(frame_num_secc_send_split)):\n",
    "    print(\"Error. Length is not equal.\")\n",
    "else:\n",
    "    print(len(timelist_secc_send_split)) #Output # of testing rounds"
   ]
  },
  {
   "cell_type": "code",
   "execution_count": null,
   "metadata": {},
   "outputs": [],
   "source": [
    "for i in range(0, len(timelist_secc_send_split)):\n",
    "    print('i = ' + str(i))\n",
    "    print(len(timelist_secc_send_split[i]))"
   ]
  },
  {
   "cell_type": "code",
   "execution_count": 245,
   "metadata": {},
   "outputs": [
    {
     "name": "stdout",
     "output_type": "stream",
     "text": [
      "31.24035899999999\n",
      "30.81248500000001\n",
      "29.99349199999999\n",
      "30.31234600000002\n",
      "30.208534999999983\n",
      "30.344866999999994\n",
      "30.479444\n",
      "30.113652000000002\n",
      "31.115973999999994\n",
      "30.925652000000014\n",
      "30.023331999999982\n",
      "30.50526100000002\n",
      "29.57543099999998\n",
      "30.007479000000046\n",
      "30.001979999999946\n",
      "0.006025000000022374\n",
      "30.30554699999999\n",
      "29.279791000000046\n",
      "30.62495100000001\n",
      "30.30801299999996\n"
     ]
    }
   ],
   "source": [
    "#for debug, this is ideally the time of each testing round\n",
    "for i in range(1, len(timelist_secc_send_split)):\n",
    "    print(timelist_secc_send_split[i][0]-timelist_secc_send_split[i-1][0])"
   ]
  },
  {
   "cell_type": "code",
   "execution_count": 246,
   "metadata": {},
   "outputs": [
    {
     "data": {
      "text/plain": [
       "[504.557895, 504.558916]"
      ]
     },
     "execution_count": 246,
     "metadata": {},
     "output_type": "execute_result"
    }
   ],
   "source": [
    "#Catch error. Frame No. 48660\n",
    "timelist_secc_send_split[15]"
   ]
  },
  {
   "cell_type": "code",
   "execution_count": 247,
   "metadata": {},
   "outputs": [],
   "source": [
    "del timelist_secc_send_split[15]\n",
    "del seq_num_secc_send_split[15]\n",
    "del data_length_secc_send_split[15]\n",
    "del info_secc_send_split[15]\n",
    "del frame_num_secc_send_split[15]"
   ]
  },
  {
   "cell_type": "code",
   "execution_count": 248,
   "metadata": {},
   "outputs": [
    {
     "name": "stdout",
     "output_type": "stream",
     "text": [
      "i = 0 141\n",
      "i = 1 129\n",
      "i = 2 121\n",
      "i = 3 118\n",
      "i = 4 116\n",
      "i = 5 89\n",
      "i = 6 119\n",
      "i = 7 114\n",
      "i = 8 136\n",
      "i = 9 122\n",
      "i = 10 119\n",
      "i = 11 128\n",
      "i = 12 126\n",
      "i = 13 114\n",
      "i = 14 122\n",
      "i = 15 120\n",
      "i = 16 119\n",
      "i = 17 128\n",
      "i = 18 131\n",
      "i = 19 150\n"
     ]
    }
   ],
   "source": [
    "for i in range(0, len(timelist_secc_send_split)):\n",
    "    print('i = ' + str(i) + ' ', end = '')\n",
    "    print(len(timelist_secc_send_split[i]))"
   ]
  },
  {
   "cell_type": "code",
   "execution_count": 249,
   "metadata": {},
   "outputs": [
    {
     "name": "stdout",
     "output_type": "stream",
     "text": [
      "31.24035899999999\n",
      "30.81248500000001\n",
      "29.99349199999999\n",
      "30.31234600000002\n",
      "30.208534999999983\n",
      "30.344866999999994\n",
      "30.479444\n",
      "30.113652000000002\n",
      "31.115973999999994\n",
      "30.925652000000014\n",
      "30.023331999999982\n",
      "30.50526100000002\n",
      "29.57543099999998\n",
      "30.007479000000046\n",
      "30.00800499999997\n",
      "30.30554699999999\n",
      "29.279791000000046\n",
      "30.62495100000001\n",
      "30.30801299999996\n"
     ]
    }
   ],
   "source": [
    "for i in range(1, len(timelist_secc_send_split)):\n",
    "    print(timelist_secc_send_split[i][0]-timelist_secc_send_split[i-1][0])"
   ]
  },
  {
   "cell_type": "code",
   "execution_count": 250,
   "metadata": {},
   "outputs": [
    {
     "name": "stdout",
     "output_type": "stream",
     "text": [
      "20\n"
     ]
    }
   ],
   "source": [
    "print(len(timelist_secc_send_split))"
   ]
  },
  {
   "cell_type": "code",
   "execution_count": null,
   "metadata": {},
   "outputs": [],
   "source": [
    "#Set secc time anchor in each round per stage\n",
    "secc_send_time_anchor = []\n",
    "#data_length_in_each_stage = [92, 173, 157, 189, 253, 173, 189, 173, 493, 173]\n",
    "wierd_packet_secc = {}\n",
    "packet_loss_testing_round_5_flag = False\n",
    "packet_loss_testing_round_6_flag = False\n",
    "packet_loss_testing_round_9_flag = False\n",
    "packet_loss_testing_round_13_flag = False\n",
    "packet_loss_testing_round_14_flag = False\n",
    "packet_loss_testing_round_17_flag = False\n",
    "\n",
    "def printinfo(stageNum, frameNum, info_string):\n",
    "    print(\"-----------------------------------------\")\n",
    "    print(\"Stage \" + str(stageNum) + \" finish. No. \" + str(frameNum) + \", Info \" + str(info_string))\n",
    "\n",
    "def print_time_difference(secc_send_time_anchor_each_round):\n",
    "    print(\"Time difference: \" + str(secc_send_time_anchor_each_round[len(secc_send_time_anchor_each_round)-1]-\n",
    "                          secc_send_time_anchor_each_round[len(secc_send_time_anchor_each_round)-2]))\n",
    "    \n",
    "def checkstage_num(stageNum, valid_stageNum, info_string, time_string, datalen, seqnum, frameNum):\n",
    "    if(stageNum == valid_stageNum):\n",
    "        check_wield_packet_list(frameNum)\n",
    "        return True\n",
    "    else:\n",
    "        #debug\n",
    "        print(\"\\nWhat is this packet? Data Length = \" + str(datalen) + \" No. \" + str(frameNum))\n",
    "        print(\"Time \" + str(time_string) + \" #Seq \" + str(seqnum) + \" Info \" + str(info_string) + \"\\n\")\n",
    "        wierd_packet_secc[frameNum] = [datalen, stageNum]\n",
    "        return False\n",
    "\n",
    "def check_wield_packet_list(frameNum):\n",
    "    if(wierd_packet_secc.get(frameNum) != None):\n",
    "        del wierd_packet_secc[frameNum]\n",
    "        print(\"\\nNo. \" + str(frameNum) + \" has been found. Delete from wierd list.\\n\")\n",
    "    \n",
    "for i in range(0, len(data_length_secc_send_split)):\n",
    "    print(\"\\n-------- Test Round \" + str(i+1) + \" --------\")\n",
    "    #Stage 1\n",
    "    secc_send_time_anchor_each_round = [timelist_secc_send_split[i][0]]\n",
    "    stageNum = 1\n",
    "    printinfo(stageNum, frame_num_secc_send_split[i][0], info_secc_send_split[i][0])\n",
    "    stageNum = stageNum + 1\n",
    "    \n",
    "    #Deal with packet loss......\n",
    "    if(i == 5 and packet_loss_testing_round_5_flag == False):\n",
    "        secc_send_time_anchor_each_round.append(202.710589)\n",
    "        printinfo(stageNum, 25112, \"Packet Loss\")\n",
    "        print_time_difference(secc_send_time_anchor_each_round)\n",
    "        stageNum = stageNum + 1\n",
    "        \n",
    "        secc_send_time_anchor_each_round.append(202.799629)\n",
    "        printinfo(stageNum, 25116, \"Packet Loss\")\n",
    "        print_time_difference(secc_send_time_anchor_each_round)\n",
    "        stageNum = stageNum + 1\n",
    "        \n",
    "        secc_send_time_anchor_each_round.append(202.926506)\n",
    "        printinfo(stageNum, 25126, \"Packet Loss\")\n",
    "        print_time_difference(secc_send_time_anchor_each_round)\n",
    "        stageNum = stageNum + 1\n",
    "        \n",
    "        secc_send_time_anchor_each_round.append(202.981442)\n",
    "        printinfo(stageNum, 25130, \"Packet Loss\")\n",
    "        print_time_difference(secc_send_time_anchor_each_round)\n",
    "        stageNum = stageNum + 1\n",
    "        \n",
    "        packet_loss_testing_round_5_flag = True\n",
    "    \n",
    "    #Deal with packet loss......\n",
    "    if(i == 13 and packet_loss_testing_round_13_flag == False):\n",
    "        secc_send_time_anchor_each_round.append(445.566241)\n",
    "        printinfo(stageNum, 44926, \"Packet Loss\")\n",
    "        print_time_difference(secc_send_time_anchor_each_round)\n",
    "        stageNum = stageNum + 1\n",
    "        packet_loss_testing_round_13_flag = True\n",
    "        \n",
    "    #Deal with packet loss......\n",
    "    if(i == 14 and packet_loss_testing_round_14_flag == False):\n",
    "        secc_send_time_anchor_each_round.append(475.490112)\n",
    "        printinfo(stageNum, 46918, \"Packet Loss\")\n",
    "        print_time_difference(secc_send_time_anchor_each_round)\n",
    "        stageNum = stageNum + 1\n",
    "        packet_loss_testing_round_14_flag = True\n",
    "    \n",
    "    for j in range(1, len(data_length_secc_send_split[i])):\n",
    "        #Stage 2\n",
    "        if(data_length_secc_send_split[i][j] == 173 and data_length_secc_send_split[i][j-1] != 173):\n",
    "            if(info_secc_send_split[i][j][-2:] == 'TC'):\n",
    "                if(checkstage_num(stageNum, 2, info_secc_send_split[i][j],\n",
    "                                      timelist_secc_send_split[i][j], data_length_secc_send_split[i][j],\n",
    "                                      seq_num_secc_send_split[i][j], frame_num_secc_send_split[i][j])):\n",
    "                    secc_send_time_anchor_each_round.append(timelist_secc_send_split[i][j])\n",
    "                    printinfo(stageNum, frame_num_secc_send_split[i][j], info_secc_send_split[i][j])\n",
    "                    print_time_difference(secc_send_time_anchor_each_round)\n",
    "                    stageNum = stageNum + 1\n",
    "                    continue\n",
    "            else:\n",
    "                print(\"Stage \" + str(stageNum) +\n",
    "                      \", Not TC? No. \" + str(frame_num_secc_send_split[i][j]) +\n",
    "                      \", Data length \" + str(data_length_secc_send_split[i][j]) +\n",
    "                      \", Info \" + str(info_secc_send_split[i][j]))\n",
    "        #Stage 3\n",
    "        if(data_length_secc_send_split[i][j] == 157 and data_length_secc_send_split[i][j-1] != 157):\n",
    "            if(checkstage_num(stageNum, 3, info_secc_send_split[i][j],\n",
    "                                  timelist_secc_send_split[i][j], data_length_secc_send_split[i][j],\n",
    "                                  seq_num_secc_send_split[i][j], frame_num_secc_send_split[i][j])):\n",
    "                secc_send_time_anchor_each_round.append(timelist_secc_send_split[i][j])\n",
    "                printinfo(stageNum, frame_num_secc_send_split[i][j], info_secc_send_split[i][j])\n",
    "                print_time_difference(secc_send_time_anchor_each_round)\n",
    "                stageNum = stageNum + 1\n",
    "                continue\n",
    "        #Stage 4\n",
    "        if(data_length_secc_send_split[i][j] == 189 and data_length_secc_send_split[i][j-1] != 189):\n",
    "            if(checkstage_num(stageNum, 4, info_secc_send_split[i][j],\n",
    "                                  timelist_secc_send_split[i][j], data_length_secc_send_split[i][j],\n",
    "                                  seq_num_secc_send_split[i][j], frame_num_secc_send_split[i][j])):\n",
    "                secc_send_time_anchor_each_round.append(timelist_secc_send_split[i][j])\n",
    "                printinfo(stageNum, frame_num_secc_send_split[i][j], info_secc_send_split[i][j])\n",
    "                print_time_difference(secc_send_time_anchor_each_round)\n",
    "                stageNum = stageNum + 1\n",
    "                \n",
    "                #Deal with packet loss......\n",
    "                if(i == 6 and packet_loss_testing_round_6_flag == False):\n",
    "                    secc_send_time_anchor_each_round.append(233.058599)\n",
    "                    printinfo(stageNum, 27570, \"Packet Loss\")\n",
    "                    print_time_difference(secc_send_time_anchor_each_round)\n",
    "                    stageNum = stageNum + 1\n",
    "                    packet_loss_testing_round_6_flag = True\n",
    "                    \n",
    "                continue\n",
    "        #Stage 5\n",
    "        if(data_length_secc_send_split[i][j] == 253 and data_length_secc_send_split[i][j-1] != 253):\n",
    "            if(checkstage_num(stageNum, 5, info_secc_send_split[i][j],\n",
    "                                  timelist_secc_send_split[i][j], data_length_secc_send_split[i][j],\n",
    "                                  seq_num_secc_send_split[i][j], frame_num_secc_send_split[i][j])):\n",
    "                secc_send_time_anchor_each_round.append(timelist_secc_send_split[i][j])\n",
    "                printinfo(stageNum, frame_num_secc_send_split[i][j], info_secc_send_split[i][j])\n",
    "                print_time_difference(secc_send_time_anchor_each_round)\n",
    "                stageNum = stageNum + 1\n",
    "                \n",
    "                #Deal with packet loss......\n",
    "                if(i == 9 and packet_loss_testing_round_9_flag == False):\n",
    "                    secc_send_time_anchor_each_round.append(325.166882)\n",
    "                    printinfo(stageNum, 35905, \"Packet Loss\")\n",
    "                    print_time_difference(secc_send_time_anchor_each_round)\n",
    "                    stageNum = stageNum + 1\n",
    "                    packet_loss_testing_round_9_flag = True\n",
    "                \n",
    "                #Deal with packet loss......\n",
    "                if(i == 17 and packet_loss_testing_round_17_flag == False):\n",
    "                    secc_send_time_anchor_each_round.append(565.802852)\n",
    "                    printinfo(stageNum, 53285, \"Packet Loss\")\n",
    "                    print_time_difference(secc_send_time_anchor_each_round)\n",
    "                    stageNum = stageNum + 1\n",
    "                    packet_loss_testing_round_17_flag = True\n",
    "                \n",
    "                continue\n",
    "        #Stage 6\n",
    "        if(data_length_secc_send_split[i][j] == 173 and data_length_secc_send_split[i][j-1] != 173):\n",
    "            if(info_secc_send_split[i][j][-2:] == 'TC'):\n",
    "                if(checkstage_num(stageNum, 6, info_secc_send_split[i][j],\n",
    "                                      timelist_secc_send_split[i][j], data_length_secc_send_split[i][j],\n",
    "                                      seq_num_secc_send_split[i][j], frame_num_secc_send_split[i][j])):\n",
    "                    secc_send_time_anchor_each_round.append(timelist_secc_send_split[i][j])\n",
    "                    printinfo(stageNum, frame_num_secc_send_split[i][j], info_secc_send_split[i][j])\n",
    "                    print_time_difference(secc_send_time_anchor_each_round)\n",
    "                    stageNum = stageNum + 1\n",
    "                    continue\n",
    "            else:\n",
    "                print(\"Stage \" + str(stageNum) +\n",
    "                      \", Not TC? No. \" + str(frame_num_secc_send_split[i][j]) +\n",
    "                      \", Data length \" + str(data_length_secc_send_split[i][j]) +\n",
    "                      \", Info \" + str(info_secc_send_split[i][j]))\n",
    "        #Stage 7\n",
    "        if(data_length_secc_send_split[i][j] == 189 and data_length_secc_send_split[i][j-1] != 189):\n",
    "            if(checkstage_num(stageNum, 7, info_secc_send_split[i][j],\n",
    "                                  timelist_secc_send_split[i][j], data_length_secc_send_split[i][j],\n",
    "                                  seq_num_secc_send_split[i][j], frame_num_secc_send_split[i][j])):\n",
    "                secc_send_time_anchor_each_round.append(timelist_secc_send_split[i][j])\n",
    "                printinfo(stageNum, frame_num_secc_send_split[i][j], info_secc_send_split[i][j])\n",
    "                print_time_difference(secc_send_time_anchor_each_round)\n",
    "                stageNum = stageNum + 1\n",
    "                continue\n",
    "        #Stage 8\n",
    "        if(data_length_secc_send_split[i][j] == 173 and data_length_secc_send_split[i][j-1] != 173):\n",
    "            if(info_secc_send_split[i][j][-2:] == 'TC'):\n",
    "                if(checkstage_num(stageNum, 8, info_secc_send_split[i][j],\n",
    "                                      timelist_secc_send_split[i][j], data_length_secc_send_split[i][j],\n",
    "                                      seq_num_secc_send_split[i][j], frame_num_secc_send_split[i][j])):\n",
    "                    secc_send_time_anchor_each_round.append(timelist_secc_send_split[i][j])\n",
    "                    printinfo(stageNum, frame_num_secc_send_split[i][j], info_secc_send_split[i][j])\n",
    "                    print_time_difference(secc_send_time_anchor_each_round)\n",
    "                    stageNum = stageNum + 1\n",
    "                    continue\n",
    "            else:\n",
    "                print(\"Stage \" + str(stageNum) +\n",
    "                      \", Not TC? No. \" + str(frame_num_secc_send_split[i][j]) +\n",
    "                      \", Data length \" + str(data_length_secc_send_split[i][j]) +\n",
    "                      \", Info \" + str(info_secc_send_split[i][j]))\n",
    "        #Stage 9\n",
    "        if(data_length_secc_send_split[i][j] == 493 and data_length_secc_send_split[i][j-1] != 493):\n",
    "            if(checkstage_num(stageNum, 9, info_secc_send_split[i][j],\n",
    "                                  timelist_secc_send_split[i][j], data_length_secc_send_split[i][j],\n",
    "                                  seq_num_secc_send_split[i][j], frame_num_secc_send_split[i][j])):\n",
    "                secc_send_time_anchor_each_round.append(timelist_secc_send_split[i][j])\n",
    "                printinfo(stageNum, frame_num_secc_send_split[i][j], info_secc_send_split[i][j])\n",
    "                print_time_difference(secc_send_time_anchor_each_round)\n",
    "                stageNum = stageNum + 1\n",
    "                continue\n",
    "        #Stage 10\n",
    "        if(data_length_secc_send_split[i][j] == 173 and data_length_secc_send_split[i][j-1] != 173):\n",
    "            if(info_secc_send_split[i][j][-2:] == 'TC'):\n",
    "                if(checkstage_num(stageNum, 10, info_secc_send_split[i][j],\n",
    "                                      timelist_secc_send_split[i][j], data_length_secc_send_split[i][j],\n",
    "                                      seq_num_secc_send_split[i][j], frame_num_secc_send_split[i][j])):\n",
    "                    secc_send_time_anchor_each_round.append(timelist_secc_send_split[i][j])\n",
    "                    printinfo(stageNum, frame_num_secc_send_split[i][j], info_secc_send_split[i][j])\n",
    "                    print_time_difference(secc_send_time_anchor_each_round)\n",
    "                    stageNum = stageNum + 1\n",
    "                    continue\n",
    "            else:\n",
    "                print(\"Stage \" + str(stageNum) +\n",
    "                      \", Not TC? No. \" + str(frame_num_secc_send_split[i][j]) +\n",
    "                      \", Data length \" + str(data_length_secc_send_split[i][j]) +\n",
    "                      \", Info \" + str(info_secc_send_split[i][j]))\n",
    "        \n",
    "        if(stageNum == 11): break\n",
    "        \n",
    "    secc_send_time_anchor.append(secc_send_time_anchor_each_round)"
   ]
  },
  {
   "cell_type": "code",
   "execution_count": 252,
   "metadata": {},
   "outputs": [
    {
     "name": "stdout",
     "output_type": "stream",
     "text": [
      "20\n",
      "\n",
      "10\n",
      "10\n",
      "10\n",
      "10\n",
      "10\n",
      "10\n",
      "10\n",
      "10\n",
      "10\n",
      "10\n",
      "10\n",
      "10\n",
      "10\n",
      "10\n",
      "10\n",
      "10\n",
      "10\n",
      "10\n",
      "10\n",
      "10\n"
     ]
    }
   ],
   "source": [
    "#for debug\n",
    "print(str(len(secc_send_time_anchor)) + '\\n')\n",
    "for i in range(0, len(secc_send_time_anchor)):\n",
    "    print(len(secc_send_time_anchor[i]))"
   ]
  },
  {
   "cell_type": "code",
   "execution_count": 253,
   "metadata": {},
   "outputs": [
    {
     "name": "stdout",
     "output_type": "stream",
     "text": [
      "3.0079819999999984\n",
      "2.8719090000000023\n",
      "1.9112329999999957\n",
      "2.3272750000000144\n",
      "2.3059009999999773\n",
      "2.2136859999999956\n",
      "2.3172500000000014\n",
      "1.9016450000000304\n",
      "2.4609159999999974\n",
      "2.783100999999988\n",
      "2.331598999999983\n",
      "2.6078370000000177\n",
      "1.6572009999999864\n",
      "2.391020000000026\n",
      "2.3249339999999847\n",
      "2.395364000000029\n",
      "1.660641000000055\n",
      "2.8569649999999456\n",
      "2.4298369999999068\n",
      "1.87462000000005\n"
     ]
    }
   ],
   "source": [
    "#for debug\n",
    "for i in range(0, len(secc_send_time_anchor)):\n",
    "    print(secc_send_time_anchor[i][len(secc_send_time_anchor[i])-1]-secc_send_time_anchor[i][0])"
   ]
  },
  {
   "cell_type": "code",
   "execution_count": 254,
   "metadata": {},
   "outputs": [
    {
     "data": {
      "text/plain": [
       "[48.897606,\n",
       " 49.961497,\n",
       " 50.152844,\n",
       " 50.337895,\n",
       " 50.377603,\n",
       " 51.161093,\n",
       " 51.515046,\n",
       " 51.692992,\n",
       " 51.74107,\n",
       " 51.905588]"
      ]
     },
     "execution_count": 254,
     "metadata": {},
     "output_type": "execute_result"
    }
   ],
   "source": [
    "secc_send_time_anchor[0]"
   ]
  },
  {
   "cell_type": "code",
   "execution_count": null,
   "metadata": {},
   "outputs": [],
   "source": [
    "#BLOCK ACK processing\n",
    "#Time evcc sends blockACK after secc send\n",
    "evcc_blockAck_time_anchor = []\n",
    "\n",
    "blockack_index = 0\n",
    "for i in range(0, len(secc_send_time_anchor)):\n",
    "    evcc_blockAck_time_anchor_in_each_round = []\n",
    "    \n",
    "    for j in range(0, len(secc_send_time_anchor[i])):\n",
    "        while(timelist_block_ack[blockack_index] < secc_send_time_anchor[i][j]):\n",
    "            blockack_index = blockack_index + 1\n",
    "        evcc_blockAck_time_anchor_in_each_round.append(timelist_block_ack[blockack_index])\n",
    "        print(\"ACK time difference = \" + str(\n",
    "        timelist_block_ack[blockack_index] - secc_send_time_anchor[i][j]))\n",
    "    \n",
    "    evcc_blockAck_time_anchor.append(evcc_blockAck_time_anchor_in_each_round)"
   ]
  },
  {
   "cell_type": "code",
   "execution_count": 272,
   "metadata": {},
   "outputs": [],
   "source": [
    "#SECC Packet Loss dict\n",
    "#secc_packet_loss_dict[i] = {stageNum}\n",
    "# i = 5, j = 0 is packet loss of evcc BLOCK ACK\n",
    "# i = 3, j = 9 is packet loss of evcc BLOCK ACK\n",
    "secc_packet_loss_dict = {}\n",
    "secc_packet_loss_dict[3] = {9}\n",
    "secc_packet_loss_dict[5] = {0, 1, 2, 3, 4}\n",
    "secc_packet_loss_dict[6] = {4}\n",
    "secc_packet_loss_dict[9] = {5}\n",
    "secc_packet_loss_dict[13] = {1}\n",
    "secc_packet_loss_dict[14] = {1}\n",
    "secc_packet_loss_dict[17] = {5}\n",
    "\n",
    "#for i in secc_packet_loss_dict.get(5): print(i)\n",
    "#7 in secc_packet_loss_dict.get(5)"
   ]
  },
  {
   "cell_type": "code",
   "execution_count": 273,
   "metadata": {},
   "outputs": [
    {
     "name": "stdout",
     "output_type": "stream",
     "text": [
      "Avg Block Ack latency = 0.007726566137568847 s\n",
      "189\n"
     ]
    }
   ],
   "source": [
    "#Calculate the avg. block ack latency\n",
    "sum_latency = 0\n",
    "cnt = 0\n",
    "for i in range(0, len(evcc_blockAck_time_anchor)):\n",
    "    for j in range(0, len(evcc_blockAck_time_anchor[i])):\n",
    "        if(secc_packet_loss_dict.get(i) == None):\n",
    "            sum_latency = sum_latency + (evcc_blockAck_time_anchor[i][j]-secc_send_time_anchor[i][j])\n",
    "            cnt = cnt + 1\n",
    "        elif(secc_packet_loss_dict.get(i) != None):\n",
    "            if(j in secc_packet_loss_dict.get(i)): continue\n",
    "            else:\n",
    "                sum_latency = sum_latency + (evcc_blockAck_time_anchor[i][j]-secc_send_time_anchor[i][j])\n",
    "                cnt = cnt + 1\n",
    "        else: continue\n",
    "avg_blockAck_latency = sum_latency/cnt\n",
    "print(\"Avg Block Ack latency = \" + str(avg_blockAck_latency) + \" s\")\n",
    "print(cnt)"
   ]
  },
  {
   "cell_type": "code",
   "execution_count": 274,
   "metadata": {},
   "outputs": [
    {
     "name": "stdout",
     "output_type": "stream",
     "text": [
      "Avg Block Ack latency = 0.18464700000000211 s\n",
      "11\n"
     ]
    }
   ],
   "source": [
    "#For curiousity\n",
    "#Calculate the avg. block ack latency of the appending packet loss packets\n",
    "sum_latency_2 = 0\n",
    "cnt = 0\n",
    "for i in range(0, len(evcc_blockAck_time_anchor)):\n",
    "    for j in range(0, len(evcc_blockAck_time_anchor[i])):\n",
    "        if(secc_packet_loss_dict.get(i) != None):\n",
    "            if(j in secc_packet_loss_dict.get(i)):\n",
    "                sum_latency_2 = sum_latency_2 + (evcc_blockAck_time_anchor[i][j]-secc_send_time_anchor[i][j])\n",
    "                cnt = cnt + 1\n",
    "        else: continue\n",
    "avg_blockAck_latency_2 = sum_latency_2/cnt\n",
    "print(\"Avg Block Ack latency = \" + str(avg_blockAck_latency_2) + \" s\")\n",
    "print(cnt)"
   ]
  },
  {
   "cell_type": "code",
   "execution_count": 275,
   "metadata": {},
   "outputs": [
    {
     "name": "stdout",
     "output_type": "stream",
     "text": [
      "i = 0: 0.009068800000001431\n",
      "i = 1: 0.007825699999997937\n",
      "i = 2: 0.00894599999999457\n",
      "i = 3: 0.01699550000000727\n",
      "i = 4: 0.009264399999977968\n",
      "i = 5: 0.1695633000000214\n",
      "i = 6: 0.011674600000020519\n",
      "i = 7: 0.011354400000016085\n",
      "i = 8: 0.0061952000000360385\n",
      "i = 9: 0.0357298000000128\n",
      "i = 10: 0.007326200000022709\n",
      "i = 11: 0.003543000000036045\n",
      "i = 12: 0.004891700000030141\n",
      "i = 13: 0.007610999999997148\n",
      "i = 14: 0.006605499999977837\n",
      "i = 15: 0.005972399999961908\n",
      "i = 16: 0.005601600000090912\n",
      "i = 17: 0.011716200000023491\n",
      "i = 18: 0.0033443000000943357\n",
      "i = 19: 0.005914200000006531\n"
     ]
    }
   ],
   "source": [
    "#For debug. Can see testing round 6 (i = 5) has longer block ack latency due to packet loss.\n",
    "# I only append the secc send time, but didn't append the block time.\n",
    "from statistics import mean\n",
    "\n",
    "for i in range(0, len(evcc_blockAck_time_anchor)):\n",
    "    print(\"i = \" + str(i) + \": \" + str(mean(evcc_blockAck_time_anchor[i])-mean(secc_send_time_anchor[i])))"
   ]
  },
  {
   "cell_type": "code",
   "execution_count": 276,
   "metadata": {},
   "outputs": [
    {
     "name": "stdout",
     "output_type": "stream",
     "text": [
      "0.0008429999999961524\n",
      "0.0010869999999982838\n",
      "0.0014240000000000919\n",
      "0.0020569999999935362\n",
      "0.0009629999999987149\n",
      "0.013097000000001913\n",
      "0.029555000000001996\n",
      "0.007459000000004323\n",
      "0.025390999999999053\n",
      "0.008811999999998932\n"
     ]
    }
   ],
   "source": [
    "#For debug\n",
    "for j in range(0, 10):\n",
    "    print(evcc_blockAck_time_anchor[0][j]-secc_send_time_anchor[0][j])"
   ]
  },
  {
   "cell_type": "code",
   "execution_count": 277,
   "metadata": {},
   "outputs": [
    {
     "name": "stdout",
     "output_type": "stream",
     "text": [
      "i = 3\n",
      "j = 9\n",
      "i = 5\n",
      "j = 0\n",
      "i = 5\n",
      "j = 1\n",
      "i = 5\n",
      "j = 2\n",
      "i = 5\n",
      "j = 3\n",
      "i = 5\n",
      "j = 4\n",
      "i = 6\n",
      "j = 4\n",
      "i = 9\n",
      "j = 5\n",
      "i = 13\n",
      "j = 1\n",
      "i = 14\n",
      "j = 1\n",
      "i = 17\n",
      "j = 5\n"
     ]
    }
   ],
   "source": [
    "#Use the avg. block ack latency for the lost secc sent packets\n",
    "for i in range(0, len(evcc_blockAck_time_anchor)):\n",
    "    for j in range(0, len(evcc_blockAck_time_anchor[i])):\n",
    "        if(secc_packet_loss_dict.get(i) != None):\n",
    "            if(j in secc_packet_loss_dict.get(i)):\n",
    "                evcc_blockAck_time_anchor[i][j] = secc_send_time_anchor[i][j] + avg_blockAck_latency\n",
    "                print(\"i = \" + str(i))\n",
    "                print(\"j = \" + str(j))\n",
    "        else: continue"
   ]
  },
  {
   "cell_type": "code",
   "execution_count": 278,
   "metadata": {},
   "outputs": [
    {
     "data": {
      "text/plain": [
       "0.007726566137568847"
      ]
     },
     "execution_count": 278,
     "metadata": {},
     "output_type": "execute_result"
    }
   ],
   "source": [
    "avg_blockAck_latency"
   ]
  },
  {
   "cell_type": "code",
   "execution_count": 279,
   "metadata": {},
   "outputs": [
    {
     "data": {
      "text/plain": [
       "20"
      ]
     },
     "execution_count": 279,
     "metadata": {},
     "output_type": "execute_result"
    }
   ],
   "source": [
    "len(evcc_blockAck_time_anchor)"
   ]
  },
  {
   "cell_type": "code",
   "execution_count": 280,
   "metadata": {},
   "outputs": [
    {
     "name": "stdout",
     "output_type": "stream",
     "text": [
      "10\n",
      "10\n",
      "10\n",
      "10\n",
      "10\n",
      "10\n",
      "10\n",
      "10\n",
      "10\n",
      "10\n",
      "10\n",
      "10\n",
      "10\n",
      "10\n",
      "10\n",
      "10\n",
      "10\n",
      "10\n",
      "10\n",
      "10\n"
     ]
    }
   ],
   "source": [
    "for i in range(0, len(evcc_blockAck_time_anchor)):\n",
    "    print(len(evcc_blockAck_time_anchor[i]))"
   ]
  },
  {
   "cell_type": "code",
   "execution_count": 281,
   "metadata": {},
   "outputs": [],
   "source": [
    "#for debug check wierd value\n",
    "for i in range(0, len(evcc_blockAck_time_anchor)):\n",
    "    for j in range(0, len(evcc_blockAck_time_anchor[i])):\n",
    "        if(secc_send_time_anchor[i][j] - evcc_send_time_anchor[i][j] < 0):\n",
    "            print(\"i = \" + str(i) + \" j = \" + str(j))\n",
    "        if(evcc_blockAck_time_anchor[i][j] - evcc_send_time_anchor[i][j] < 0):\n",
    "            print(\"i = \" + str(i) + \" j = \" + str(j))"
   ]
  },
  {
   "cell_type": "code",
   "execution_count": 282,
   "metadata": {},
   "outputs": [
    {
     "data": {
      "text/plain": [
       "[564.149258,\n",
       " 565.174129,\n",
       " 565.274518,\n",
       " 565.420973,\n",
       " 565.450665,\n",
       " 565.802852,\n",
       " 566.4488,\n",
       " 566.834902,\n",
       " 566.870918,\n",
       " 567.006223]"
      ]
     },
     "execution_count": 282,
     "metadata": {},
     "output_type": "execute_result"
    }
   ],
   "source": [
    "secc_send_time_anchor[17]"
   ]
  },
  {
   "cell_type": "code",
   "execution_count": 283,
   "metadata": {},
   "outputs": [
    {
     "name": "stdout",
     "output_type": "stream",
     "text": [
      "Stage 1\n",
      "140.826463\n",
      "140.943942\n",
      "140.965527\n",
      "0.13906400000001895\n",
      "\n",
      "\n",
      "Stage 2\n",
      "141.56852\n",
      "141.990122\n",
      "141.992905\n",
      "0.4243850000000009\n",
      "\n",
      "\n",
      "Stage 3\n",
      "142.11107\n",
      "142.173171\n",
      "142.173226\n",
      "0.062155999999987444\n",
      "\n",
      "\n",
      "Stage 4\n",
      "142.322301\n",
      "142.381302\n",
      "142.384616\n",
      "0.06231499999998391\n",
      "\n",
      "\n",
      "Stage 5\n",
      "142.396109\n",
      "142.430599\n",
      "142.440971\n",
      "0.04486199999999485\n",
      "\n",
      "\n",
      "Stage 6\n",
      "142.582864\n",
      "142.593974\n",
      "142.608126\n",
      "0.025261999999997897\n",
      "\n",
      "\n",
      "Stage 7\n",
      "142.842789\n",
      "142.894494\n",
      "142.904\n",
      "0.061210999999985916\n",
      "\n",
      "\n",
      "Stage 8\n",
      "143.043018\n",
      "143.081551\n",
      "143.099235\n",
      "0.056217000000003736\n",
      "\n",
      "\n",
      "Stage 9\n",
      "143.120781\n",
      "143.144603\n",
      "143.153464\n",
      "0.03268300000002\n",
      "\n",
      "\n",
      "Stage 10\n",
      "143.257273\n",
      "143.271217\n",
      "143.27894356613757\n",
      "0.021670566137572678\n",
      "\n",
      "\n"
     ]
    }
   ],
   "source": [
    "#For debug\n",
    "#secc send is based on 802.11 capture file (not 802.11_TCP combined file)\n",
    "i = 3\n",
    "for j in range(0, 10):\n",
    "    print(\"Stage \" + str(j+1))\n",
    "    print(evcc_send_time_anchor[i][j])\n",
    "    print(secc_send_time_anchor[i][j])\n",
    "    print(evcc_blockAck_time_anchor[i][j])\n",
    "    print(evcc_blockAck_time_anchor[i][j]-evcc_send_time_anchor[i][j])\n",
    "    print(\"\\n\")"
   ]
  },
  {
   "cell_type": "code",
   "execution_count": 284,
   "metadata": {},
   "outputs": [],
   "source": [
    "path = 'max_80211_pcap_processing.txt'\n",
    "f = open(path, 'w')\n",
    "for i in range(0, len(evcc_send_time_anchor)):\n",
    "    for j in range(0, len(evcc_send_time_anchor[i])):\n",
    "        print((evcc_blockAck_time_anchor[i][j] - evcc_send_time_anchor[i][j])*1000, file=f, end=\"\")\n",
    "        f.writelines('\\t')\n",
    "    f.writelines('\\t')\n",
    "    print((evcc_blockAck_time_anchor[i][1] - evcc_send_time_anchor[i][0])*1000, file=f, end=\"\")\n",
    "    f.writelines('\\t')\n",
    "    print((evcc_blockAck_time_anchor[i][len(evcc_blockAck_time_anchor[i])-1] - evcc_send_time_anchor[i][0])*1000, file=f, end=\"\")\n",
    "    f.writelines('\\t')\n",
    "    f.writelines('20')\n",
    "    f.writelines('\\t')\n",
    "    f.writelines('0')\n",
    "    f.writelines('\\t')\n",
    "    f.writelines('\\n')\n",
    "f.close()"
   ]
  },
  {
   "cell_type": "code",
   "execution_count": null,
   "metadata": {},
   "outputs": [],
   "source": []
  }
 ],
 "metadata": {
  "kernelspec": {
   "display_name": "Python 3 (ipykernel)",
   "language": "python",
   "name": "python3"
  },
  "language_info": {
   "codemirror_mode": {
    "name": "ipython",
    "version": 3
   },
   "file_extension": ".py",
   "mimetype": "text/x-python",
   "name": "python",
   "nbconvert_exporter": "python",
   "pygments_lexer": "ipython3",
   "version": "3.8.8"
  }
 },
 "nbformat": 4,
 "nbformat_minor": 4
}
