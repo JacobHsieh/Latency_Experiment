{
 "cells": [
  {
   "cell_type": "code",
   "execution_count": 67,
   "id": "b2451030",
   "metadata": {},
   "outputs": [],
   "source": [
    "#Processing evcc block ack\n",
    "import csv\n",
    "import numpy as np\n",
    "\n",
    "def read_from_file(filepath):\n",
    "    with open(filepath) as csvfile:\n",
    "        rows = csv.DictReader(csvfile)\n",
    "        info_list = []\n",
    "        for row in rows:\n",
    "            info_list.append(row['Info'])\n",
    "    return info_list"
   ]
  },
  {
   "cell_type": "code",
   "execution_count": 68,
   "id": "96e263c2",
   "metadata": {},
   "outputs": [],
   "source": [
    "#max_evcc_blockack_list = read_from_file('max_evcc_block_ack.csv')\n",
    "max_evcc_send_list = read_from_file('max_evcc_send.csv')\n",
    "max_secc_send_list = read_from_file('max_secc_send.csv')"
   ]
  },
  {
   "cell_type": "code",
   "execution_count": 69,
   "id": "bcfe7a9f",
   "metadata": {},
   "outputs": [],
   "source": [
    "#Retry counting\n",
    "def retry_counting(info_list):\n",
    "    count = 0\n",
    "    for s in info_list:\n",
    "        if(s[-5] == 'R'):\n",
    "            count = count + 1\n",
    "            #print(s)\n",
    "    retry_rate = count/len(info_list)\n",
    "    print(\"Total #Retry: \" + str(count) + \" , retry rate = \" + str(retry_rate))\n",
    "    return count, retry_rate"
   ]
  },
  {
   "cell_type": "code",
   "execution_count": 70,
   "id": "0f0646d9",
   "metadata": {},
   "outputs": [
    {
     "name": "stdout",
     "output_type": "stream",
     "text": [
      "Total #Retry: 96 , retry rate = 0.03942505133470226\n",
      "Total #Retry: 138 , retry rate = 0.056006493506493504\n"
     ]
    }
   ],
   "source": [
    "#max\n",
    "#max_evcc_blockack_list_retry_count = retry_counting(max_evcc_blockack_list)\n",
    "max_evcc_send_list_retry_count, max_evcc_send_list_retry_rate = retry_counting(max_evcc_send_list)\n",
    "max_secc_send_list_retry_count, max_secc_send_list_retry_rate = retry_counting(max_secc_send_list)"
   ]
  },
  {
   "cell_type": "code",
   "execution_count": 71,
   "id": "f49c3983",
   "metadata": {},
   "outputs": [
    {
     "name": "stdout",
     "output_type": "stream",
     "text": [
      "0.047764849969381504\n"
     ]
    }
   ],
   "source": [
    "max_retry_rate = (max_evcc_send_list_retry_count + max_secc_send_list_retry_count)/(len(max_evcc_send_list)+len(max_secc_send_list))\n",
    "print(max_retry_rate)"
   ]
  },
  {
   "cell_type": "code",
   "execution_count": 72,
   "id": "639b6d12",
   "metadata": {},
   "outputs": [],
   "source": [
    "#no_inter_evcc_blockack_list = read_from_file('0_evcc_block_ack.csv')\n",
    "no_inter_evcc_send_list = read_from_file('0_evcc_send.csv')\n",
    "no_inter_secc_send_list = read_from_file('0_secc_send.csv')"
   ]
  },
  {
   "cell_type": "code",
   "execution_count": 73,
   "id": "bddda759",
   "metadata": {},
   "outputs": [
    {
     "name": "stdout",
     "output_type": "stream",
     "text": [
      "Total #Retry: 119 , retry rate = 0.047372611464968156\n",
      "Total #Retry: 118 , retry rate = 0.04673267326732673\n"
     ]
    }
   ],
   "source": [
    "#no interference\n",
    "#no_inter_evcc_blockack_list_retry_count = retry_counting(no_inter_evcc_blockack_list)\n",
    "no_inter_evcc_send_list_retry_count, no_inter_evcc_send_list_retry_rate = retry_counting(no_inter_evcc_send_list)\n",
    "no_inter_secc_send_list_retry_count, no_inter_secc_send_list_retry_rate = retry_counting(no_inter_secc_send_list)"
   ]
  },
  {
   "cell_type": "code",
   "execution_count": 74,
   "id": "d13404df",
   "metadata": {},
   "outputs": [
    {
     "name": "stdout",
     "output_type": "stream",
     "text": [
      "0.04705181655747469\n"
     ]
    }
   ],
   "source": [
    "no_inter_retry_rate = (no_inter_evcc_send_list_retry_count + no_inter_secc_send_list_retry_count)/(len(no_inter_evcc_send_list)+len(no_inter_secc_send_list))\n",
    "print(no_inter_retry_rate)"
   ]
  },
  {
   "cell_type": "code",
   "execution_count": 43,
   "id": "6b1a8ccd",
   "metadata": {},
   "outputs": [],
   "source": [
    "#TCP retransmission number, counting by wireshark\n",
    "no_inter_evcc_send_tcp_retransmit = 20\n",
    "no_inter_evcc_send_packet_count = 1202\n",
    "no_inter_secc_send_tcp_retransmit = 1\n",
    "no_inter_secc_send_packet_count = 1219\n",
    "\n",
    "max_evcc_send_tcp_retransmit = 14\n",
    "max_evcc_send_packet_count = 1192\n",
    "max_secc_send_tcp_retransmit = 3\n",
    "max_secc_send_packet_count = 1203"
   ]
  },
  {
   "cell_type": "code",
   "execution_count": 44,
   "id": "aa35eadc",
   "metadata": {},
   "outputs": [
    {
     "name": "stdout",
     "output_type": "stream",
     "text": [
      "0.016638935108153077\n"
     ]
    }
   ],
   "source": [
    "no_inter_evcc_send_retrans_rate = no_inter_evcc_send_tcp_retransmit/no_inter_evcc_send_packet_count\n",
    "print(no_inter_evcc_send_retrans_rate)"
   ]
  },
  {
   "cell_type": "code",
   "execution_count": 45,
   "id": "6d204ba1",
   "metadata": {},
   "outputs": [
    {
     "name": "stdout",
     "output_type": "stream",
     "text": [
      "0.0008203445447087777\n"
     ]
    }
   ],
   "source": [
    "no_inter_secc_send_retrans_rate = no_inter_secc_send_tcp_retransmit/no_inter_secc_send_packet_count\n",
    "print(no_inter_secc_send_retrans_rate)"
   ]
  },
  {
   "cell_type": "code",
   "execution_count": 46,
   "id": "f6ad9fd9",
   "metadata": {},
   "outputs": [
    {
     "name": "stdout",
     "output_type": "stream",
     "text": [
      "0.01174496644295302\n"
     ]
    }
   ],
   "source": [
    "max_evcc_send_tcp_retrans_rate = max_evcc_send_tcp_retransmit/max_evcc_send_packet_count\n",
    "print(max_evcc_send_tcp_retrans_rate)"
   ]
  },
  {
   "cell_type": "code",
   "execution_count": 47,
   "id": "cb727ae0",
   "metadata": {},
   "outputs": [
    {
     "name": "stdout",
     "output_type": "stream",
     "text": [
      "0.0024937655860349127\n"
     ]
    }
   ],
   "source": [
    "max_secc_send_tcp_retrans_rate = max_secc_send_tcp_retransmit/max_secc_send_packet_count\n",
    "print(max_secc_send_tcp_retrans_rate)"
   ]
  },
  {
   "cell_type": "code",
   "execution_count": 78,
   "id": "5012b2a7",
   "metadata": {},
   "outputs": [],
   "source": [
    "max_data_link_retry_rate = [max_evcc_send_list_retry_rate, max_secc_send_list_retry_rate, max_retry_rate]\n",
    "no_inter_data_link_retry_rate = [no_inter_evcc_send_list_retry_rate, no_inter_secc_send_list_retry_rate, no_inter_retry_rate]"
   ]
  },
  {
   "cell_type": "code",
   "execution_count": 90,
   "id": "cfd32234",
   "metadata": {},
   "outputs": [
    {
     "data": {
      "text/plain": [
       "Text(0, 0.5, 'Data link layer retry rate')"
      ]
     },
     "execution_count": 90,
     "metadata": {},
     "output_type": "execute_result"
    },
    {
     "data": {
      "image/png": "[encoded data removed]",
      "text/plain": [
       "<Figure size 864x432 with 1 Axes>"
      ]
     },
     "metadata": {},
     "output_type": "display_data"
    }
   ],
   "source": [
    "import pandas as pd\n",
    "import seaborn as sns\n",
    "\n",
    "sns.set(rc={'figure.figsize':(12,6)})\n",
    "#darkgrid, dark, whitegrid, white, ticks\n",
    "sns.set_style('whitegrid')\n",
    "\n",
    "df = pd.DataFrame([\n",
    "    ['evcc', 'no interference', no_inter_data_link_retry_rate[0]],\n",
    "    ['secc', 'no interference', no_inter_data_link_retry_rate[1]],\n",
    "    ['total', 'no interference', no_inter_data_link_retry_rate[2]],\n",
    "    ['evcc', 'max interference', max_data_link_retry_rate[0]],\n",
    "    ['secc', 'max interference', max_data_link_retry_rate[1]],\n",
    "    ['total', 'max interference', max_data_link_retry_rate[2]],\n",
    "], columns=['entity', 'Interference', 'Retry rate'])\n",
    "\n",
    "ax = sns.barplot(x='entity', y='Retry rate', hue='Interference', data=df)\n",
    "ax.set_title('Data link layer retry rate comparison', fontsize = 20)\n",
    "ax.set_xlabel(\"Sender\", fontsize = 12)\n",
    "ax.set_ylabel(\"Data link layer retry rate\", fontsize = 16)"
   ]
  },
  {
   "cell_type": "code",
   "execution_count": 92,
   "id": "b05ce36b",
   "metadata": {},
   "outputs": [
    {
     "data": {
      "text/plain": [
       "Text(0, 0.5, 'TCP retransmission rate')"
      ]
     },
     "execution_count": 92,
     "metadata": {},
     "output_type": "execute_result"
    },
    {
     "data": {
      "image/png": "[encoded data removed]",
      "text/plain": [
       "<Figure size 864x432 with 1 Axes>"
      ]
     },
     "metadata": {},
     "output_type": "display_data"
    }
   ],
   "source": [
    "sns.set(rc={'figure.figsize':(12,6)})\n",
    "#darkgrid, dark, whitegrid, white, ticks\n",
    "sns.set_style('whitegrid')\n",
    "\n",
    "tcp_retry_rate_total = [21/(1202+1219), 17/(1192+1203)]\n",
    "\n",
    "df2 = pd.DataFrame([\n",
    "    ['evcc', 'no interference', no_inter_evcc_send_retrans_rate],\n",
    "    ['secc', 'no interference', no_inter_secc_send_retrans_rate],\n",
    "    ['total', 'no interference', tcp_retry_rate_total[0]],\n",
    "    ['evcc', 'max interference', max_evcc_send_tcp_retrans_rate],\n",
    "    ['secc', 'max interference', max_secc_send_tcp_retrans_rate],\n",
    "    ['total', 'max interference', tcp_retry_rate_total[1]],\n",
    "], columns=['entity', 'Interference', 'Retransmission rate'])\n",
    "\n",
    "ax = sns.barplot(x='entity', y='Retransmission rate', hue='Interference', data=df2)\n",
    "ax.set_title('TCP retransmission rate comparison', fontsize = 20)\n",
    "ax.set_xlabel(\"Sender\", fontsize = 12)\n",
    "ax.set_ylabel(\"TCP retransmission rate\", fontsize = 16)"
   ]
  },
  {
   "cell_type": "code",
   "execution_count": null,
   "id": "17953ec3",
   "metadata": {},
   "outputs": [],
   "source": [
    "#Data Link Layer total retry rate 高了一點點，兩者 total retry rate 差不多"
   ]
  }
 ],
 "metadata": {
  "kernelspec": {
   "display_name": "Python 3 (ipykernel)",
   "language": "python",
   "name": "python3"
  },
  "language_info": {
   "codemirror_mode": {
    "name": "ipython",
    "version": 3
   },
   "file_extension": ".py",
   "mimetype": "text/x-python",
   "name": "python",
   "nbconvert_exporter": "python",
   "pygments_lexer": "ipython3",
   "version": "3.8.8"
  }
 },
 "nbformat": 4,
 "nbformat_minor": 5
}
