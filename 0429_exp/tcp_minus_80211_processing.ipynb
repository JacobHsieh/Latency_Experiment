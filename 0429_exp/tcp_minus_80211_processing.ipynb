{
 "cells": [
  {
   "cell_type": "code",
   "execution_count": 27,
   "metadata": {},
   "outputs": [
    {
     "name": "stdout",
     "output_type": "stream",
     "text": [
      "no_interference_80211_pcap_processing.txt has 280 of entries.\n",
      "max_80211_pcap_processing.txt has 280 of entries.\n",
      "no_interference_TCP_pcap_processing.txt has 280 of entries.\n",
      "max_interference_TCP_pcap_processing.txt has 280 of entries.\n"
     ]
    }
   ],
   "source": [
    "import csv\n",
    "\n",
    "def read_int_from_file(file_location):\n",
    "    numbers = []\n",
    "    with open(file_location) as tsv:\n",
    "        for column in [line for line in csv.reader(tsv, dialect=\"excel-tab\")]:\n",
    "            for num in column:\n",
    "                numbers.append(num)\n",
    "    while '' in numbers:\n",
    "        numbers.remove('')\n",
    "    \n",
    "    #print(numbers)\n",
    "    print(file_location + \" has \" + str(len(numbers)) + \" of entries.\")\n",
    "    numbers_int = map(int, numbers)\n",
    "    numbers_int_list = list(numbers_int)\n",
    "    \n",
    "    return numbers_int_list\n",
    "\n",
    "def read_float_from_file(file_location):\n",
    "    numbers = []\n",
    "    with open(file_location) as tsv:\n",
    "        for column in [line for line in csv.reader(tsv, dialect=\"excel-tab\")]:\n",
    "            for num in column:\n",
    "                numbers.append(num)\n",
    "    while '' in numbers:\n",
    "        numbers.remove('')\n",
    "    \n",
    "    #print(numbers)\n",
    "    print(file_location + \" has \" + str(len(numbers)) + \" of entries.\")\n",
    "    numbers_float = map(float, numbers)\n",
    "    numbers_float_list = list(numbers_float)\n",
    "    \n",
    "    return numbers_float_list\n",
    "\n",
    "interference_0_80211_list = read_float_from_file(\"no_interference_80211_pcap_processing.txt\")\n",
    "interference_2_80211_list = read_float_from_file(\"max_80211_pcap_processing.txt\")\n",
    "\n",
    "interference_0_list_TCP = read_float_from_file(\"no_interference_TCP_pcap_processing.txt\")\n",
    "interference_2_list_TCP = read_float_from_file(\"max_interference_TCP_pcap_processing.txt\")"
   ]
  },
  {
   "cell_type": "code",
   "execution_count": 28,
   "metadata": {},
   "outputs": [
    {
     "name": "stdout",
     "output_type": "stream",
     "text": [
      "-17.37200000000172\t In testing round 2, Stage 6\n",
      "-0.3629999999930078\t In testing round 10, Stage 8\n",
      "-13.82499999999709\t In testing round 19, Stage 8\n",
      "3 entries are negative.\n",
      "\n"
     ]
    }
   ],
   "source": [
    "def calculate_latency_difference(list_80211, TCP_list):\n",
    "    cnt_negative = 0\n",
    "    if(len(list_80211) == len(TCP_list)):\n",
    "        compare_list = []\n",
    "        for i in range(0, len(TCP_list)):\n",
    "            if(TCP_list[i]-list_80211[i] < 0):\n",
    "                cnt_negative = cnt_negative + 1\n",
    "                print(TCP_list[i]-list_80211[i], end=\"\\t\")\n",
    "                print(\" In testing round \" + str(i//14+1) + \", Stage \" + str(i%14+1))\n",
    "            compare_list.append(TCP_list[i]-list_80211[i])\n",
    "        print(str(cnt_negative) + \" entries are negative.\\n\")\n",
    "        return compare_list\n",
    "    else:\n",
    "        print(\"Length is not conformed.\")\n",
    "        return\n",
    "\n",
    "compare_list_0 = calculate_latency_difference(interference_0_80211_list, interference_0_list_TCP)\n",
    "#compare_list_2 = calculate_latency_difference(interference_2_80211_list, interference_2_list_TCP)"
   ]
  },
  {
   "cell_type": "code",
   "execution_count": 29,
   "metadata": {},
   "outputs": [
    {
     "name": "stdout",
     "output_type": "stream",
     "text": [
      "280\n",
      "280\n"
     ]
    }
   ],
   "source": [
    "print(len(compare_list_0))\n",
    "print(len(compare_list_2))"
   ]
  },
  {
   "cell_type": "code",
   "execution_count": 30,
   "metadata": {},
   "outputs": [],
   "source": [
    "def write_in_txt(path, compare_list):\n",
    "    f = open(path, 'w')\n",
    "    for i in range(0, len(compare_list)):\n",
    "        print(compare_list[i], file=f, end=\"\")\n",
    "        f.writelines('\\t')\n",
    "        if(i % 14 == 9): f.writelines('\\t')\n",
    "        if(i % 14 == 13): f.writelines('\\n')\n",
    "    f.close()\n",
    "\n",
    "write_in_txt('no_interference_TCP_minus_80211.txt', compare_list_0)\n",
    "write_in_txt('max_interference_TCP_minus_80211.txt', compare_list_2)"
   ]
  },
  {
   "cell_type": "code",
   "execution_count": null,
   "metadata": {},
   "outputs": [],
   "source": []
  },
  {
   "cell_type": "code",
   "execution_count": null,
   "metadata": {},
   "outputs": [],
   "source": []
  }
 ],
 "metadata": {
  "kernelspec": {
   "display_name": "Python 3 (ipykernel)",
   "language": "python",
   "name": "python3"
  },
  "language_info": {
   "codemirror_mode": {
    "name": "ipython",
    "version": 3
   },
   "file_extension": ".py",
   "mimetype": "text/x-python",
   "name": "python",
   "nbconvert_exporter": "python",
   "pygments_lexer": "ipython3",
   "version": "3.8.8"
  }
 },
 "nbformat": 4,
 "nbformat_minor": 4
}
